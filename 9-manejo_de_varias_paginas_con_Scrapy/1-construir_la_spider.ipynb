{
 "cells": [
  {
   "cell_type": "markdown",
   "metadata": {},
   "source": [
    "### **Construir la spider**"
   ]
  },
  {
   "cell_type": "markdown",
   "metadata": {},
   "source": [
    "Vamos a trabajar con el siguiente website:\n",
    "\n",
    "https://www.audible.com/search"
   ]
  },
  {
   "cell_type": "markdown",
   "metadata": {},
   "source": [
    "Vamos a comenzar creando una nueva spider llamada \"**`audible`**\", siempre en la ruta dentro del directorio **`spider_tutorial`**, que corresponde al directorio de mi proyecto. El spider recién creado se creará en la ruta **`/spider_tutorial/spider_tutorial/spiders/audible.py`**:\n",
    "\n",
    "<center><img src=\"https://i.postimg.cc/jqyzH3H9/ws-99.png\"></center>\n",
    "\n",
    "<center><img src=\"https://i.postimg.cc/65wCYVzQ/ws-100.png\"></center>"
   ]
  },
  {
   "cell_type": "markdown",
   "metadata": {},
   "source": [
    "Es la caja donde estan listados todos los audiolibros:\n",
    "\n",
    "<center><img src=\"https://i.postimg.cc/C50nrYG2/ws-101.png\"></center>\n",
    "<center><img src=\"https://i.postimg.cc/kgY8J0CV/ws-102.png\"></center>"
   ]
  },
  {
   "cell_type": "markdown",
   "metadata": {},
   "source": [
    "Es el `<tag>` que contiene cada uno de los audiolibros:\n",
    "\n",
    "<center><img src=\"https://i.postimg.cc/xdkmc6j6/ws-103.png\"></center>"
   ]
  },
  {
   "cell_type": "markdown",
   "metadata": {},
   "source": [
    "Es el `<tag>` que contiene el nombre del audiolibro:\n",
    "\n",
    "<center><img src=\"https://i.postimg.cc/wvLsk3mJ/ws-104.png\"></center>"
   ]
  },
  {
   "cell_type": "markdown",
   "metadata": {},
   "source": [
    "Es el `<tag>` que contiene el nombre del autor del audiolibro:\n",
    "\n",
    "<center><img src=\"https://i.postimg.cc/KvNBVKsD/ws-105.png\"></center>"
   ]
  },
  {
   "cell_type": "markdown",
   "metadata": {},
   "source": [
    "Es el `<tag>` que contiene la duración del audiolibro:\n",
    "\n",
    "<center><img src=\"https://i.postimg.cc/YSJWgQhM/ws-106.png\"></center>"
   ]
  },
  {
   "cell_type": "markdown",
   "metadata": {},
   "source": [
    "Por tanto, el código queda de esta manera:\n",
    "\n",
    "<center><img src=\"https://i.postimg.cc/02CMybmX/ws-107.png\"></center>"
   ]
  },
  {
   "cell_type": "markdown",
   "metadata": {},
   "source": [
    "Si ejecutamos el scrapeo por consola:\n",
    "\n",
    "<center><img src=\"https://i.postimg.cc/135gnsrm/ws-108.png\"></center>\n",
    "<center><img src=\"https://i.postimg.cc/7L5f99Rj/ws-109.png\"></center>"
   ]
  },
  {
   "cell_type": "markdown",
   "metadata": {},
   "source": [
    "Y si queremos extraer esta data en un archivo **`JSON`**:\n",
    "\n",
    "<center><img src=\"https://i.postimg.cc/NjJKRSd1/ws-110.png\"></center>\n",
    "<center><img src=\"https://i.postimg.cc/pd3y68br/ws-111.png\"></center>"
   ]
  },
  {
   "cell_type": "markdown",
   "metadata": {},
   "source": [
    "O también podemos extraer la data en un archivo **`CSV`**:\n",
    "\n",
    "<center><img src=\"https://i.postimg.cc/LXvwsk96/ws-112.png\"></center>\n",
    "<center><img src=\"https://i.postimg.cc/X725grJG/ws-113.png\"></center>"
   ]
  }
 ],
 "metadata": {
  "language_info": {
   "name": "python"
  }
 },
 "nbformat": 4,
 "nbformat_minor": 2
}
