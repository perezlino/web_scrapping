{
 "cells": [
  {
   "cell_type": "markdown",
   "metadata": {},
   "source": [
    "### **Paginación**"
   ]
  },
  {
   "cell_type": "markdown",
   "metadata": {},
   "source": [
    "Seguimos trabajando en el enlace:\n",
    "\n",
    "https://www.audible.com/search"
   ]
  },
  {
   "cell_type": "markdown",
   "metadata": {},
   "source": [
    "Vamos a inspeccionar el website:\n",
    "\n",
    "<center><img src=\"https://i.postimg.cc/SNP3Np03/ws-116.png\"></center>\n",
    "\n",
    "Buscamos la caja que contiene la paginación:\n",
    "\n",
    "<center><img src=\"https://i.postimg.cc/7YhjkZRS/ws-114.png\"></center>\n",
    "\n",
    "Buscamos el botón de página siguiente:\n",
    "\n",
    "<center><img src=\"https://i.postimg.cc/t4VfsmpT/ws-115.png\"></center>"
   ]
  },
  {
   "cell_type": "markdown",
   "metadata": {},
   "source": [
    "Nuestro código quedaría de la siguiente manera:\n",
    "\n",
    "<center><img src=\"https://i.postimg.cc/65rNkKff/ws-117.png\"></center>\n",
    "\n",
    "Así que en la condición **`if`** que escribimos significa que si hay una \"página siguiente\" o si la \"página siguiente\" existe, vaya a la \"página siguiente\". Pero si no hay una página \"página siguiente\", a continuación, detener el proceso de scraping. Esto es mucho más fácil que el bucle while que se utilizaría en Selenium."
   ]
  },
  {
   "cell_type": "markdown",
   "metadata": {},
   "source": [
    "Y podemos extraer la data en un archivo **`CSV`**:\n",
    "\n",
    "<center><img src=\"https://i.postimg.cc/Vkzc1h7Q/ws-118.png\"></center>\n",
    "<center><img src=\"https://i.postimg.cc/7ZXrLNcC/ws-119.png\"></center>\n",
    "<center><img src=\"https://i.postimg.cc/br61JWQC/ws-120.png\"></center>"
   ]
  },
  {
   "cell_type": "markdown",
   "metadata": {},
   "source": [
    "`Al momento de extraer multiples paginas dentro de un sitio se recomienda utilizar Scrapy sobre Selenium, porque es MUCHO MÁS RÁPIDO.`"
   ]
  }
 ],
 "metadata": {
  "language_info": {
   "name": "python"
  }
 },
 "nbformat": 4,
 "nbformat_minor": 2
}
