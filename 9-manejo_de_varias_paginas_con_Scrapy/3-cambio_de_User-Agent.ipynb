{
 "cells": [
  {
   "cell_type": "markdown",
   "metadata": {},
   "source": [
    "### **Cambio de User-Agent**"
   ]
  },
  {
   "cell_type": "markdown",
   "metadata": {},
   "source": [
    "Seguimos trabajando en el enlace:\n",
    "\n",
    "https://www.audible.com/search"
   ]
  },
  {
   "cell_type": "markdown",
   "metadata": {},
   "source": [
    "Hasta ahora, hemos raspado todas las páginas de este sitio web, sin embargo, este sitio web ya sabe que estamos usando Scrapy porque estamos enviando requests usando el **`user agent`** por defecto. Ahora, voy a mostrarte cómo ver el user agent en Scrapy. \n",
    "\n",
    "Así que en primer lugar, abriremos el terminal y escribiremos este comando **`scrapy shell`**, luego dentro de comillas, a la derecha, el enlace de la página web **`https://www.audible.com/search`** y pulsaremos enter.\n",
    "\n",
    "<center><img src=\"https://i.postimg.cc/C1Zxp2cH/ws-121.png\"></center>\n",
    "\n",
    "Ahora para obtener el user agent, tenemos que escribir **`request.headers`**. Luego presiono enter y vemos aquí un diccionario. Y una de las keys de este diccionario es **`user agent`**. Así que aquí está el user agent, en el value dicho a este user agent tiene la palabra **`Scrapy`**. Así que con esto, el sitio web sabrá fácilmente que estábamos usando Scrapy para scrapear el sitio web. Esto no es una buena práctica. Así que lo que tenemos que hacer es cambiar el user agent para que parezca que estamos enviando la petición usando chrome.\n",
    "\n",
    "<center><img src=\"https://i.postimg.cc/26P8kxJp/ws-122.png\"></center>"
   ]
  },
  {
   "cell_type": "markdown",
   "metadata": {},
   "source": [
    "Primero voy a mostrarte **`cómo obtener el user agent que estás usando actualmente en tu navegador`**:\n",
    "\n",
    "<center><img src=\"https://i.postimg.cc/prPpV1w9/ws-123.png\"></center>\n",
    "\n",
    "Primero seleccionamos **`Red`** (Network) y luego recargamos el sitio:\n",
    "\n",
    "<center><img src=\"https://i.postimg.cc/x8gqX3Q6/ws-124.png\"></center>\n",
    "\n",
    "Filtramos por la palabra **`html`** y luego seleccionamos el elemento que aparece indicado:\n",
    "\n",
    "<center><img src=\"https://i.postimg.cc/DfcSpnG1/ws-125.png\"></center>\n",
    "\n",
    "Seleccionamos **`Encabezados`** (Headers) y buscamos nuestro **`User-Agent`**:\n",
    "\n",
    "<center><img src=\"https://i.postimg.cc/WbbhQCmC/ws-126.png\"></center>"
   ]
  },
  {
   "cell_type": "markdown",
   "metadata": {},
   "source": [
    "Existen 3 formas de fijar el User-Agent que estamos utilizando:\n",
    "\n",
    "**PRIMERA FORMA**\n",
    "\n",
    "Nos dirigimos al archivo **`settings.py`** y editamos USER-AGENT: \n",
    "\n",
    "<center><img src=\"https://i.postimg.cc/4yb5SqgB/ws-129.png\"></center>\n",
    "<center><img src=\"https://i.postimg.cc/Pfm2JpwY/ws-130.png\"></center>\n",
    "\n",
    "**SEGUNDA FORMA**\n",
    "\n",
    "Nos dirigimos al archivo **`settings.py`** y editamos DEFAULT_REQUEST_HEADERS: \n",
    "\n",
    "<center><img src=\"https://i.postimg.cc/sXWKp10F/ws-127.png\"></center>\n",
    "<center><img src=\"https://i.postimg.cc/90jb1VvD/ws-128.png\"></center>"
   ]
  },
  {
   "cell_type": "markdown",
   "metadata": {},
   "source": [
    "**TERCERA FORMA**\n",
    "\n",
    "Es indicarlo dentro del script y asi es como lo haremos.\n",
    "\n",
    "Utilizamos el **`User-Agent de Chrome`**:\n",
    "\n",
    "**`Mozilla/5.0 (Windows NT 10.0; Win64; x64) AppleWebKit/537.36 (KHTML, like Gecko) Chrome/122.0.0.0 Safari/537.36`**"
   ]
  },
  {
   "cell_type": "code",
   "execution_count": null,
   "metadata": {},
   "outputs": [],
   "source": [
    "import scrapy\n",
    "\n",
    "\n",
    "class AudibleSpider(scrapy.Spider):\n",
    "    name = 'audible'\n",
    "    allowed_domains = ['www.audible.com']\n",
    "    start_urls = ['https://www.audible.com/search/']\n",
    "\n",
    "    def start_requests(self):\n",
    "        # Editar los headers por defecto (user-agent)\n",
    "        yield scrapy.Request(url='https://www.audible.com/search/', callback=self.parse,\n",
    "                       headers={'User-Agent':'Mozilla/5.0 (Windows NT 10.0; Win64; x64) AppleWebKit/537.36 (KHTML, like Gecko) Chrome/122.0.0.0 Safari/537.36'})\n",
    "\n",
    "    def parse(self, response):\n",
    "        # Obtener la caja que contiene toda la información que queremos (título, autor, longitud)\n",
    "        product_container = response.xpath('//li[contains(@class , \"productListItem\")]')\n",
    "\n",
    "        # Recorrer en bucle cada uno de los productos enumerados en la caja product_container\n",
    "        for product in product_container:\n",
    "            book_title = product.xpath('.//h3[contains(@class , \"bc-heading\")]/a/text()').get()\n",
    "            book_author = product.xpath('.//li[contains(@class , \"authorLabel\")]/span/a/text()').getall()\n",
    "            book_length = product.xpath('.//li[contains(@class , \"runtimeLabel\")]/span/text()').get()\n",
    "\n",
    "            # Devuelve los datos extraídos y también el user agent definido anteriormente\n",
    "            yield {\n",
    "                'title':book_title,\n",
    "                'author':book_author,\n",
    "                'length':book_length,\n",
    "                # Retornamos el user-agent solo para comprobar que esta correcto el que agregamos\n",
    "                'User-Agent':response.request.headers['User-Agent'], \n",
    "            }\n",
    "\n",
    "        # Obtener la barra de paginación (pagination) y luego el enlace dentro del botón de página siguiente (next_page_url)\n",
    "        pagination = response.xpath('//ul[contains(@class , \"pagingElements\")]')\n",
    "        next_page_url = pagination.xpath('.//span[contains(@class , \"nextButton\")]/a/@href').get()\n",
    "\n",
    "        # Ir al enlace \"next_page_url\" usando el user agent definido antes\n",
    "        if next_page_url:\n",
    "            yield response.follow(url=next_page_url, callback=self.parse,\n",
    "                                  headers={'User-Agent':'Mozilla/5.0 (Windows NT 10.0; Win64; x64) AppleWebKit/537.36 (KHTML, like Gecko) Chrome/122.0.0.0 Safari/537.36'})\n"
   ]
  },
  {
   "cell_type": "markdown",
   "metadata": {},
   "source": [
    "Por tanto, si ahora lo ejecutamos por consola:\n",
    "\n",
    "<center><img src=\"https://i.postimg.cc/6pTxRJnr/ws-132.png\"></center>\n",
    "<center><img src=\"https://i.postimg.cc/3x65FSFP/ws-133.png\"></center>"
   ]
  }
 ],
 "metadata": {
  "language_info": {
   "name": "python"
  }
 },
 "nbformat": 4,
 "nbformat_minor": 2
}
