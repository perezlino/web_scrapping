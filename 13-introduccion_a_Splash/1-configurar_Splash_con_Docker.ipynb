{
 "cells": [
  {
   "cell_type": "markdown",
   "metadata": {},
   "source": [
    "### **Configurar Splash con Docker**"
   ]
  },
  {
   "cell_type": "markdown",
   "metadata": {},
   "source": [
    "En esta sección, aprenderemos Splash. Scrapy por sí solo no nos permite scrapear sitios web basados en JavaScript, así que tenemos que añadirle Splash. Seguiremos scrapeando sitios web usando Python/Scrapy, pero, además de eso, construiremos un pequeño script en Splash para obtener el código HTML detrás del sitio web JavaScript que deseamos scrapear."
   ]
  },
  {
   "cell_type": "markdown",
   "metadata": {},
   "source": [
    "Para instalar Splash primero necesitamos descargar **`Docker`**. Docker ofrece la posibilidad de empaquetar y ejecutar una aplicación en un entorno poco aislado (loosely isolated) llamado contenedor. Los contenedores son ligeros y contienen todo lo necesario para ejecutar una aplicación como Splash. Así que no necesitas depender de lo que está instalado actualmente en un determinado host."
   ]
  },
  {
   "cell_type": "markdown",
   "metadata": {},
   "source": [
    "Desde la terminal escribimos el siguiente comando:\n",
    "\n",
    "**`docker pull scrapinghub/splash `**\n",
    "\n",
    "Lo que estamos descargando aquí son imágenes. Cuando utilizas Docker, estás creando y utilizando imágenes, contenedores y otros objetos. Una imagen es una plantilla de sólo lectura con instrucciones para crear un contenedor Docker.\n",
    "\n",
    "<center><img src=\"https://i.postimg.cc/NFXk963J/ws-215.png\"></center>\n",
    "<center><img src=\"https://i.postimg.cc/CMnNQ0RG/ws-216.png\"></center>"
   ]
  },
  {
   "cell_type": "markdown",
   "metadata": {},
   "source": [
    "Luego, hacemos correr el contenedor asociado a la imagen que descargamos con el siguiente comando:\n",
    "\n",
    "**`docker run -it -p 8050:8050 scrapinghub/splash`**\n",
    "\n",
    "Al final nos devuelve un mensaje y una http, la cual nos servirá para conectarnos a **`Splash`**.\n",
    "\n",
    "<center><img src=\"https://i.postimg.cc/CLj4w4Hd/ws-217.png\"></center>"
   ]
  },
  {
   "cell_type": "markdown",
   "metadata": {},
   "source": [
    "Otra forma para echar a correr el contenedor es haciendolo directamente desde **`Docker Desktop`** y luego desde la pestaña **`Log`** podemos ver que nos devuelve el mismo mensaje anterior:\n",
    "\n",
    "<center><img src=\"https://i.postimg.cc/CxSs5fm7/ws-218.png\"></center>\n",
    "<center><img src=\"https://i.postimg.cc/nc8k8Wm6/ws-219.png\"></center>\n",
    "<center><img src=\"https://i.postimg.cc/LsskBFdZ/ws-220.png\"></center>"
   ]
  },
  {
   "cell_type": "markdown",
   "metadata": {},
   "source": [
    "Debiesemos conectarnos utilizando la url:\n",
    "\n",
    "http://0.0.0.0:8050\n",
    "\n",
    "Pero nos devuelve un error. Por tanto, utilizo la siguiente url para conectarme:\n",
    "\n",
    "http://localhost:8050\n",
    "\n",
    "<center><img src=\"https://i.postimg.cc/wj2cmTrp/ws-221.png\"></center>"
   ]
  }
 ],
 "metadata": {
  "language_info": {
   "name": "python"
  }
 },
 "nbformat": 4,
 "nbformat_minor": 2
}
