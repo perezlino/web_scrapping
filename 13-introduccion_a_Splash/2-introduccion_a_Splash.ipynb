{
 "cells": [
  {
   "cell_type": "markdown",
   "metadata": {},
   "source": [
    "### **Introducción a Splash**"
   ]
  },
  {
   "cell_type": "markdown",
   "metadata": {},
   "source": [
    "En esta clase, aprenderemos a escribir código en Splash para que puedas ver como se ejecuta Splash en el navegador. Esta es la interfaz de usuario. A la derecha hay una caja blanca. Puedes introducir el sitio web que quieres scrapear y debajo puedes encontrar el código que tienes que escribir para interactuar con ese JavaScript website. Es decir, este script se va a encargar de cosas como hacer clic en el botón, introducir texto y establecer pesos. Así que el parseo se va a seguir ejecutando en Scrapy. Esto es diferente de Selenium, o podemos hacer ambas cosas en el mismo lugar. Otra gran diferencia entre Selenium y Splash es que no se puede escribir código Python en Splash. Splash utiliza otro lenguaje de programación llamado Lua. Sé que aprender otro lenguaje de programación lleva mucho tiempo, pero créeme, es un lenguaje de programación fácil."
   ]
  },
  {
   "cell_type": "markdown",
   "metadata": {},
   "source": [
    "En la caja blanca ingresamos el **`sitioweb`**. Con **`splash:png()`** obtenemos una screenshot:\n",
    "\n",
    "<center><img src=\"https://i.postimg.cc/Pq9T5pBx/ws-222.png\"></center>\n",
    "<center><img src=\"https://i.postimg.cc/hvqn9F4R/ws-223.png\"></center>"
   ]
  },
  {
   "cell_type": "markdown",
   "metadata": {},
   "source": [
    "Con **`splash:html()`** obtenemos el código HTML de la página ingresada:\n",
    "\n",
    "<center><img src=\"https://i.postimg.cc/RhQBdPq6/ws-224.png\"></center>\n",
    "<center><img src=\"https://i.postimg.cc/jdcTJkGB/ws-225.png\"></center>\n"
   ]
  },
  {
   "cell_type": "markdown",
   "metadata": {},
   "source": [
    "También podemos utilizar ambas variables:\n",
    "\n",
    "<center><img src=\"https://i.postimg.cc/WpMTs4SN/ws-226.png\"></center>\n",
    "<center><img src=\"https://i.postimg.cc/3xbHt0rB/ws-227.png\"></center>"
   ]
  }
 ],
 "metadata": {
  "language_info": {
   "name": "python"
  }
 },
 "nbformat": 4,
 "nbformat_minor": 2
}
