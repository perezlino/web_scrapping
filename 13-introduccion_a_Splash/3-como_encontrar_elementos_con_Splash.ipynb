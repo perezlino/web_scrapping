{
 "cells": [
  {
   "cell_type": "markdown",
   "metadata": {},
   "source": [
    "### **Cómo encontrar elementos con Splash**"
   ]
  },
  {
   "cell_type": "markdown",
   "metadata": {},
   "source": [
    "Vamos a trabajar con el siguiente página:\n",
    "\n",
    "https://www.amazon.com/"
   ]
  },
  {
   "cell_type": "markdown",
   "metadata": {},
   "source": [
    "Inspeccionamos el sitio y buscamos la caja de texto de búsqueda:\n",
    "\n",
    "<center><img src=\"https://i.postimg.cc/hvHPCSFC/ws-228.png\"></center>\n",
    "<center><img src=\"https://i.postimg.cc/FK9FCWqQ/ws-229.png\"></center>"
   ]
  },
  {
   "cell_type": "markdown",
   "metadata": {},
   "source": [
    "Antes de que podamos enviar algún texto a esa input box, tenemos que usar una función llamada **`focus()`**. Cada vez que queramos usar un elemento localizado, tenemos que usar la función **`focus()`**.\n",
    "\n",
    "Lo que hacemos en este código es enviar la palabra \"**`books`**\" a la caja de texto de búsqueda.\n",
    "\n",
    "<center><img src=\"https://i.postimg.cc/L47X4Vqz/ws-230.png\"></center>\n",
    "<center><img src=\"https://i.postimg.cc/28Z51Bvg/ws-231.png\"></center>"
   ]
  },
  {
   "cell_type": "markdown",
   "metadata": {},
   "source": [
    "Inspeccionamos el sitio y buscamos el botón de búsqueda:\n",
    "\n",
    "<center><img src=\"https://i.postimg.cc/LsN9ckKg/ws-232.png\"></center>\n",
    "\n",
    "Lo que hacemos en este código es **`clickear el botón de búsqueda`**, para que realice la búsqueda de la palabra **`books`**.\n",
    "\n",
    "<center><img src=\"https://i.postimg.cc/jS6dX0MX/ws-233.png\"></center>"
   ]
  },
  {
   "cell_type": "markdown",
   "metadata": {},
   "source": [
    "Y obtenemos la screenshot y el código de dicha página:\n",
    "\n",
    "<center><img src=\"https://i.postimg.cc/FHXH3sVz/ws-234.png\"></center>"
   ]
  }
 ],
 "metadata": {
  "language_info": {
   "name": "python"
  }
 },
 "nbformat": 4,
 "nbformat_minor": 2
}
