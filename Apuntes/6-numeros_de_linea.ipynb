{
 "cells": [
  {
   "cell_type": "markdown",
   "metadata": {},
   "source": [
    "### **6 - Números de línea**"
   ]
  },
  {
   "cell_type": "markdown",
   "metadata": {},
   "source": [
    "Los parsers `html.parser` y `html5lib` pueden realizar un seguimiento de en qué parte del documento original se encontró cada etiqueta. Puedes acceder a esta información como `Tag.sourceline` (número de línea) y `Tag.sourcepos` (posición de la etiqueta de inicio dentro de una línea):"
   ]
  },
  {
   "cell_type": "code",
   "execution_count": 2,
   "metadata": {},
   "outputs": [
    {
     "name": "stdout",
     "output_type": "stream",
     "text": [
      "<p>\n",
      " Paragraph 1\n",
      "</p>\n",
      "<p>\n",
      " Paragraph 2\n",
      "</p>\n",
      "\n"
     ]
    }
   ],
   "source": [
    "from bs4 import BeautifulSoup\n",
    "\n",
    "markup = \"<p\\n>Paragraph 1</p>\\n    <p>Paragraph 2</p>\"\n",
    "soup = BeautifulSoup(markup, 'html.parser')\n",
    "print(soup.prettify())"
   ]
  },
  {
   "cell_type": "code",
   "execution_count": 3,
   "metadata": {},
   "outputs": [
    {
     "name": "stdout",
     "output_type": "stream",
     "text": [
      "1 0 Paragraph 1\n",
      "3 4 Paragraph 2\n"
     ]
    }
   ],
   "source": [
    "for tag in soup.find_all('p'):\n",
    "    print(tag.sourceline, tag.sourcepos, tag.string)"
   ]
  },
  {
   "cell_type": "markdown",
   "metadata": {},
   "source": [
    "Tenga en cuenta que los dos parsers significan cosas ligeramente diferentes por sourceline y sourcepos. Para html.parser, estos números representan la posición del signo menos que inicial. Para html5lib, estos números representan la posición final del signo mayor que:"
   ]
  },
  {
   "cell_type": "code",
   "execution_count": 4,
   "metadata": {},
   "outputs": [
    {
     "name": "stdout",
     "output_type": "stream",
     "text": [
      "2 0 Paragraph 1\n",
      "3 6 Paragraph 2\n"
     ]
    }
   ],
   "source": [
    "soup = BeautifulSoup(markup, 'html5lib')\n",
    "for tag in soup.find_all('p'):\n",
    "    print(tag.sourceline, tag.sourcepos, tag.string)"
   ]
  },
  {
   "cell_type": "markdown",
   "metadata": {},
   "source": [
    "Puede desactivar esta función introduciendo `store_line_numbers = False` en el constructor de ``BeautifulSoup``:"
   ]
  },
  {
   "cell_type": "code",
   "execution_count": 6,
   "metadata": {},
   "outputs": [
    {
     "name": "stdout",
     "output_type": "stream",
     "text": [
      "None None Paragraph 1\n",
      "None None Paragraph 2\n"
     ]
    }
   ],
   "source": [
    "markup = \"<p\\n>Paragraph 1</p>\\n    <p>Paragraph 2</p>\"\n",
    "soup = BeautifulSoup(markup, 'html.parser', store_line_numbers=False)\n",
    "\n",
    "for tag in soup.find_all('p'):\n",
    "    print(tag.sourceline, tag.sourcepos, tag.string)"
   ]
  }
 ],
 "metadata": {
  "kernelspec": {
   "display_name": "Python 3",
   "language": "python",
   "name": "python3"
  },
  "language_info": {
   "codemirror_mode": {
    "name": "ipython",
    "version": 3
   },
   "file_extension": ".py",
   "mimetype": "text/x-python",
   "name": "python",
   "nbconvert_exporter": "python",
   "pygments_lexer": "ipython3",
   "version": "3.12.1"
  }
 },
 "nbformat": 4,
 "nbformat_minor": 2
}
