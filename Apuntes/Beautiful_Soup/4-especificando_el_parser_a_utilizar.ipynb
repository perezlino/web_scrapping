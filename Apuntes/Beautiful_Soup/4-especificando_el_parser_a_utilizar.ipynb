{
 "cells": [
  {
   "cell_type": "markdown",
   "metadata": {},
   "source": [
    "### **4 - Especificando el parser a utilizar**"
   ]
  },
  {
   "cell_type": "markdown",
   "metadata": {},
   "source": [
    "Si sólo necesitas parsear algo de HTML, puedes \"dump the markup\" en el constructor BeautifulSoup, y probablemente estará bien. Beautiful Soup elegirá un parser por ti y parseará los datos. Pero hay algunos argumentos adicionales que puedes pasar al constructor para cambiar el parser utilizado.\n",
    "\n",
    "El primer argumento del constructor de BeautifulSoup es un string o un filehandle abierto - el markup que quieres parsear. El segundo argumento es cómo quieres que se parsee el markup.\n",
    "\n",
    "Si no especificas nada, obtendrás el mejor parseador HTML que esté instalado. Beautiful Soup clasifica el parser de lxml como el mejor, luego el de html5lib, luego el parser integrado de Python. Puedes anular esto especificando uno de los siguientes:\n",
    "\n",
    "- Qué tipo de markup quieres parsear. Actualmente se soportan \"html\", \"xml\" y \"html5\".\n",
    "- El nombre de la librería de parseo que desea utilizar. Las opciones actualmente soportadas son \"lxml\", \"html5lib\" y \"html.parser\" (el analizador HTML integrado en Python).\n",
    "\n",
    "Si no tienes instalado un parser apropiado, Beautiful Soup ignorará tu re questy elegirá un parser diferente. En este momento, el único parser XML soportado es lxml. Si no tienes lxml instalado, pedir un parser XML no te dará uno, y pedir \"lxml\" tampoco funcionará."
   ]
  },
  {
   "cell_type": "markdown",
   "metadata": {},
   "source": [
    "#### **Diferencias entre parsers**"
   ]
  },
  {
   "cell_type": "markdown",
   "metadata": {},
   "source": [
    "Beautiful Soup presenta la misma interfaz a diferentes parsers, pero cada parser es diferente. Diferentes parsers crearán diferentes árboles de parseo a partir del mismo documento. Las mayores diferencias están entre los analizadores HTML y los analizadores XML. Aquí tienes un documento corto, analizado como HTML:"
   ]
  },
  {
   "cell_type": "code",
   "execution_count": 1,
   "metadata": {},
   "outputs": [
    {
     "name": "stdout",
     "output_type": "stream",
     "text": [
      "<html>\n",
      " <body>\n",
      "  <a>\n",
      "   <b>\n",
      "   </b>\n",
      "  </a>\n",
      " </body>\n",
      "</html>\n",
      "\n"
     ]
    }
   ],
   "source": [
    "from bs4 import BeautifulSoup\n",
    "\n",
    "soup = BeautifulSoup(\"<a><b /></a>\")\n",
    "print(soup.prettify())"
   ]
  },
  {
   "cell_type": "markdown",
   "metadata": {},
   "source": [
    "Dado que una etiqueta `<b />` vacía no es HTML válido, el parser la convierte en un par de etiquetas `<b></b>`.\n",
    "\n",
    "Aquí está el mismo documento analizado como XML (para ejecutarlo es necesario tener `lxml` instalado). Tenga en cuenta que la etiqueta `<b />` vacía se deja sola y que el documento recibe una declaración XML en lugar de colocarse en una etiqueta `<html>`.:"
   ]
  },
  {
   "cell_type": "code",
   "execution_count": 4,
   "metadata": {},
   "outputs": [
    {
     "name": "stdout",
     "output_type": "stream",
     "text": [
      "<?xml version=\"1.0\" encoding=\"utf-8\"?>\n",
      "<a>\n",
      " <b/>\n",
      "</a>\n",
      "\n"
     ]
    }
   ],
   "source": [
    "soup = BeautifulSoup(\"<a><b /></a>\", \"xml\")\n",
    "print(soup.prettify())"
   ]
  },
  {
   "cell_type": "markdown",
   "metadata": {},
   "source": [
    "También hay diferencias entre los parsers HTML. Si le das a Beautiful Soup un documento HTML perfectamente formado, estas diferencias no importarán. Un parser será más rápido que otro, pero todos te darán una estructura de datos exactamente igual a la del documento HTML original.\n",
    "\n",
    "Pero si el documento no está perfectamente formado, los distintos parseadores darán resultados diferentes. He aquí un documento corto no válido analizado con el parser HTML de lxml. Observe que la etiqueta `</p>` colgante simplemente se ignora:"
   ]
  },
  {
   "cell_type": "code",
   "execution_count": 5,
   "metadata": {},
   "outputs": [
    {
     "name": "stdout",
     "output_type": "stream",
     "text": [
      "<html>\n",
      " <body>\n",
      "  <a>\n",
      "  </a>\n",
      " </body>\n",
      "</html>\n",
      "\n"
     ]
    }
   ],
   "source": [
    "soup = BeautifulSoup(\"<a></p>\", \"lxml\")\n",
    "print(soup.prettify())"
   ]
  },
  {
   "cell_type": "markdown",
   "metadata": {},
   "source": [
    "Aquí está el mismo documento parseado usando `html5lib`:"
   ]
  },
  {
   "cell_type": "code",
   "execution_count": 7,
   "metadata": {
    "vscode": {
     "languageId": "shellscript"
    }
   },
   "outputs": [
    {
     "name": "stdout",
     "output_type": "stream",
     "text": [
      "Collecting html5lib\n",
      "  Obtaining dependency information for html5lib from https://files.pythonhosted.org/packages/6c/dd/a834df6482147d48e225a49515aabc28974ad5a4ca3215c18a882565b028/html5lib-1.1-py2.py3-none-any.whl.metadata\n",
      "  Downloading html5lib-1.1-py2.py3-none-any.whl.metadata (16 kB)\n",
      "Requirement already satisfied: six>=1.9 in c:\\users\\alfonso\\appdata\\roaming\\python\\python312\\site-packages (from html5lib) (1.16.0)\n",
      "Collecting webencodings (from html5lib)\n",
      "  Obtaining dependency information for webencodings from https://files.pythonhosted.org/packages/f4/24/2a3e3df732393fed8b3ebf2ec078f05546de641fe1b667ee316ec1dcf3b7/webencodings-0.5.1-py2.py3-none-any.whl.metadata\n",
      "  Downloading webencodings-0.5.1-py2.py3-none-any.whl.metadata (2.1 kB)\n",
      "Downloading html5lib-1.1-py2.py3-none-any.whl (112 kB)\n",
      "   ---------------------------------------- 0.0/112.2 kB ? eta -:--:--\n",
      "   --- ------------------------------------ 10.2/112.2 kB ? eta -:--:--\n",
      "   ------------------------ -------------- 71.7/112.2 kB 991.0 kB/s eta 0:00:01\n",
      "   ---------------------------------------- 112.2/112.2 kB 1.3 MB/s eta 0:00:00\n",
      "Downloading webencodings-0.5.1-py2.py3-none-any.whl (11 kB)\n",
      "Installing collected packages: webencodings, html5lib\n",
      "Successfully installed html5lib-1.1 webencodings-0.5.1\n",
      "Note: you may need to restart the kernel to use updated packages.\n"
     ]
    },
    {
     "name": "stderr",
     "output_type": "stream",
     "text": [
      "\n",
      "[notice] A new release of pip is available: 23.2.1 -> 24.0\n",
      "[notice] To update, run: python.exe -m pip install --upgrade pip\n"
     ]
    }
   ],
   "source": [
    "pip install html5lib"
   ]
  },
  {
   "cell_type": "code",
   "execution_count": 2,
   "metadata": {},
   "outputs": [
    {
     "name": "stdout",
     "output_type": "stream",
     "text": [
      "<html>\n",
      " <head>\n",
      " </head>\n",
      " <body>\n",
      "  <a>\n",
      "   <p>\n",
      "   </p>\n",
      "  </a>\n",
      " </body>\n",
      "</html>\n",
      "\n"
     ]
    }
   ],
   "source": [
    "soup = BeautifulSoup(\"<a></p>\", \"html5lib\")\n",
    "print(soup.prettify())"
   ]
  },
  {
   "cell_type": "markdown",
   "metadata": {},
   "source": [
    "En lugar de ignorar la etiqueta `</p>` colgante, html5lib la empareja con una etiqueta `<p>` de apertura. Este parser también añade una etiqueta `<head>` vacía al documento.\n",
    "\n",
    "Aquí está el mismo documento analizado con el parser HTML integrado de Python:"
   ]
  },
  {
   "cell_type": "code",
   "execution_count": 3,
   "metadata": {},
   "outputs": [
    {
     "name": "stdout",
     "output_type": "stream",
     "text": [
      "<a>\n",
      "</a>\n",
      "\n"
     ]
    }
   ],
   "source": [
    "soup = BeautifulSoup(\"<a></p>\", \"html.parser\")\n",
    "print(soup.prettify())"
   ]
  },
  {
   "cell_type": "markdown",
   "metadata": {},
   "source": [
    "Al igual que html5lib, este parser ignora la etiqueta de cierre `</p>`. A diferencia de html5lib, este parser no intenta crear un documento HTML bien formado añadiendo una etiqueta `<body>`. A diferencia de lxml, ni siquiera se molesta en añadir una etiqueta `<html>`.\n",
    "\n",
    "Dado que el documento \"`<a></p>`\" no es válido, ninguna de estas técnicas es la forma \"correcta\" de manejarlo. El parser html5lib utiliza técnicas que son parte del estándar HTML5, por lo que tiene la mejor reclamación de ser la forma \"correcta\", pero las tres técnicas son legítimas.\n",
    "\n",
    "Las diferencias entre los parsers pueden afectar a tu script. Si estás planeando distribuir tu script a otras personas, o ejecutarlo en múltiples máquinas, deberías especificar un parser en el constructor de BeautifulSoup. Eso reducirá las posibilidades de que tus usuarios parseen un documento de forma diferente a como tú lo parseas."
   ]
  }
 ],
 "metadata": {
  "kernelspec": {
   "display_name": "Python 3",
   "language": "python",
   "name": "python3"
  },
  "language_info": {
   "codemirror_mode": {
    "name": "ipython",
    "version": 3
   },
   "file_extension": ".py",
   "mimetype": "text/x-python",
   "name": "python",
   "nbconvert_exporter": "python",
   "pygments_lexer": "ipython3",
   "version": "3.12.1"
  }
 },
 "nbformat": 4,
 "nbformat_minor": 2
}
