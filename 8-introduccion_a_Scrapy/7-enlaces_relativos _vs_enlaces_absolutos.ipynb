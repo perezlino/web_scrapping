{
 "cells": [
  {
   "cell_type": "markdown",
   "metadata": {},
   "source": [
    "### **Enlaces relativos frente a enlaces absolutos**"
   ]
  },
  {
   "cell_type": "markdown",
   "metadata": {},
   "source": [
    "- **`Enlace relativo`**: solo una parte de la dirección web\n",
    "- **`Enlace absoluto`**: dirección completa"
   ]
  },
  {
   "cell_type": "markdown",
   "metadata": {},
   "source": [
    "En la clase anterior obtuvimos enlaces como enlaces relativos:\n",
    "\n",
    "<center><img src=\"https://i.postimg.cc/63MKQRCM/ws-71.png\"></center>"
   ]
  },
  {
   "cell_type": "markdown",
   "metadata": {},
   "source": [
    "Ahora veremos 3 diferentes maneras para transformar estos enlaces relativos en enlaces absolutos. Para eso, modificaremos el archivo **`worldometers.py`**:\n",
    "\n",
    "**PRIMERA FORMA**\n",
    "\n",
    "<center><img src=\"https://i.postimg.cc/hGN2QXZb/ws-72.png\"></center>\n",
    "<center><img src=\"https://i.postimg.cc/T25XsmXG/ws-73.png\"></center>\n",
    "<center><img src=\"https://i.postimg.cc/02gq1Q8S/ws-74.png\"></center>"
   ]
  },
  {
   "cell_type": "markdown",
   "metadata": {},
   "source": [
    "**SEGUNDA FORMA**\n",
    "\n",
    "<center><img src=\"https://i.postimg.cc/J0X3wKR9/ws-75.png\"></center>\n",
    "<center><img src=\"https://i.postimg.cc/fT4j74KZ/ws-76.png\"></center>\n",
    "<center><img src=\"https://i.postimg.cc/3JgjnLSG/ws-77.png\"></center>"
   ]
  },
  {
   "cell_type": "markdown",
   "metadata": {},
   "source": [
    "**TERCERA FORMA**\n",
    "\n",
    "<center><img src=\"https://i.postimg.cc/Yq5rqRMd/ws-78.png\"></center>\n",
    "<center><img src=\"https://i.postimg.cc/BvsJ2v8D/ws-80.png\"></center>\n",
    "<center><img src=\"https://i.postimg.cc/dVGq7C0w/ws-79.png\"></center>"
   ]
  }
 ],
 "metadata": {
  "language_info": {
   "name": "python"
  }
 },
 "nbformat": 4,
 "nbformat_minor": 2
}
