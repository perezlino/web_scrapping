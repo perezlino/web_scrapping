{
 "cells": [
  {
   "cell_type": "markdown",
   "metadata": {},
   "source": [
    "### **Crear nuestro primer proyecto y Spider**"
   ]
  },
  {
   "cell_type": "markdown",
   "metadata": {},
   "source": [
    "Vamos a utilizar el siguiente enlace:\n",
    "\n",
    "https://www.worldometers.info/world-population/population-by-country/"
   ]
  },
  {
   "cell_type": "markdown",
   "metadata": {},
   "source": [
    "Vamos a crear un nuevo proyecto al cual le daremos el nombre de **`spider_tutorial`**. Debemos escribir el siguiente comando:\n",
    "\n",
    "<center><img src=\"https://i.postimg.cc/nzNW011n/ws-42.png\"></center>\n",
    "\n",
    "<center><img src=\"https://i.postimg.cc/hvx5w7CT/ws-43.png\"></center>"
   ]
  },
  {
   "cell_type": "markdown",
   "metadata": {},
   "source": [
    "Podemos comenzar **`NUESTRO PRIMER SPIDER`** de la siguiente manera:\n",
    "\n",
    "1. cd spider_tutorial\n",
    "2. scrapy gendspider `<nombre_de_nuestra_spider>` `<enlace(no es necesario el https://)>`\n",
    "\n",
    "<center><img src=\"https://i.postimg.cc/cH0bMtZF/ws-44.png\"></center>\n",
    "\n",
    "Luego, se creará de manera automática el siguiente archivo .py:\n",
    "\n",
    "<center><img src=\"https://i.postimg.cc/nz2wdVhp/ws-45.png\"></center>"
   ]
  }
 ],
 "metadata": {
  "language_info": {
   "name": "python"
  }
 },
 "nbformat": 4,
 "nbformat_minor": 2
}
