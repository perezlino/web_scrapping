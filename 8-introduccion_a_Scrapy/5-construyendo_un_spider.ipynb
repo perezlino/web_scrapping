{
 "cells": [
  {
   "cell_type": "markdown",
   "metadata": {},
   "source": [
    "### **Construyendo un spider**"
   ]
  },
  {
   "cell_type": "markdown",
   "metadata": {},
   "source": [
    "Cada vez que queramos localizar un elemento, vamos a utilizar la variable **`response`**. Vamos a modificar el archivo **`worldometers.py`**:"
   ]
  },
  {
   "cell_type": "markdown",
   "metadata": {
    "vscode": {
     "languageId": "plaintext"
    }
   },
   "source": [
    "<center><img src=\"https://i.postimg.cc/cCxcFGn9/ws-60.png\"></center>"
   ]
  },
  {
   "cell_type": "markdown",
   "metadata": {},
   "source": [
    "Tienes que estar ubicado en la carpeta que tiene el archivo \"**`scrapy.cfg`**\". El nombre de esta carpeta es el mismo que el nombre del proyecto que crees. En este caso, el nombre de mi proyecto es \"**`spider_tutorial`**\". Así que ahora que estas ubicado en esa carpeta, dentro de la terminal, vamos a escribir el comando: **`scrapy crawl worldometers`**.\n",
    "\n",
    "<center><img src=\"https://i.postimg.cc/L4DDn5cr/ws-61.png\"></center>"
   ]
  },
  {
   "cell_type": "markdown",
   "metadata": {},
   "source": [
    "De esta manera obtenemos la lista de todos los paises listados en el website:\n",
    "\n",
    "<center><img src=\"https://i.postimg.cc/c45cBj4h/ws-62.png\"></center>\n",
    "<center><img src=\"https://i.postimg.cc/15zH6PP4/ws-63.png\"></center>"
   ]
  }
 ],
 "metadata": {
  "language_info": {
   "name": "python"
  }
 },
 "nbformat": 4,
 "nbformat_minor": 2
}
