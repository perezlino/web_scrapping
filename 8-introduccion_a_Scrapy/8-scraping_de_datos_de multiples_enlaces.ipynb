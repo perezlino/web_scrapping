{
 "cells": [
  {
   "cell_type": "markdown",
   "metadata": {},
   "source": [
    "### **Scraping de datos de múltiples enlaces**"
   ]
  },
  {
   "cell_type": "markdown",
   "metadata": {},
   "source": [
    "Vamos a trabajar en el enlace:\n",
    "\n",
    "https://www.worldometers.info/world-population/india-population/"
   ]
  },
  {
   "cell_type": "markdown",
   "metadata": {},
   "source": [
    "En dicho enlace encontramos 3 tablas en el siguiente orden:\n",
    "\n",
    "1. La población histórica según el año\n",
    "2. El pronóstico poblacional del 2025 al 2050\n",
    "3. Principales ciudades según población\n",
    "\n",
    "<center><img src=\"https://i.postimg.cc/G2Vr5VnR/ws-87.png\"></center>\n",
    "<center><img src=\"https://i.postimg.cc/YSXt1jXh/ws-88.png\"></center>\n",
    "<center><img src=\"https://i.postimg.cc/fydZnCM9/ws-89.png\"></center>"
   ]
  },
  {
   "cell_type": "markdown",
   "metadata": {},
   "source": [
    "Vamos a trabajar con la tabla poblacional histórica:\n",
    "\n",
    "<center><img src=\"https://i.postimg.cc/pV3XGhPj/ws-81.png\"></center>\n",
    "<center><img src=\"https://i.postimg.cc/pX8VgWd6/ws-82.png\"></center>\n",
    "\n",
    "Corresponde a a primera fila de la tabla:\n",
    "\n",
    "<center><img src=\"https://i.postimg.cc/4xQfxWVv/ws-83.png\"></center>\n",
    "\n",
    "Dicho comando busca **`todas las filas de la primera tabla`**, de la tabla de la población histórica según año (por eso el [1]):\n",
    "\n",
    "<center><img src=\"https://i.postimg.cc/FH4FvMds/ws-84.png\"></center>\n",
    "\n",
    "Dicho comando busca **`el año de todas las filas de la primera tabla`**, de la tabla de la población histórica según año (por eso el [1]):\n",
    "\n",
    "<center><img src=\"https://i.postimg.cc/xjN9zfL1/ws-85.png\"></center>\n",
    "\n",
    "Dicho comando busca **`la población de todas las filas de la primera tabla`**, de la tabla de la población histórica según año (por eso el [1]):\n",
    "\n",
    "<center><img src=\"https://i.postimg.cc/Jh71Dj5f/ws-86.png\"></center>\n",
    "<center><img src=\"https://i.postimg.cc/0QbPZx3Z/ws-90.png\"></center>"
   ]
  },
  {
   "cell_type": "markdown",
   "metadata": {},
   "source": [
    "Vamos a modificar el archivo **`worldometers.py`**:\n",
    "\n",
    "<center><img src=\"https://i.postimg.cc/JzM8vjvs/ws-91.png\"></center>\n",
    "\n",
    "Para luego ejecutar en la terminal el comando **`scrapy crawl worldometers`**:\n",
    "\n",
    "<center><img src=\"https://i.postimg.cc/7YgDKKsv/ws-92.png\"></center>\n",
    "\n",
    "Vemos que obtenemos para cada pais, su poblacion y su respectivo año:\n",
    "\n",
    "<center><img src=\"https://i.postimg.cc/8z4GSjgt/ws-93.png\"></center>"
   ]
  },
  {
   "cell_type": "markdown",
   "metadata": {},
   "source": [
    "Vamos a llevar estos datos a un archivo **`JSON`**:\n",
    "\n",
    "<center><img src=\"https://i.postimg.cc/dQRnVdDR/ws-94.png\"></center>\n",
    "<center><img src=\"https://i.postimg.cc/gkYsXJ6C/ws-95.png\"></center>"
   ]
  },
  {
   "cell_type": "markdown",
   "metadata": {},
   "source": [
    "Ahora queremos también obtener el nombre del pais, por tanto volvemos a modificar el archivo **`worldometers.py`**:\n",
    "\n",
    "<center><img src=\"https://i.postimg.cc/gJV5pTf8/ws-96.png\"></center>\n",
    "\n",
    "Y volvemos a llevar estos datos a un archivo **`JSON`**:\n",
    "\n",
    "<center><img src=\"https://i.postimg.cc/Wzsy17vK/ws-97.png\"></center>\n",
    "<center><img src=\"https://i.postimg.cc/MHtFMjZG/ws-98.png\"></center>"
   ]
  }
 ],
 "metadata": {
  "language_info": {
   "name": "python"
  }
 },
 "nbformat": 4,
 "nbformat_minor": 2
}
