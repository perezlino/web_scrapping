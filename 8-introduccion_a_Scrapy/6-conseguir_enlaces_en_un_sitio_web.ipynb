{
 "cells": [
  {
   "cell_type": "markdown",
   "metadata": {},
   "source": [
    "### **Conseguir enlaces en un sitio web**"
   ]
  },
  {
   "cell_type": "markdown",
   "metadata": {},
   "source": [
    "Vamos a utilizar el comando para probar códigos de búsqueda en el sitio con el cual estamos trabajando:\n",
    "\n",
    "**`scrapy shell \"https://www.worldometers.info/world-population/population-by-country/\"`**\n",
    "\n",
    "<center><img src=\"https://i.postimg.cc/nLtpSnHG/ws-65.png\"></center>\n",
    "\n",
    "Y luego realizaremos una búsqueda utilizando el tag `<td>` y `<a>`, con el fin de buscar los enlaces:\n",
    "\n",
    "<center><img src=\"https://i.postimg.cc/LsBRrG5K/ws-66.png\"></center>\n",
    "<center><img src=\"https://i.postimg.cc/4yMT6gLt/ws-67.png\"></center>\n",
    "<center><img src=\"https://i.postimg.cc/SQtqF6Ss/ws-68.png\"></center>"
   ]
  },
  {
   "cell_type": "markdown",
   "metadata": {},
   "source": [
    "Vamos a modificar el archivo **`worldometers.py`**:\n",
    "\n",
    "<center><img src=\"https://i.postimg.cc/vBYMMXx1/ws-69.png\"></center>\n"
   ]
  },
  {
   "cell_type": "markdown",
   "metadata": {},
   "source": [
    "Utilizamos el comando **`quit()`** para salir de la **`scrapy shell`**. Luego, utilizamos el comando **`scrapy crawil worldometers`** para ejecutar el archivo **`worldometers.py`** que acabamos de modificar y asi lograr nuestra busqueda:\n",
    "\n",
    "<center><img src=\"https://i.postimg.cc/wM3pRvVg/ws-70.png\"></center>\n",
    "\n",
    "Aqui obtendremos un **`enlace relativo`**, es decir, que solo obtenemos UNA PARTE DEL ENLACE y no la dirección completa\n",
    "\n",
    "<center><img src=\"https://i.postimg.cc/63MKQRCM/ws-71.png\"></center>"
   ]
  }
 ],
 "metadata": {
  "language_info": {
   "name": "python"
  }
 },
 "nbformat": 4,
 "nbformat_minor": 2
}
