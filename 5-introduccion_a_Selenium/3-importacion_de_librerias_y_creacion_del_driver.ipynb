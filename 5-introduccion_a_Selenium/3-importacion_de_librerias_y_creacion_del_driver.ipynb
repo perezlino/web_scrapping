{
 "cells": [
  {
   "cell_type": "markdown",
   "metadata": {},
   "source": [
    "### **Importación de librerías y creación del driver**"
   ]
  },
  {
   "cell_type": "code",
   "execution_count": 6,
   "metadata": {},
   "outputs": [],
   "source": [
    "from selenium import webdriver\n",
    "\n",
    "website = 'https://www.adamchoi.co.uk/overs/detailed'\n",
    "# Se recomienda utilizar Chrome, pero podriamos utilizar Firefox, Safari, Edge, etc.\n",
    "driver = webdriver.Chrome(executable_path = r'C:\\Users\\Alfonso\\Downloads\\Programas\\chromedriver\\chromedriver.exe')\n",
    "driver.get(website)\n",
    "\n",
    "driver.quit() # Nos sirve para cerrar la ventana que se nos abre"
   ]
  },
  {
   "cell_type": "markdown",
   "metadata": {},
   "source": [
    "Debo averiguar cual es la función de **`options`**"
   ]
  },
  {
   "cell_type": "code",
   "execution_count": null,
   "metadata": {},
   "outputs": [],
   "source": [
    "from selenium import webdriver\n",
    "\n",
    "website = 'https://www.adamchoi.co.uk/overs/detailed'\n",
    "options = webdriver.ChromeOptions()\n",
    "driver = webdriver.Chrome(executable_path = r'C:\\Users\\Alfonso\\Downloads\\Programas\\chromedriver\\chromedriver.exe', options = options)\n",
    "driver.get(website)"
   ]
  }
 ],
 "metadata": {
  "kernelspec": {
   "display_name": "base",
   "language": "python",
   "name": "python3"
  },
  "language_info": {
   "codemirror_mode": {
    "name": "ipython",
    "version": 3
   },
   "file_extension": ".py",
   "mimetype": "text/x-python",
   "name": "python",
   "nbconvert_exporter": "python",
   "pygments_lexer": "ipython3",
   "version": "3.9.5"
  }
 },
 "nbformat": 4,
 "nbformat_minor": 2
}
