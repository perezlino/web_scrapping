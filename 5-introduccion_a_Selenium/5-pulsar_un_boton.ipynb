{
 "cells": [
  {
   "cell_type": "markdown",
   "metadata": {},
   "source": [
    "### **Pulsar un botón**"
   ]
  },
  {
   "cell_type": "markdown",
   "metadata": {},
   "source": [
    "Trabajaremos en el sitio:\n",
    "\n",
    "https://www.adamchoi.co.uk/overs/detailed"
   ]
  },
  {
   "cell_type": "markdown",
   "metadata": {},
   "source": [
    "Sobre el botón \"All matches\":"
   ]
  },
  {
   "cell_type": "markdown",
   "metadata": {},
   "source": [
    "<center><img src=\"https://i.postimg.cc/9QS2W6wD/ws-4.png\"></center>"
   ]
  },
  {
   "cell_type": "markdown",
   "metadata": {},
   "source": [
    "Nos indica el siguiente código HTML para el botón:"
   ]
  },
  {
   "cell_type": "code",
   "execution_count": null,
   "metadata": {
    "vscode": {
     "languageId": "html"
    }
   },
   "outputs": [],
   "source": [
    "<label class=\"btn btn-sm btn-primary ng-pristine ng-untouched ng-valid ng-not-empty\" \n",
    "       data-ng-model=\"hasc.$scope.doShowSplit\" \n",
    "       data-btn-radio=\"false\" \n",
    "       analytics-on=\"click\" \n",
    "       analytics-event=\"All matches\" \n",
    "       analytics-category=\"Detailed pages filters\" \n",
    "       analytics-label=\"Home Away Selector\">All matches</label>"
   ]
  },
  {
   "cell_type": "markdown",
   "metadata": {},
   "source": [
    "Si buscamos ese mismo element (el botón \"All matches\") utilizando `XPath`, y para eso pulsaremos `CTRL + F`:"
   ]
  },
  {
   "cell_type": "markdown",
   "metadata": {},
   "source": [
    "<center><img src=\"https://i.postimg.cc/8CBZyWGT/ws-5.png\"></center>"
   ]
  },
  {
   "cell_type": "markdown",
   "metadata": {},
   "source": [
    "Recordar que vamos a utilizar:\n",
    "\n",
    "- `<label>` es el `tag`\n",
    "- `analytics-event` es el `attribute`\n",
    "- `All matches` es el `attribute value`"
   ]
  },
  {
   "cell_type": "markdown",
   "metadata": {},
   "source": [
    "Entonces, de esta manera hemos construido con éxito este XPath porque localiza el elemento que queremos, que corresponde al boton `All matches`:\n",
    "\n",
    "<center><img src=\"https://i.postimg.cc/59SdTYxK/ws-6.png\"></center>"
   ]
  },
  {
   "cell_type": "markdown",
   "metadata": {},
   "source": [
    "Así que voy a copiar este XPath y luego ir a mi VSCode. Ahora, para localizar este elemento con Selenium tenemos que utilizar este driver, como te dije antes:"
   ]
  },
  {
   "cell_type": "code",
   "execution_count": 1,
   "metadata": {},
   "outputs": [],
   "source": [
    "from selenium import webdriver\n",
    "\n",
    "website = 'https://www.adamchoi.co.uk/overs/detailed'\n",
    "# Se recomienda utilizar Chrome, pero podriamos utilizar Firefox, Safari, Edge, etc.\n",
    "driver = webdriver.Chrome(executable_path = r'C:\\Users\\Alfonso\\Downloads\\Programas\\chromedriver\\chromedriver.exe')\n",
    "driver.get(website)\n",
    "\n",
    "all_matches_button = driver.find_element_by_xpath('//label[@analytics-event=\"All matches\"]')\n",
    "all_matches_button.click()\n",
    "\n",
    "# driver.quit() # Nos sirve para cerrar la ventana que se nos abre"
   ]
  },
  {
   "cell_type": "markdown",
   "metadata": {},
   "source": [
    "Al ejecutar este código se abrirá la website como si que hubiesemos pulsado el boton `All matches` "
   ]
  }
 ],
 "metadata": {
  "kernelspec": {
   "display_name": "base",
   "language": "python",
   "name": "python3"
  },
  "language_info": {
   "codemirror_mode": {
    "name": "ipython",
    "version": 3
   },
   "file_extension": ".py",
   "mimetype": "text/x-python",
   "name": "python",
   "nbconvert_exporter": "python",
   "pygments_lexer": "ipython3",
   "version": "3.9.5"
  }
 },
 "nbformat": 4,
 "nbformat_minor": 2
}
