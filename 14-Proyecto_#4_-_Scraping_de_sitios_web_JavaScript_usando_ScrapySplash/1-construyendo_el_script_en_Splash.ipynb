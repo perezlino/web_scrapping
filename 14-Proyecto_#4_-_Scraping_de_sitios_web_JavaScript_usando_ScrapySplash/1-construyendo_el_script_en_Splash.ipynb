{
 "cells": [
  {
   "cell_type": "markdown",
   "metadata": {},
   "source": [
    "### **Construyendo el Script en Splash**"
   ]
  },
  {
   "cell_type": "markdown",
   "metadata": {},
   "source": [
    "Vamos a utilizar el siguiente enlace:\n",
    "\n",
    "https://www.adamchoi.co.uk/overs/detailed\n",
    "\n",
    "El enlace con la documentación de Scrapy/Splash:\n",
    "\n",
    "https://github.com/scrapy-plugins/scrapy-splash"
   ]
  },
  {
   "cell_type": "markdown",
   "metadata": {},
   "source": [
    "Antes de utilizar Splash, hay que asegurarse de que este sitio web ejecuta JavaScript:\n",
    "\n",
    "<center><img src=\"https://i.postimg.cc/B6W3mv18/ws-235.png\"></center>\n",
    "<center><img src=\"https://i.postimg.cc/TYkXZ0Dv/ws-236.png\"></center>\n",
    "<center><img src=\"https://i.postimg.cc/tThjwHhB/ws-237.png\"></center>\n",
    "\n",
    "Vemos que al recargar el sitio no carga nada, por tanto, podemos decir que si utiliza Javascript.\n",
    "\n",
    "<center><img src=\"https://i.postimg.cc/bY9PRpYJ/ws-238.png\"></center>"
   ]
  },
  {
   "cell_type": "markdown",
   "metadata": {},
   "source": [
    "Analicemos cómo podemos localizar este botón \"**`All matches`**\" con selectores CSS. Ahora recuerda que a diferencia de Selenium, no podemos usar XPath con Splash, sino sólo selectores CSS. Así que podemos ver que ambos elementos tienen el tag \"**`label`**\" y también tienen nombres de clase similares. Ambos tienen en común \"**`btn btn-sm`**\" y \"**`btn-primary`**\". Sin embargo, no son iguales porque un nombre de clase tiene la palabra \"**`active`**\" y el otro no. Esto es suficiente para localizar este elemento con un selector CSS. Sé que no hemos usado mucho los selectores CSS en este curso, así que déjame mostrarte cómo podemos localizar elementos con un selector CSS. Puedes construir un selector CSS con el nombre del tag y el nombre de la clase. Sólo tienes que ponerlos juntos, en lugar de escribir espacio, tienes que escribir un \"**`.`**\". Si esperas un elemento, también puedes obtener inmediatamente el selector CSS. Así, por ejemplo, el selector CSS del botón \"All matches\" es éste. Allí siempre encontrarás ese selector CSS correcto, que como te dije antes, se construye con un nombre de etiqueta y el nombre de la clase. Desafortunadamente este selector CSS tan largo puede romperse con cambios mínimos. Así que queremos escribir un código mejor. Usemos una versión más pequeña. Lo que voy a hacer es usar las tres primeras palabras del nombre de la clase. Como puedes ver, estos dos botones tienen estas tres palabras en común en el nombre de la clase, por lo que coincidirá con ambos pero allí elegiremos sólo el que queremos.\n",
    "\n",
    "<center><img src=\"https://i.postimg.cc/FsF4W81x/ws-239.png\"></center>"
   ]
  },
  {
   "cell_type": "markdown",
   "metadata": {},
   "source": [
    "Ahora volvamos a seguir escribiendo algo de código. Aquí escribo splash: \"**`select_all()`**\", selecciona todos los elementos que coincidan con el selector CSS que voy a escribir. Ahora, dentro de los paréntesis voy a repetir las tres palabras dentro: el nombre de la clase que copié antes y añadir el nombre de la etiqueta \"**`label`**\" y en lugar de espacios, voy a escribir \"**`.`**\". Así es como se construye un selector CSS. A continuación, voy a copiar y pegar la función \"**`assert`**\" y poner este código entre paréntesis. Ahora \"**`select_all()`**\" devolverá una lista con múltiples elementos, así que vamos a crear una variable y el índice para obtener el elemento que queremos. Voy a escribir el número **`dos`**. Este número representa la posición del elemento que queremos obtener. Vamos a la página web. Así que en este caso, queremos obtener el segundo elemento. Hay dos botones. El botón \"**`home/away split`**\" corresponde al primer elemento label, mientras que \"**`all matches`**\" corresponde al segundo elemento label. Así que esto es lo que escribimos, el número dos dentro de los corchetes antes. Con **`mouse_click()`** podems dar click en dicho botón. Luego, **`set_viewport_full()`** hará visible todo el contenido de la página\n",
    "\n",
    "<center><img src=\"https://i.postimg.cc/2yrDfXGr/ws-240.png\"></center>\n",
    "\n",
    "Una vez terminado esto, deberíamos obtener la captura de pantalla de toda la página.\n",
    "\n",
    "<center><img src=\"https://i.postimg.cc/90bjXtgT/ws-241.png\"></center>"
   ]
  }
 ],
 "metadata": {
  "language_info": {
   "name": "python"
  }
 },
 "nbformat": 4,
 "nbformat_minor": 2
}
