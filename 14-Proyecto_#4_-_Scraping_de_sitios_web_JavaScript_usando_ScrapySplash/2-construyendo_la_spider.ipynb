{
 "cells": [
  {
   "cell_type": "markdown",
   "metadata": {},
   "source": [
    "### **Construyendo la spider**"
   ]
  },
  {
   "cell_type": "markdown",
   "metadata": {},
   "source": [
    "Vamos a comenzar un nuevo proyecto:\n",
    "\n",
    "<center><img src=\"https://i.postimg.cc/1tFZNVMC/ws-242.png\"></center>\n",
    "<center><img src=\"https://i.postimg.cc/rsCXf6B5/ws-243.png\"></center>\n",
    "\n",
    "Crearemos una nueva spider:\n",
    "\n",
    "<center><img src=\"https://i.postimg.cc/rsL2GyP8/ws-244.png\"></center>\n",
    "<center><img src=\"https://i.postimg.cc/3rgT8pkW/ws-245.png\"></center>"
   ]
  },
  {
   "cell_type": "markdown",
   "metadata": {},
   "source": [
    "El `<tr>` representa las filas y el `<td>` representa las columnas de la fila. Así que tenemos cuatro columnas en un `<tr>` por fila.\n",
    "\n",
    "<center><img src=\"https://i.postimg.cc/wjB8QG0s/ws-246.png\"></center>\n",
    "<center><img src=\"https://i.postimg.cc/9FbHThth/ws-247.png\"></center>\n",
    "<center><img src=\"https://i.postimg.cc/J4MWGnXx/ws-248.png\"></center>"
   ]
  },
  {
   "cell_type": "markdown",
   "metadata": {},
   "source": [
    "Este es el código que utilizamos en el archivo **`adamchoi.py`**:"
   ]
  },
  {
   "cell_type": "code",
   "execution_count": null,
   "metadata": {},
   "outputs": [],
   "source": [
    "import scrapy\n",
    "from scrapy_splash import SplashRequest\n",
    "\n",
    "class AdamchoiSpider(scrapy.Spider):\n",
    "    name = 'adamchoi'\n",
    "    allowed_domains = ['www.adamchoi.co.uk']\n",
    "    # start_urls = ['http://www.adamchoi.co.uk/']\n",
    "\n",
    "    # Copia y pega el código lua escrito en splash dentro de la variable script\n",
    "    script = '''\n",
    "        function main(splash, args)\n",
    "          splash.private_mode_enabled = false\n",
    "          assert(splash:go(args.url))\n",
    "          assert(splash:wait(3))\n",
    "          all_matches = assert(splash:select_all(\"label.btn.btn-sm.btn-primary\"))\n",
    "          all_matches[2]:mouse_click()\n",
    "          assert(splash:wait(3))\n",
    "          splash:set_viewport_full()\n",
    "          return {splash:png(), splash:html()}\n",
    "        end\n",
    "    '''\n",
    "\n",
    "    # Define una función start_requests para conectar scrapy y splash\n",
    "    def start_requests(self):\n",
    "        yield SplashRequest(url='https://www.adamchoi.co.uk/overs/detailed', callback=self.parse,\n",
    "                            args={'lua_source':self.script})\n",
    "\n",
    "    # Como de costumbre, utilizamos la función parse para extraer datos con xpaths\n",
    "    def parse(self, response):\n",
    "        rows = response.xpath('//tr')\n",
    "\n",
    "        for row in rows:\n",
    "            date = row.xpath('./td[1]/text()').get()\n",
    "            home_team = row.xpath('./td[2]/text()').get()\n",
    "            score = row.xpath('./td[3]/text()').get()\n",
    "            away_team = row.xpath('./td[4]/text()').get()\n",
    "            yield {\n",
    "                'date':date,\n",
    "                'home_team':home_team,\n",
    "                'score':score,\n",
    "                'away_team':away_team,\n",
    "            }"
   ]
  },
  {
   "cell_type": "markdown",
   "metadata": {},
   "source": [
    "Instalamos la libreria **`scrapy_splash`**:\n",
    "\n",
    "<center><img src=\"https://i.postimg.cc/pLqHzHvj/ws-249.png\"></center>"
   ]
  },
  {
   "cell_type": "markdown",
   "metadata": {},
   "source": [
    "Modificaremos el archivo **`settings.py`** y agregaremos lo que se encuentra dentro del recuadro:\n",
    "\n",
    "<center><img src=\"https://i.postimg.cc/Pq7nVQPr/ws-251.png\"></center>"
   ]
  },
  {
   "cell_type": "markdown",
   "metadata": {},
   "source": [
    "Nos aseguramos de que el contenedor en Docker este corriendo y ejecutamos por medio de la terminal y extraemos la data en un archivo **`JSON`**:\n",
    "\n",
    "<center><img src=\"https://i.postimg.cc/Ssc1L69P/ws-253.png\"></center>\n",
    "<center><img src=\"https://i.postimg.cc/MGH8YFZF/ws-250.png\"></center>\n",
    "<center><img src=\"https://i.postimg.cc/26BRsLZd/ws-252.png\"></center>"
   ]
  }
 ],
 "metadata": {
  "language_info": {
   "name": "python"
  }
 },
 "nbformat": 4,
 "nbformat_minor": 2
}
