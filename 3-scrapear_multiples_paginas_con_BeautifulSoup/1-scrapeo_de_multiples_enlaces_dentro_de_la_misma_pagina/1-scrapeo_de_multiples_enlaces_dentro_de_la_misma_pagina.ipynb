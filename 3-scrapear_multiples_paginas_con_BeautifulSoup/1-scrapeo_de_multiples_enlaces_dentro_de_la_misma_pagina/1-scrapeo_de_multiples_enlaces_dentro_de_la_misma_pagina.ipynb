{
 "cells": [
  {
   "cell_type": "markdown",
   "metadata": {},
   "source": [
    "### **Scrapeo de múltiples enlaces dentro de la misma página**"
   ]
  },
  {
   "cell_type": "markdown",
   "metadata": {},
   "source": [
    "Scrapeamos el contenido de todos los enlaces del siguiente sitio:\n",
    "\n",
    "#### https://subslikescript.com/movies"
   ]
  },
  {
   "cell_type": "markdown",
   "metadata": {},
   "source": [
    "#### ``Parte 1``"
   ]
  },
  {
   "cell_type": "code",
   "execution_count": 6,
   "metadata": {},
   "outputs": [
    {
     "name": "stdout",
     "output_type": "stream",
     "text": [
      "[<a href=\"movie/The_Breach-14229154\" title=\"Read transcript of Movie 'The Breach'\"><li>The Breach (2022)</li></a>,\n",
      " <a href=\"movie/Justice_League_Warworld-27687527\" title=\"Read transcript of Movie 'Justice League: Warworld'\"><li>Justice League: Warworld (2023)</li></a>,\n",
      " <a href=\"movie/Aval_Appadithaan-275205\" title=\"Read transcript of Movie 'Aval Appadithaan'\"><li>Aval Appadithaan (1978)</li></a>,\n",
      " <a href=\"movie/Kaazhcha-425162\" title=\"Read transcript of Movie 'Kaazhcha'\"><li>Kaazhcha (2004)</li></a>,\n",
      " <a href=\"movie/The_Inbetweeners-1716772\" title=\"Read transcript of Movie 'The Inbetweeners'\"><li>The Inbetweeners (2011)</li></a>,\n",
      " <a href=\"movie/Love_Object-328077\" title=\"Read transcript of Movie 'Love Object'\"><li>Love Object (2003)</li></a>,\n",
      " <a href=\"movie/May-December-January-22600514\" title=\"Read transcript of Movie 'May-December-January'\"><li>May-December-January (2022)</li></a>,\n",
      " <a href=\"movie/Kevin_Hart_Reality_Check-28227488\" title=\"Read transcript of Movie 'Kevin Hart: Reality Check'\"><li>Kevin Hart: Reality Check (2023)</li></a>,\n",
      " <a href=\"movie/Hama_no_asahi_no_usotsukidomo_to-16979594\" title=\"Read transcript of Movie 'Hama no asahi no usotsukidomo to'\"><li>Hama no asahi no usotsukidomo to (2021)</li></a>,\n",
      " <a href=\"movie/Arc-14663456\" title=\"Read transcript of Movie 'Arc'\"><li>Arc (2021)</li></a>,\n",
      " <a href=\"movie/Invisible_Waves-461970\" title=\"Read transcript of Movie 'Invisible Waves'\"><li>Invisible Waves (2006)</li></a>,\n",
      " <a href=\"movie/A_Night_to_Remember-241535\" title=\"Read transcript of Movie 'A Night to Remember'\"><li>A Night to Remember (1962)</li></a>,\n",
      " <a href=\"movie/JLA_Adventures_Trapped_in_Time-3468260\" title=\"Read transcript of Movie 'JLA Adventures: Trapped in Time'\"><li>JLA Adventures: Trapped in Time (2014)</li></a>,\n",
      " <a href=\"movie/Rollover-83006\" title=\"Read transcript of Movie 'Rollover'\"><li>Rollover (1981)</li></a>,\n",
      " <a href=\"movie/Douze_heures_dhorloge-52757\" title=\"Read transcript of Movie 'Douze heures d'horloge'\"><li>Douze heures d'horloge (1959)</li></a>,\n",
      " <a href=\"movie/Nipernaadi-239722\" title=\"Read transcript of Movie 'Nipernaadi'\"><li>Nipernaadi (1983)</li></a>,\n",
      " <a href=\"movie/Nadodikkattu-282778\" title=\"Read transcript of Movie 'Nadodikkattu'\"><li>Nadodikkattu (1987)</li></a>,\n",
      " <a href=\"movie/Pattanapravesam-292174\" title=\"Read transcript of Movie 'Pattanapravesam'\"><li>Pattanapravesam (1988)</li></a>,\n",
      " <a href=\"movie/Akka_Thangai-8908240\" title=\"Read transcript of Movie 'Akka Thangai'\"><li>Akka Thangai (1969)</li></a>,\n",
      " <a href=\"movie/Smokin_on_the_Moon-5872258\" title=\"Read transcript of Movie 'Smokin' on the Moon'\"><li>Smokin' on the Moon (2017)</li></a>,\n",
      " <a href=\"movie/The_Little_Vampire_3D-4729560\" title=\"Read transcript of Movie 'The Little Vampire 3D'\"><li>The Little Vampire 3D (2017)</li></a>,\n",
      " <a href=\"movie/National_Theatre_Live_Medea-4256612\" title=\"Read transcript of Movie 'National Theatre Live: Medea'\"><li>National Theatre Live: Medea (2014)</li></a>,\n",
      " <a href=\"movie/Blind-5316648\" title=\"Read transcript of Movie 'Blind'\"><li>Blind (2023)</li></a>,\n",
      " <a href=\"movie/Storytelling-250081\" title=\"Read transcript of Movie 'Storytelling'\"><li>Storytelling (2001)</li></a>,\n",
      " <a href=\"movie/Pookkal_Vidum_Thoodhu-8702688\" title=\"Read transcript of Movie 'Pookkal Vidum Thoodhu'\"><li>Pookkal Vidum Thoodhu (1983)</li></a>,\n",
      " <a href=\"movie/The_Play_of_God-199669\" title=\"Read transcript of Movie 'The Play of God'\"><li>The Play of God (1997)</li></a>,\n",
      " <a href=\"movie/Chemmeen-59028\" title=\"Read transcript of Movie 'Chemmeen'\"><li>Chemmeen (1965)</li></a>,\n",
      " <a href=\"movie/The_Scorpion_Monster-21808438\" title=\"Read transcript of Movie 'The Scorpion Monster'\"><li>The Scorpion Monster (2020)</li></a>,\n",
      " <a href=\"movie/Chakravyuham_The_Trap-27906902\" title=\"Read transcript of Movie 'Chakravyuham: The Trap'\"><li>Chakravyuham: The Trap (2023)</li></a>,\n",
      " <a href=\"movie/Bewafaa-363472\" title=\"Read transcript of Movie 'Bewafaa'\"><li>Bewafaa (2005)</li></a>]\n"
     ]
    }
   ],
   "source": [
    "from bs4 import BeautifulSoup\n",
    "import requests\n",
    "from pprint import pprint\n",
    "\n",
    "website = 'https://subslikescript.com/movies'\n",
    "result = requests.get(website)\n",
    "content = result.text\n",
    "\n",
    "soup = BeautifulSoup(content, 'lxml')\n",
    "\n",
    "# print(soup.prettify())\n",
    "\n",
    "box = soup.find('article', class_=\"main-article\")\n",
    "\n",
    "links = []\n",
    "for link in box.find_all('a', href=True):\n",
    "    links.append(link) # <-----------------\n",
    "\n",
    "pprint(links)\n",
    "\n",
    "# title = box.find('h1').get_text()\n",
    "\n",
    "# transcript = box.find('div', class_=\"full-script\").get_text(strip=True, separator=' ')\n",
    "\n",
    "# # Exportar los datos en un archivo de texto con el nombre \"title\".\n",
    "# with open(f'{title}.txt', 'w') as file:\n",
    "#     file.write(transcript)"
   ]
  },
  {
   "cell_type": "markdown",
   "metadata": {},
   "source": [
    "#### ``Parte 2``"
   ]
  },
  {
   "cell_type": "code",
   "execution_count": 2,
   "metadata": {},
   "outputs": [
    {
     "name": "stdout",
     "output_type": "stream",
     "text": [
      "['movie/The_Breach-14229154',\n",
      " 'movie/Justice_League_Warworld-27687527',\n",
      " 'movie/Aval_Appadithaan-275205',\n",
      " 'movie/Kaazhcha-425162',\n",
      " 'movie/The_Inbetweeners-1716772',\n",
      " 'movie/Love_Object-328077',\n",
      " 'movie/May-December-January-22600514',\n",
      " 'movie/Kevin_Hart_Reality_Check-28227488',\n",
      " 'movie/Hama_no_asahi_no_usotsukidomo_to-16979594',\n",
      " 'movie/Arc-14663456',\n",
      " 'movie/Invisible_Waves-461970',\n",
      " 'movie/A_Night_to_Remember-241535',\n",
      " 'movie/JLA_Adventures_Trapped_in_Time-3468260',\n",
      " 'movie/Rollover-83006',\n",
      " 'movie/Douze_heures_dhorloge-52757',\n",
      " 'movie/Nipernaadi-239722',\n",
      " 'movie/Nadodikkattu-282778',\n",
      " 'movie/Pattanapravesam-292174',\n",
      " 'movie/Akka_Thangai-8908240',\n",
      " 'movie/Smokin_on_the_Moon-5872258',\n",
      " 'movie/The_Little_Vampire_3D-4729560',\n",
      " 'movie/National_Theatre_Live_Medea-4256612',\n",
      " 'movie/Blind-5316648',\n",
      " 'movie/Storytelling-250081',\n",
      " 'movie/Pookkal_Vidum_Thoodhu-8702688',\n",
      " 'movie/The_Play_of_God-199669',\n",
      " 'movie/Chemmeen-59028',\n",
      " 'movie/The_Scorpion_Monster-21808438',\n",
      " 'movie/Chakravyuham_The_Trap-27906902',\n",
      " 'movie/Bewafaa-363472']\n"
     ]
    }
   ],
   "source": [
    "from bs4 import BeautifulSoup\n",
    "import requests\n",
    "from pprint import pprint\n",
    "\n",
    "website = 'https://subslikescript.com/movies'\n",
    "result = requests.get(website)\n",
    "content = result.text\n",
    "\n",
    "soup = BeautifulSoup(content, 'lxml')\n",
    "\n",
    "# print(soup.prettify())\n",
    "\n",
    "box = soup.find('article', class_=\"main-article\")\n",
    "\n",
    "links = []\n",
    "for link in box.find_all('a', href=True):\n",
    "    links.append(link['href']) # <-----------------\n",
    "\n",
    "pprint(links)"
   ]
  },
  {
   "cell_type": "markdown",
   "metadata": {},
   "source": [
    "No resultó"
   ]
  },
  {
   "cell_type": "code",
   "execution_count": 19,
   "metadata": {},
   "outputs": [
    {
     "name": "stdout",
     "output_type": "stream",
     "text": [
      "['https://subslikescript.com/movie/Bewafaa-363472',\n",
      " 'https://subslikescript.com/movie/Bewafaa-363472',\n",
      " 'https://subslikescript.com/movie/Bewafaa-363472',\n",
      " 'https://subslikescript.com/movie/Bewafaa-363472',\n",
      " 'https://subslikescript.com/movie/Bewafaa-363472',\n",
      " 'https://subslikescript.com/movie/Bewafaa-363472',\n",
      " 'https://subslikescript.com/movie/Bewafaa-363472',\n",
      " 'https://subslikescript.com/movie/Bewafaa-363472',\n",
      " 'https://subslikescript.com/movie/Bewafaa-363472',\n",
      " 'https://subslikescript.com/movie/Bewafaa-363472',\n",
      " 'https://subslikescript.com/movie/Bewafaa-363472',\n",
      " 'https://subslikescript.com/movie/Bewafaa-363472',\n",
      " 'https://subslikescript.com/movie/Bewafaa-363472',\n",
      " 'https://subslikescript.com/movie/Bewafaa-363472',\n",
      " 'https://subslikescript.com/movie/Bewafaa-363472',\n",
      " 'https://subslikescript.com/movie/Bewafaa-363472',\n",
      " 'https://subslikescript.com/movie/Bewafaa-363472',\n",
      " 'https://subslikescript.com/movie/Bewafaa-363472',\n",
      " 'https://subslikescript.com/movie/Bewafaa-363472',\n",
      " 'https://subslikescript.com/movie/Bewafaa-363472',\n",
      " 'https://subslikescript.com/movie/Bewafaa-363472',\n",
      " 'https://subslikescript.com/movie/Bewafaa-363472',\n",
      " 'https://subslikescript.com/movie/Bewafaa-363472',\n",
      " 'https://subslikescript.com/movie/Bewafaa-363472',\n",
      " 'https://subslikescript.com/movie/Bewafaa-363472',\n",
      " 'https://subslikescript.com/movie/Bewafaa-363472',\n",
      " 'https://subslikescript.com/movie/Bewafaa-363472',\n",
      " 'https://subslikescript.com/movie/Bewafaa-363472',\n",
      " 'https://subslikescript.com/movie/Bewafaa-363472',\n",
      " 'https://subslikescript.com/movie/Bewafaa-363472']\n"
     ]
    }
   ],
   "source": [
    "from bs4 import BeautifulSoup\n",
    "import requests\n",
    "from pprint import pprint\n",
    "\n",
    "root = 'https://subslikescript.com'\n",
    "website = f'{root}/movies'\n",
    "result = requests.get(website)\n",
    "content = result.text\n",
    "\n",
    "soup = BeautifulSoup(content, 'lxml')\n",
    "\n",
    "# print(soup.prettify())\n",
    "\n",
    "box = soup.find('article', class_=\"main-article\")\n",
    "\n",
    "enlace = link['href']\n",
    "links = []\n",
    "for link in box.find_all('a', href=True):\n",
    "    links.append(f'{root}/{enlace}') # <-----------------\n",
    "\n",
    "pprint(links)\n",
    "\n",
    "# for link in links:\n",
    "#     root = f'{root}/{link}'\n",
    "#     website = f'{root}/movies'\n",
    "#     result = requests.get(website)\n",
    "#     content = result.text"
   ]
  },
  {
   "cell_type": "markdown",
   "metadata": {},
   "source": [
    "#### ``Parte final``"
   ]
  },
  {
   "cell_type": "code",
   "execution_count": 27,
   "metadata": {},
   "outputs": [],
   "source": [
    "from bs4 import BeautifulSoup\n",
    "import requests\n",
    "from pprint import pprint\n",
    "\n",
    "root = 'https://subslikescript.com'\n",
    "website = f'{root}/movies'\n",
    "result = requests.get(website)\n",
    "content = result.text\n",
    "\n",
    "soup = BeautifulSoup(content, 'lxml')\n",
    "\n",
    "# print(soup.prettify())\n",
    "\n",
    "box = soup.find('article', class_=\"main-article\")\n",
    "\n",
    "links = []\n",
    "for link in box.find_all('a', href=True):\n",
    "    links.append(link['href']) \n",
    "\n",
    "#pprint(links)\n",
    "\n",
    "for link in links:\n",
    "    try:\n",
    "        website = f'{root}/{link}'\n",
    "        result = requests.get(website)\n",
    "        content = result.text\n",
    "        soup = BeautifulSoup(content, 'lxml')\n",
    "\n",
    "        box = soup.find('article', class_=\"main-article\")\n",
    "\n",
    "        title = box.find('h1').get_text()\n",
    "\n",
    "        transcript = box.find('div', class_='full-script').get_text(strip=True, separator=' ')\n",
    "\n",
    "        # Exportar los datos en un archivo de texto con el nombre \"title\".\n",
    "        with open(f'{title}.txt', 'w') as file:\n",
    "            file.write(transcript)\n",
    "\n",
    "    except:\n",
    "        pass # Si hay un error con una iteración, pasa a la siguiente iteración"
   ]
  }
 ],
 "metadata": {
  "kernelspec": {
   "display_name": "base",
   "language": "python",
   "name": "python3"
  },
  "language_info": {
   "codemirror_mode": {
    "name": "ipython",
    "version": 3
   },
   "file_extension": ".py",
   "mimetype": "text/x-python",
   "name": "python",
   "nbconvert_exporter": "python",
   "pygments_lexer": "ipython3",
   "version": "3.9.5"
  }
 },
 "nbformat": 4,
 "nbformat_minor": 2
}
