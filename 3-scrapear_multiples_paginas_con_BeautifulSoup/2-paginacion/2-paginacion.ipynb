{
 "cells": [
  {
   "cell_type": "markdown",
   "metadata": {},
   "source": [
    "### **Paginación con BeautifulSoup**"
   ]
  },
  {
   "cell_type": "markdown",
   "metadata": {},
   "source": [
    "¿Qué pasa si queremos scrapear una lista de películas que están en diferentes páginas como esta?:\n",
    "\n",
    "#### https://subslikescript.com/movies_letter-A\n",
    "\n",
    "Donde tenemos 134 páginas con diferentes enlaces de distintas peliculas\n",
    "\n",
    "¿Y qué pasa si queremos scrapear todas esas transcripciones que contienen esas múltiples páginas?\n",
    "\n",
    "Así que aquí podemos utilizar algo llamado paginación y esto nos ayudará a trabajar con diferentes páginas, con BeautifulSoup"
   ]
  },
  {
   "cell_type": "markdown",
   "metadata": {},
   "source": [
    "#### ``Desarrollo parte 1``"
   ]
  },
  {
   "cell_type": "code",
   "execution_count": 5,
   "metadata": {},
   "outputs": [],
   "source": [
    "from bs4 import BeautifulSoup\n",
    "import requests\n",
    "from pprint import pprint\n",
    "\n",
    "#####################################################\n",
    "# Extracción de enlaces de la barra de paginación\n",
    "#####################################################\n",
    "\n",
    "# Cómo obtener el HTML\n",
    "root = 'https://subslikescript.com'  # esta es la página de inicio del sitio web\n",
    "website = f'{root}/movies_letter-X'  # concatenando la página de inicio con la sección de películas \"letra-X\". Puede elegir cualquier sección (por ejemplo, letra-A, letra-B, ...)\n",
    "result = requests.get(website)\n",
    "content = result.text\n",
    "soup = BeautifulSoup(content, 'lxml')\n",
    "\n",
    "# Localiza la caja que contiene la barra de paginación\n",
    "pagination = soup.find('ul', class_='pagination')\n",
    "pages = pagination.find_all('li', class_='page-item')\n",
    "# -2 básicamente lo que significa es que no coje el último enlace la barra de paginación, sino que coje uno antes del último.\n",
    "# Así que -1 es el último y -2 es uno antes del último elemento. Es decir, no cojera el enlace de la flecha.\n",
    "last_page = pages[-2].text  # este es el número de páginas que tiene el sitio web dentro de la sección de películas \"letra X\""
   ]
  },
  {
   "cell_type": "code",
   "execution_count": 2,
   "metadata": {},
   "outputs": [
    {
     "name": "stdout",
     "output_type": "stream",
     "text": [
      "<ul class=\"pagination\">\n",
      "<li aria-disabled=\"true\" aria-label=\"« Previous\" class=\"page-item disabled\">\n",
      "<span aria-hidden=\"true\" class=\"page-link\">‹</span>\n",
      "</li>\n",
      "<li aria-current=\"page\" class=\"page-item active\"><span class=\"page-link\">1</span></li>\n",
      "<li class=\"page-item\"><a class=\"page-link\" href=\"http://subslikescript.com/movies_letter-X?page=2\">2</a></li>\n",
      "<li class=\"page-item\"><a class=\"page-link\" href=\"http://subslikescript.com/movies_letter-X?page=3\">3</a></li>\n",
      "<li class=\"page-item\">\n",
      "<a aria-label=\"Next »\" class=\"page-link\" href=\"http://subslikescript.com/movies_letter-X?page=2\" rel=\"next\">›</a>\n",
      "</li>\n",
      "</ul>\n"
     ]
    }
   ],
   "source": [
    "print(pagination)"
   ]
  },
  {
   "cell_type": "code",
   "execution_count": 6,
   "metadata": {},
   "outputs": [
    {
     "name": "stdout",
     "output_type": "stream",
     "text": [
      "[<li aria-disabled=\"true\" aria-label=\"« Previous\" class=\"page-item disabled\">\n",
      "<span aria-hidden=\"true\" class=\"page-link\">‹</span>\n",
      "</li>,\n",
      " <li aria-current=\"page\" class=\"page-item active\"><span class=\"page-link\">1</span></li>,\n",
      " <li class=\"page-item\"><a class=\"page-link\" href=\"http://subslikescript.com/movies_letter-X?page=2\">2</a></li>,\n",
      " <li class=\"page-item\"><a class=\"page-link\" href=\"http://subslikescript.com/movies_letter-X?page=3\">3</a></li>,\n",
      " <li class=\"page-item\">\n",
      "<a aria-label=\"Next »\" class=\"page-link\" href=\"http://subslikescript.com/movies_letter-X?page=2\" rel=\"next\">›</a>\n",
      "</li>]\n"
     ]
    }
   ],
   "source": [
    "pprint(pages)"
   ]
  },
  {
   "cell_type": "code",
   "execution_count": 4,
   "metadata": {},
   "outputs": [
    {
     "name": "stdout",
     "output_type": "stream",
     "text": [
      "3\n"
     ]
    }
   ],
   "source": [
    "print(last_page)"
   ]
  },
  {
   "cell_type": "markdown",
   "metadata": {},
   "source": [
    "#### ``Desarrollo parte 2``"
   ]
  },
  {
   "cell_type": "code",
   "execution_count": 17,
   "metadata": {},
   "outputs": [],
   "source": [
    "from bs4 import BeautifulSoup\n",
    "import requests\n",
    "from pprint import pprint\n",
    "\n",
    "#####################################################\n",
    "# Extracción de enlaces de la barra de paginación\n",
    "#####################################################\n",
    "\n",
    "# Cómo obtener el HTML\n",
    "root = 'https://subslikescript.com'  # esta es la página de inicio del sitio web\n",
    "website = f'{root}/movies_letter-X'  # concatenando la página de inicio con la sección de películas \"letra-X\". Puede elegir cualquier sección (por ejemplo, letra-A, letra-B, ...)\n",
    "result = requests.get(website)\n",
    "content = result.text\n",
    "soup = BeautifulSoup(content, 'lxml')\n",
    "\n",
    "# Localiza la caja que contiene la barra de paginación\n",
    "pagination = soup.find('ul', class_='pagination')\n",
    "pages = pagination.find_all('li', class_='page-item')\n",
    "# -2 básicamente lo que significa es que no coje el último enlace la barra de paginación, sino que coje uno antes del último.\n",
    "# Así que -1 es el último y -2 es uno antes del último elemento. Es decir, no cojera el enlace de la flecha.\n",
    "last_page = pages[-2].text  # este es el número de páginas que tiene el sitio web dentro de la sección de películas \"letra X\"\n",
    "\n",
    "################################################################################################\n",
    "# Extrayendo los enlaces de múltiples transcripciones de películas dentro de cada página listada\n",
    "################################################################################################\n",
    "\n",
    "# Recorre todas las páginas y envía una request a cada enlace\n",
    "links = []\n",
    "for page in range(1, int(last_page)+1): # range(1, 3+1) ---> range(1, 4)\n",
    "    result = requests.get(f'{website}?page={page}')  # estructura --> https://subslikescript.com/movies_letter-X?page=2\n",
    "    content = result.text\n",
    "    soup = BeautifulSoup(content, 'lxml')\n",
    "\n",
    "    # Localiza la caja que contiene una lista de películas\n",
    "    box = soup.find('article', class_='main-article')\n",
    "\n",
    "    # Almacena cada enlace en la lista \"enlaces\" (href no considera la raíz aka \"homepage\", por lo que tendremos que concatenarla después)\n",
    "    for link in box.find_all('a', href=True):  # find_all retorna una lista\n",
    "        links.append(link['href'])\n"
   ]
  },
  {
   "cell_type": "code",
   "execution_count": 18,
   "metadata": {},
   "outputs": [
    {
     "name": "stdout",
     "output_type": "stream",
     "text": [
      "['movie/X-326430',\n",
      " 'movie/X-13262868',\n",
      " 'movie/X-13560574',\n",
      " 'movie/X-118200',\n",
      " 'movie/X_-_The_eXploited-6190456',\n",
      " 'movie/X_Men_Origins_Wolverine_T4_Movie_Special-1423570',\n",
      " 'movie/X_Moor-3293138',\n",
      " 'movie/X_the_Unknown-49967',\n",
      " 'movie/X-Deal-2049597',\n",
      " 'movie/X-Men-120903',\n",
      " 'movie/X-Men_2-290334',\n",
      " 'movie/X-Men_Origins_Wolverine-458525',\n",
      " 'movie/X-Men_Apocalypse-3385516',\n",
      " 'movie/X-Men_Dark_Phoenix-6565702',\n",
      " 'movie/X-Men_Days_of_Future_Past-1877832',\n",
      " 'movie/X-Men_First_Class-1270798',\n",
      " 'movie/X-Men_The_Last_Stand-376994',\n",
      " 'movie/X-Rated_2_The_Greatest_Adult_Stars_of_All_Time-6189052',\n",
      " 'movie/X-Ray-82527',\n",
      " 'movie/X_The_Man_with_the_X-Ray_Eyes-57693',\n",
      " 'movie/X_Yochou-492922',\n",
      " 'movie/XY-2790182',\n",
      " 'movie/XY-8587142',\n",
      " 'movie/Xanadu-81777',\n",
      " 'movie/Xanda-388547',\n",
      " 'movie/Xane_The_Vampire_God-9515732',\n",
      " 'movie/XConfessions_Vol_22-13907180',\n",
      " 'movie/Xena_Warrior_Princess_-_A_Friend_in_Need_The_Directors_Cut-817532',\n",
      " 'movie/Xenia-3186946',\n",
      " 'movie/Xenophobia-8571404',\n",
      " 'movie/Xi_He-4253132',\n",
      " 'movie/Xi_lu_xiang-193633',\n",
      " 'movie/Xia_ri_le_you_you-2062580',\n",
      " 'movie/Xian_dai_hao_fang_nu-90224',\n",
      " 'movie/Xiang_Gang_qi_an_5_Jian_mo-934437',\n",
      " 'movie/Xiao_lan-21881700',\n",
      " 'movie/Xiao_Wu-144020',\n",
      " 'movie/Xiao_zi_ming_da-79142',\n",
      " 'movie/Xicos_Journey-12481806',\n",
      " 'movie/Xie_zi-2183186',\n",
      " 'movie/XIII_The_Conspiracy-1117667',\n",
      " 'movie/Xin_chen_san_wu_niang-62505',\n",
      " 'movie/Xin_Qiji_1162-12764298',\n",
      " 'movie/Xin_qing_gu_qingchng-4020122',\n",
      " 'movie/Xin_ti_xiao_yin_yuan-73314',\n",
      " 'movie/Xing_yuan-213314',\n",
      " 'movie/Xingu-2142055',\n",
      " 'movie/XL-2359473',\n",
      " 'movie/XL_The_Temptation_of_Christ-7697348',\n",
      " 'movie/Xolo-9676614',\n",
      " 'movie/XOXO-4855748',\n",
      " 'movie/XTC_This_Is_Pop-7465694',\n",
      " 'movie/Xterminator_and_the_AI_Apocalypse-27589686',\n",
      " 'movie/Xtro-86610',\n",
      " 'movie/Xtro_3_Watch_the_Skies-115006',\n",
      " 'movie/XX-1043877',\n",
      " 'movie/xXx-295701',\n",
      " 'movie/xXx_Return_of_Xander_Cage-1293847',\n",
      " 'movie/XxxHolic-16233104',\n",
      " 'movie/XXXHOLiC_Shunmuki_-_Kouhen-1461305',\n",
      " 'movie/XXXHOLic_Shunmuki_-_Zenpen-1263772',\n",
      " 'movie/XY_Chelsea-6905676']\n"
     ]
    }
   ],
   "source": [
    "pprint(links)"
   ]
  },
  {
   "cell_type": "markdown",
   "metadata": {},
   "source": [
    "#### ``Desarrollo parte 3``"
   ]
  },
  {
   "cell_type": "code",
   "execution_count": 1,
   "metadata": {},
   "outputs": [
    {
     "name": "stdout",
     "output_type": "stream",
     "text": [
      "------ Link not working -------\n",
      "movie/X_The_Man_with_the_X-Ray_Eyes-57693\n",
      "------ Link not working -------\n",
      "movie/X_Yochou-492922\n",
      "------ Link not working -------\n",
      "movie/XY-2790182\n",
      "------ Link not working -------\n",
      "movie/X_The_Man_with_the_X-Ray_Eyes-57693\n",
      "------ Link not working -------\n",
      "movie/X_Yochou-492922\n",
      "------ Link not working -------\n",
      "movie/XY-2790182\n",
      "------ Link not working -------\n",
      "movie/X_The_Man_with_the_X-Ray_Eyes-57693\n",
      "------ Link not working -------\n",
      "movie/X_Yochou-492922\n",
      "------ Link not working -------\n",
      "movie/XY-2790182\n"
     ]
    }
   ],
   "source": [
    "from bs4 import BeautifulSoup\n",
    "import requests\n",
    "from pprint import pprint\n",
    "\n",
    "#####################################################\n",
    "# Extracción de enlaces de la barra de paginación\n",
    "#####################################################\n",
    "\n",
    "# Cómo obtener el HTML\n",
    "root = 'https://subslikescript.com'  # esta es la página de inicio del sitio web\n",
    "website = f'{root}/movies_letter-X'  # concatenando la página de inicio con la sección de películas \"letra-X\". Puede elegir cualquier sección (por ejemplo, letra-A, letra-B, ...)\n",
    "result = requests.get(website)\n",
    "content = result.text\n",
    "soup = BeautifulSoup(content, 'lxml')\n",
    "\n",
    "# Localiza la caja que contiene la barra de paginación\n",
    "pagination = soup.find('ul', class_='pagination')\n",
    "pages = pagination.find_all('li', class_='page-item')\n",
    "# -2 básicamente lo que significa es que no coje el último enlace la barra de paginación, sino que coje uno antes del último.\n",
    "# Así que -1 es el último y -2 es uno antes del último elemento. Es decir, no cojera el enlace de la flecha.\n",
    "last_page = pages[-2].text  # este es el número de páginas que tiene el sitio web dentro de la sección de películas \"letra X\"\n",
    "\n",
    "################################################################################################\n",
    "# Extrayendo los enlaces de múltiples transcripciones de películas dentro de cada página listada\n",
    "################################################################################################\n",
    "\n",
    "# Recorre todas las páginas y envía una request a cada enlace\n",
    "links = []\n",
    "for page in range(1, int(last_page)+1): # range(1, 3+1) ---> range(1, 4)\n",
    "    result = requests.get(f'{website}?page={page}')  # estructura --> https://subslikescript.com/movies_letter-X?page=2\n",
    "    content = result.text\n",
    "    soup = BeautifulSoup(content, 'lxml')\n",
    "\n",
    "    # Localiza la caja que contiene una lista de películas\n",
    "    box = soup.find('article', class_='main-article')\n",
    "\n",
    "    # Almacena cada enlace en la lista \"enlaces\" (href no considera la raíz aka \"homepage\", por lo que tendremos que concatenarla después)\n",
    "    for link in box.find_all('a', href=True):  # find_all retorna una lista\n",
    "        links.append(link['href'])\n",
    "\n",
    "    #################################################\n",
    "    # Extrayendo la transcripción de la película\n",
    "    #################################################\n",
    "\n",
    "    for link in links:\n",
    "        try:  # \"prueba el código de abajo. si algo va mal, pasa al bloque \"except\"\"\n",
    "            result = requests.get(f'{root}/{link}')  # estructura --> https://subslikescript.com/movie/X-Men_2-290334\n",
    "            content = result.text\n",
    "            soup = BeautifulSoup(content, 'lxml')\n",
    "\n",
    "            # Localice la caja que contiene el título y la transcripción\n",
    "            box = soup.find('article', class_='main-article')\n",
    "            # Localizar título y transcripción\n",
    "            title = box.find('h1').get_text()\n",
    "            transcript = box.find('div', class_='full-script').get_text(strip=True, separator=' ')\n",
    "\n",
    "            # Exportar los datos en un archivo de texto con el nombre \" title \".\n",
    "            with open(f'{title}.txt', 'w') as file:\n",
    "                file.write(transcript)\n",
    "        except:\n",
    "            print('------ Link not working -------')\n",
    "            print(link)"
   ]
  }
 ],
 "metadata": {
  "kernelspec": {
   "display_name": "base",
   "language": "python",
   "name": "python3"
  },
  "language_info": {
   "codemirror_mode": {
    "name": "ipython",
    "version": 3
   },
   "file_extension": ".py",
   "mimetype": "text/x-python",
   "name": "python",
   "nbconvert_exporter": "python",
   "pygments_lexer": "ipython3",
   "version": "3.9.5"
  }
 },
 "nbformat": 4,
 "nbformat_minor": 2
}
