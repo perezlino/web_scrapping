{
 "cells": [
  {
   "cell_type": "markdown",
   "metadata": {},
   "source": [
    "### **Probar nuestro XPath**"
   ]
  },
  {
   "cell_type": "markdown",
   "metadata": {},
   "source": [
    "Este es el website con el que trabajaremos:"
   ]
  },
  {
   "cell_type": "markdown",
   "metadata": {},
   "source": [
    "https://scrapinghub.github.io/xpath-playground/"
   ]
  },
  {
   "cell_type": "markdown",
   "metadata": {},
   "source": [
    "Si trabajamos con el siguiente HTML de ejemplo:"
   ]
  },
  {
   "cell_type": "code",
   "execution_count": null,
   "metadata": {
    "vscode": {
     "languageId": "html"
    }
   },
   "outputs": [],
   "source": [
    "   <article class =\"main-article\">\n",
    "        <h1> Titanic(1997) </h1>\n",
    "        <p class =\"plot\" > 84 years later... </p>\n",
    "        <p class =\"plot2\" > In the end ... </p>\n",
    "        <div class =\"full-script\">\n",
    "        \"13 meters. You should see it. \"\n",
    "        \"Okay, take her up and over the bow rail. \"\n",
    "        </div>\n",
    "    </article>"
   ]
  },
  {
   "cell_type": "markdown",
   "metadata": {},
   "source": [
    "#### Ejemplo 1"
   ]
  },
  {
   "cell_type": "code",
   "execution_count": null,
   "metadata": {
    "vscode": {
     "languageId": "html"
    }
   },
   "outputs": [],
   "source": [
    "<!-- Xpath --> \n",
    "//h1\n",
    "\n",
    "<!-- Resultado --> \n",
    "<h1> Titanic(1997) </h1>"
   ]
  },
  {
   "cell_type": "markdown",
   "metadata": {},
   "source": [
    "#### Ejemplo 2"
   ]
  },
  {
   "cell_type": "markdown",
   "metadata": {},
   "source": [
    "<!-- Xpath --> \n",
    "//h1/text()\n",
    "\n",
    "<!-- Resultado --> \n",
    "Titanic(1997)"
   ]
  },
  {
   "cell_type": "markdown",
   "metadata": {},
   "source": [
    "#### Ejemplo 3"
   ]
  },
  {
   "cell_type": "code",
   "execution_count": null,
   "metadata": {
    "vscode": {
     "languageId": "html"
    }
   },
   "outputs": [],
   "source": [
    "<!-- Xpath --> \n",
    "//p\n",
    "\n",
    "<!-- Resultado --> \n",
    "<p class=\"plot\"> 84 years later... </p>\n",
    "<p class=\"plot2\"> In the end ... </p>"
   ]
  },
  {
   "cell_type": "markdown",
   "metadata": {},
   "source": [
    "#### Ejemplo 4"
   ]
  },
  {
   "cell_type": "code",
   "execution_count": null,
   "metadata": {
    "vscode": {
     "languageId": "html"
    }
   },
   "outputs": [],
   "source": [
    "<!-- Xpath --> \n",
    "//p[1]\n",
    "\n",
    "<!-- Resultado --> \n",
    "<p class=\"plot\"> 84 years later... </p>"
   ]
  },
  {
   "cell_type": "markdown",
   "metadata": {},
   "source": [
    "#### Ejemplo 5"
   ]
  },
  {
   "cell_type": "code",
   "execution_count": null,
   "metadata": {
    "vscode": {
     "languageId": "html"
    }
   },
   "outputs": [],
   "source": [
    "<!-- Xpath --> \n",
    "//p[2]\n",
    "\n",
    "<!-- Resultado --> \n",
    "<p class=\"plot2\"> In the end ... </p>"
   ]
  },
  {
   "cell_type": "markdown",
   "metadata": {},
   "source": [
    "#### Ejemplo 6"
   ]
  },
  {
   "cell_type": "code",
   "execution_count": null,
   "metadata": {
    "vscode": {
     "languageId": "html"
    }
   },
   "outputs": [],
   "source": [
    "<!-- Xpath --> \n",
    "//div\n",
    "\n",
    "<!-- Resultado --> \n",
    "<div class=\"full-script\"> \"13 meters. You should see it. \" \"Okay, take her up and over the bow rail. \" </div>"
   ]
  },
  {
   "cell_type": "markdown",
   "metadata": {},
   "source": [
    "#### Ejemplo 7"
   ]
  },
  {
   "cell_type": "code",
   "execution_count": null,
   "metadata": {
    "vscode": {
     "languageId": "html"
    }
   },
   "outputs": [],
   "source": [
    "<!-- Xpath --> \n",
    "//div/text()\n",
    "\n",
    "<!-- Resultado --> \n",
    "\"13 meters. You should see it. \" \"Okay, take her up and over the bow rail. \""
   ]
  },
  {
   "cell_type": "markdown",
   "metadata": {},
   "source": [
    "#### Ejemplo 8"
   ]
  },
  {
   "cell_type": "code",
   "execution_count": null,
   "metadata": {
    "vscode": {
     "languageId": "html"
    }
   },
   "outputs": [],
   "source": [
    "<!-- Xpath --> \n",
    "//div[@class=\"full-script\"]\n",
    "\n",
    "<!-- Resultado --> \n",
    "<div class=\"full-script\"> \"13 meters. You should see it. \" \"Okay, take her up and over the bow rail. \" </div>"
   ]
  },
  {
   "cell_type": "markdown",
   "metadata": {},
   "source": [
    "#### Ejemplo 9"
   ]
  },
  {
   "cell_type": "code",
   "execution_count": null,
   "metadata": {
    "vscode": {
     "languageId": "html"
    }
   },
   "outputs": [],
   "source": [
    "<!-- Xpath --> \n",
    "//div[@class=\"full-script\"]/text()\n",
    "\n",
    "<!-- Resultado --> \n",
    "\"13 meters. You should see it. \" \"Okay, take her up and over the bow rail. \""
   ]
  },
  {
   "cell_type": "markdown",
   "metadata": {},
   "source": [
    "#### Ejemplo 10"
   ]
  },
  {
   "cell_type": "code",
   "execution_count": null,
   "metadata": {
    "vscode": {
     "languageId": "html"
    }
   },
   "outputs": [],
   "source": [
    "<!-- Xpath --> \n",
    "//p[@class=\"plot\"]\n",
    "\n",
    "<!-- Resultado --> \n",
    "<p class=\"plot\"> 84 years later... </p>"
   ]
  },
  {
   "cell_type": "markdown",
   "metadata": {},
   "source": [
    "#### Ejemplo 11"
   ]
  },
  {
   "cell_type": "code",
   "execution_count": null,
   "metadata": {
    "vscode": {
     "languageId": "html"
    }
   },
   "outputs": [],
   "source": [
    "<!-- Xpath --> \n",
    "//p[(@class=\"plot\") or (@class=\"plot2\")]\n",
    "\n",
    "<!-- Resultado --> \n",
    "<p class=\"plot\"> 84 years later... </p>\n",
    "<p class=\"plot2\"> In the end ... </p>"
   ]
  },
  {
   "cell_type": "markdown",
   "metadata": {},
   "source": [
    "#### Ejemplo 12"
   ]
  },
  {
   "cell_type": "code",
   "execution_count": null,
   "metadata": {
    "vscode": {
     "languageId": "html"
    }
   },
   "outputs": [],
   "source": [
    "<!-- Xpath --> \n",
    "//p[(@class=\"plot\") and (@class=\"plot2\")]\n",
    "\n",
    "<!-- Resultado --> \n"
   ]
  },
  {
   "cell_type": "markdown",
   "metadata": {},
   "source": [
    "#### Ejemplo 13"
   ]
  },
  {
   "cell_type": "code",
   "execution_count": null,
   "metadata": {
    "vscode": {
     "languageId": "html"
    }
   },
   "outputs": [],
   "source": [
    "<!-- Xpath --> \n",
    "//div[contains(@class, \"script\")]\n",
    "\n",
    "<!-- Resultado -->\n",
    "<div class=\"full-script\"> \"13 meters. You should see it. \" \"Okay, take her up and over the bow rail. \" </div>"
   ]
  }
 ],
 "metadata": {
  "kernelspec": {
   "display_name": "base",
   "language": "python",
   "name": "python3"
  },
  "language_info": {
   "codemirror_mode": {
    "name": "ipython",
    "version": 3
   },
   "file_extension": ".py",
   "mimetype": "text/x-python",
   "name": "python",
   "nbconvert_exporter": "python",
   "pygments_lexer": "ipython3",
   "version": "3.9.5"
  }
 },
 "nbformat": 4,
 "nbformat_minor": 2
}
