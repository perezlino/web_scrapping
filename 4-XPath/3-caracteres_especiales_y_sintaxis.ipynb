{
 "cells": [
  {
   "cell_type": "markdown",
   "metadata": {},
   "source": [
    "### **Caracteres especiales y sintaxis**"
   ]
  },
  {
   "cell_type": "markdown",
   "metadata": {},
   "source": [
    "Este es el website con el que trabajaremos:"
   ]
  },
  {
   "cell_type": "markdown",
   "metadata": {},
   "source": [
    "https://scrapinghub.github.io/xpath-playground/"
   ]
  },
  {
   "cell_type": "markdown",
   "metadata": {},
   "source": [
    "Si trabajamos con el siguiente HTML de ejemplo:"
   ]
  },
  {
   "cell_type": "code",
   "execution_count": null,
   "metadata": {
    "vscode": {
     "languageId": "html"
    }
   },
   "outputs": [],
   "source": [
    "   <article class =\"main-article\">\n",
    "        <h1> Titanic(1997) </h1>\n",
    "        <p class =\"plot\" > 84 years later... </p>\n",
    "        <p class =\"plot2\" > In the end ... </p>\n",
    "        <div class =\"full-script\">\n",
    "        \"13 meters. You should see it. \"\n",
    "        \"Okay, take her up and over the bow rail. \"\n",
    "        </div>\n",
    "    </article>"
   ]
  },
  {
   "cell_type": "markdown",
   "metadata": {},
   "source": [
    "#### Caracteres especiales"
   ]
  },
  {
   "cell_type": "markdown",
   "metadata": {},
   "source": [
    "- **`/`**  : Selecciona los `hijos` del conjunto de nodos a la izquierda de este carácter.\n",
    "- **`//`** : Especifica que el conjunto de nodos coincidente debe estar situado en `cualquier nivel` del documento."
   ]
  },
  {
   "cell_type": "markdown",
   "metadata": {},
   "source": [
    "#### Ejemplo 1"
   ]
  },
  {
   "cell_type": "code",
   "execution_count": null,
   "metadata": {
    "vscode": {
     "languageId": "html"
    }
   },
   "outputs": [],
   "source": [
    "<!-- Xpath --> \n",
    "//article/h1\n",
    "\n",
    "<!-- Resultado --> \n",
    "<h1> Titanic(1997) </h1>"
   ]
  },
  {
   "cell_type": "markdown",
   "metadata": {},
   "source": [
    "#### Ejemplo 2"
   ]
  },
  {
   "cell_type": "code",
   "execution_count": null,
   "metadata": {
    "vscode": {
     "languageId": "html"
    }
   },
   "outputs": [],
   "source": [
    "<!-- Xpath --> \n",
    "//article/h1/text()\n",
    "\n",
    "<!-- Resultado --> \n",
    "Titanic(1997)"
   ]
  },
  {
   "cell_type": "markdown",
   "metadata": {},
   "source": [
    "#### Ejemplo 3"
   ]
  },
  {
   "cell_type": "code",
   "execution_count": null,
   "metadata": {
    "vscode": {
     "languageId": "html"
    }
   },
   "outputs": [],
   "source": [
    "<!-- Xpath --> \n",
    "//article/p\n",
    "\n",
    "<!-- Resultado --> \n",
    "<p class=\"plot\"> 84 years later... </p>\n",
    "<p class=\"plot2\"> In the end ... </p>"
   ]
  },
  {
   "cell_type": "markdown",
   "metadata": {},
   "source": [
    "#### Ejemplo 4"
   ]
  },
  {
   "cell_type": "code",
   "execution_count": null,
   "metadata": {
    "vscode": {
     "languageId": "html"
    }
   },
   "outputs": [],
   "source": [
    "<!-- Xpath --> \n",
    "//article/p/text()\n",
    "\n",
    "<!-- Resultado --> \n",
    "84 years later...\n",
    "In the end ..."
   ]
  },
  {
   "cell_type": "markdown",
   "metadata": {},
   "source": [
    "#### Ejemplo 5"
   ]
  },
  {
   "cell_type": "code",
   "execution_count": null,
   "metadata": {
    "vscode": {
     "languageId": "html"
    }
   },
   "outputs": [],
   "source": [
    "<!-- Xpath --> \n",
    "//article//text()\n",
    "\n",
    "<!-- Resultado --> \n",
    "Titanic(1997)\n",
    "84 years later...\n",
    "In the end ...\n",
    "\"13 meters. You should see it. \" \"Okay, take her up and over the bow rail. \""
   ]
  },
  {
   "cell_type": "markdown",
   "metadata": {},
   "source": [
    "#### Caracteres especiales"
   ]
  },
  {
   "cell_type": "markdown",
   "metadata": {},
   "source": [
    "- **`.`**  : Especifica que se debe utilizar el contexto `actual` (se refiere al nodo actual).\n",
    "- **`..`** : Hace referencia a un nodo `padre`."
   ]
  },
  {
   "cell_type": "markdown",
   "metadata": {},
   "source": [
    "#### Ejemplo 6"
   ]
  },
  {
   "cell_type": "code",
   "execution_count": null,
   "metadata": {
    "vscode": {
     "languageId": "html"
    }
   },
   "outputs": [],
   "source": [
    "<!-- Xpath --> \n",
    "//h1/.\n",
    "\n",
    "<!-- Resultado --> \n",
    "<h1> Titanic(1997) </h1>"
   ]
  },
  {
   "cell_type": "markdown",
   "metadata": {},
   "source": [
    "#### Ejemplo 7"
   ]
  },
  {
   "cell_type": "code",
   "execution_count": null,
   "metadata": {
    "vscode": {
     "languageId": "html"
    }
   },
   "outputs": [],
   "source": [
    "<!-- Xpath --> \n",
    "//h1/..\n",
    "\n",
    "<!-- Resultado --> \n",
    "<article class=\"main-article\"> <h1> Titanic(1997) </h1> <p class=\"plot\"> 84 years later... </p> <p class=\"plot2\"> In the end ... </p> <div class=\"full-script\"> \"13 meters. You should see it. \" \"Okay, take her up and over the bow rail. \" </div> </article>"
   ]
  },
  {
   "cell_type": "markdown",
   "metadata": {},
   "source": [
    "#### Caracteres especiales"
   ]
  },
  {
   "cell_type": "markdown",
   "metadata": {},
   "source": [
    "- **`*`**  : Un carácter comodín que `selecciona todos los elementos` o atributos independientemente de sus nombres.\n",
    "- **`./*`** : Selecciona todos los nodos hijos teniendo en cuenta el contexto actual"
   ]
  },
  {
   "cell_type": "markdown",
   "metadata": {},
   "source": [
    "#### Ejemplo 8"
   ]
  },
  {
   "cell_type": "code",
   "execution_count": null,
   "metadata": {
    "vscode": {
     "languageId": "html"
    }
   },
   "outputs": [],
   "source": [
    "<!-- Xpath --> \n",
    "//article/*\n",
    "\n",
    "<!-- Resultado --> \n",
    "<h1> Titanic(1997) </h1>\n",
    "<p class=\"plot\"> 84 years later... </p>\n",
    "<p class=\"plot2\"> In the end ... </p>\n",
    "<div class=\"full-script\"> \"13 meters. You should see it. \" \"Okay, take her up and over the bow rail. \" </div>"
   ]
  },
  {
   "cell_type": "markdown",
   "metadata": {},
   "source": [
    "#### Ejemplo 9"
   ]
  },
  {
   "cell_type": "code",
   "execution_count": null,
   "metadata": {
    "vscode": {
     "languageId": "html"
    }
   },
   "outputs": [],
   "source": [
    "<!-- Xpath --> \n",
    "//article/*/text()\n",
    "\n",
    "<!-- Resultado --> \n",
    "Titanic(1997)\n",
    "84 years later...\n",
    "In the end ...\n",
    "\"13 meters. You should see it. \" \"Okay, take her up and over the bow rail. \""
   ]
  },
  {
   "cell_type": "markdown",
   "metadata": {},
   "source": [
    "#### Caracteres especiales"
   ]
  },
  {
   "cell_type": "markdown",
   "metadata": {},
   "source": [
    "- **`@`**   : Selecciona un atributo\n",
    "- **`()`**  : Agrupar una expresión XPath\n",
    "- **`[n]`** : Indica que un nodo con índice \"n\" debe ser seleccionado"
   ]
  }
 ],
 "metadata": {
  "language_info": {
   "name": "python"
  }
 },
 "nbformat": 4,
 "nbformat_minor": 2
}
