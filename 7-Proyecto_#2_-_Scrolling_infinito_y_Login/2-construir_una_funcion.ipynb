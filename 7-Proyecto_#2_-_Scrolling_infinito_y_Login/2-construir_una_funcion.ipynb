{
 "cells": [
  {
   "cell_type": "markdown",
   "metadata": {},
   "source": [
    "### **Construir una función**"
   ]
  },
  {
   "cell_type": "markdown",
   "metadata": {},
   "source": [
    "Obtener todas las tarjetas/cajas de tweets listadas en una sola página\n",
    "\n",
    "<center><img src=\"https://i.postimg.cc/BnKFjpr3/ws-28.png\"></center>\n",
    "<center><img src=\"https://i.postimg.cc/TPvDgmxD/ws-29.png\"></center>\n",
    "\n",
    "Obtener el nombre de usuario:\n",
    "\n",
    "<center><img src=\"https://i.postimg.cc/9fPqpMXN/ws-30.png\"></center>\n",
    "\n",
    "Obtener el texto de la tarjeta:\n",
    "\n",
    "<center><img src=\"https://i.postimg.cc/ydV3rHk6/ws-31.png\"></center>"
   ]
  },
  {
   "cell_type": "markdown",
   "metadata": {},
   "source": [
    "Primer diseño de código:"
   ]
  },
  {
   "cell_type": "code",
   "execution_count": null,
   "metadata": {},
   "outputs": [],
   "source": [
    "from selenium import webdriver\n",
    "import time\n",
    "import pandas as pd\n",
    "\n",
    "website = 'https://twitter.com/search?q=python&src=typed_query'\n",
    "driver = webdriver.Chrome(executable_path = r'C:\\Users\\Alfonso\\Downloads\\Programas\\chromedriver\\chromedriver.exe')\n",
    "driver.get(website)\n",
    "driver.maximize_window()\n",
    "\n",
    "time.sleep(5)\n",
    "\n",
    "tweets = driver.find_elements_by_xpath(\"//article[@role='article']\")\n",
    "\n",
    "# Inicializando el almacenamiento\n",
    "user_data = []\n",
    "text_data = []\n",
    "\n",
    "for tweet in tweets:\n",
    "    user = tweet.find_element_by_xpath(\".//span[contains(text(), '@')]\").text  # Obtener el nombre de usuario\n",
    "    text = tweet.find_element_by_xpath(\".//div[@lang]\").text  # Obtener el texto de la tarjeta\n",
    "    user_data.append(user)\n",
    "    text_data.append(text)\n",
    "\n",
    "driver.quits()\n",
    "\n",
    "# Almacenar los datos en un DataFrame y exportar a un archivo csv\n",
    "df_tweets = pd.DataFrame({'user': user_data, 'text': text_data})\n",
    "df_tweets.to_csv('tweets.csv', index=False)\n",
    "\n",
    "print(df_tweets)"
   ]
  },
  {
   "cell_type": "markdown",
   "metadata": {},
   "source": [
    "Diseño optimizado:"
   ]
  },
  {
   "cell_type": "code",
   "execution_count": null,
   "metadata": {},
   "outputs": [],
   "source": [
    "from selenium import webdriver\n",
    "from selenium.webdriver.common.by import By\n",
    "from selenium.webdriver.support.ui import WebDriverWait\n",
    "from selenium.webdriver.support import expected_conditions as EC\n",
    "import pandas as pd\n",
    "\n",
    "website = 'https://twitter.com/search?q=python&src=typed_query'\n",
    "driver = webdriver.Chrome(executable_path = r'C:\\Users\\Alfonso\\Downloads\\Programas\\chromedriver\\chromedriver.exe')\n",
    "driver.get(website)\n",
    "driver.maximize_window()\n",
    "\n",
    "\n",
    "def get_tweet(element):\n",
    "    \"\"\"Esta función scrapea datos de tweets. Devuelve una lista con 2 elementos; nombre de usuario y texto\"\"\"\n",
    "    try:\n",
    "        user = element.find_element_by_xpath(\".//span[contains(text(), '@')]\").text  # Obtener el nombre de usuario\n",
    "        text = element.find_element_by_xpath(\".//div[@lang]\").text  # Obtener el texto de la tarjeta\n",
    "        tweets_data = [user, text]\n",
    "    except:\n",
    "        tweets_data = ['user', 'text']\n",
    "    return tweets_data\n",
    "\n",
    "\n",
    "# Inicializando el almacenamiento\n",
    "user_data = []\n",
    "text_data = []\n",
    "\n",
    "# Obtener todas las tarjetas/cajas de tweets listadas en una sola página\n",
    "tweets = WebDriverWait(driver, 5).until(EC.presence_of_all_elements_located((By.XPATH, \"//article[@role='article']\")))\n",
    "# Recorrer la lista de tweets\n",
    "for tweet in tweets:\n",
    "    tweet_list = get_tweet(tweet)  # llamando a la función get_tweet para obtener los datos de la lista de tweets\n",
    "    user_data.append(tweet_list[0])  # añadir el primer elemento de tweet_list (usuario)\n",
    "    text_data.append(\" \".join(tweet_list[1].split()))  # añadir el segundo elemento de tweet_list (texto)\n",
    "\n",
    "driver.quit()\n",
    "\n",
    "# Almacenar los datos en un DataFrame y exportar a un archivo csv\n",
    "df_tweets = pd.DataFrame({'user': user_data, 'text': text_data})\n",
    "df_tweets.to_csv('tweets.csv', index=False)\n",
    "\n",
    "print(df_tweets)\n"
   ]
  },
  {
   "cell_type": "markdown",
   "metadata": {},
   "source": [
    "Test con las funciones de `join()` y `split()`"
   ]
  },
  {
   "cell_type": "code",
   "execution_count": 12,
   "metadata": {},
   "outputs": [
    {
     "name": "stdout",
     "output_type": "stream",
     "text": [
      "  Alfonso Perez  \n",
      "['Alfonso', 'Perez']\n"
     ]
    }
   ],
   "source": [
    "cadena = '  Alfonso Perez  '\n",
    "mensaje = \"\".join(cadena)\n",
    "mensajeb = mensaje.split()\n",
    "\n",
    "print(mensaje)\n",
    "\n",
    "print(mensajeb)"
   ]
  },
  {
   "cell_type": "code",
   "execution_count": 16,
   "metadata": {},
   "outputs": [
    {
     "name": "stdout",
     "output_type": "stream",
     "text": [
      "    A l f o n s o   P e r e z    \n",
      "['A', 'l', 'f', 'o', 'n', 's', 'o', 'P', 'e', 'r', 'e', 'z']\n"
     ]
    }
   ],
   "source": [
    "cadena = '  Alfonso Perez  '\n",
    "mensaje = \" \".join(cadena)\n",
    "mensajeb = mensaje.split()\n",
    "\n",
    "print(mensaje)\n",
    "\n",
    "print(mensajeb)"
   ]
  }
 ],
 "metadata": {
  "kernelspec": {
   "display_name": "base",
   "language": "python",
   "name": "python3"
  },
  "language_info": {
   "codemirror_mode": {
    "name": "ipython",
    "version": 3
   },
   "file_extension": ".py",
   "mimetype": "text/x-python",
   "name": "python",
   "nbconvert_exporter": "python",
   "pygments_lexer": "ipython3",
   "version": "3.9.5"
  }
 },
 "nbformat": 4,
 "nbformat_minor": 2
}
