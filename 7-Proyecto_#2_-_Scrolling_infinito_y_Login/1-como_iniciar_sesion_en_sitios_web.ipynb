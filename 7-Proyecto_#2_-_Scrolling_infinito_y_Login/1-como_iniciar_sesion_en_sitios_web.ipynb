{
 "cells": [
  {
   "cell_type": "markdown",
   "metadata": {},
   "source": [
    "### **Cómo iniciar sesión en sitios web**"
   ]
  },
  {
   "cell_type": "markdown",
   "metadata": {},
   "source": [
    "Vamos a aprender cómo iniciar sesión en sitios web utilizando Selenium. Por lo que vamos a iniciar sesión en el sitio web de Twitter. Pero antes de hacerlo, quiero decirles que el inicio de sesión en sitios web para el web scraping no es una buena práctica, porque no sólo su IP podría ser bloqueado, sino también tu cuenta puede ser baneada. Así, por ejemplo, si entras en Twitter muchas veces, podrías perder el acceso a tu cuenta. Así que intenta no hacerlo a menos que sea absolutamente necesario. Yo trato de evitarlo a toda costa y no lo uso mucho, pero sólo con fines educativos, te voy a mostrar cómo hacerlo."
   ]
  },
  {
   "cell_type": "markdown",
   "metadata": {},
   "source": [
    "Localizando las entradas de nombre de usuario y contraseña y enviar el texto a los inputs:\n",
    "\n",
    "<center><img src=\"https://i.postimg.cc/kGvhcYmk/ws-22.png\"></center>\n",
    "<center><img src=\"https://i.postimg.cc/T2VSf1DC/ws-23.png\"></center>\n",
    "<center><img src=\"https://i.postimg.cc/MKtFfLtB/ws-24.png\"></center>\n",
    "\n",
    "Pulsar el botón \"Siguiente\n",
    "\n",
    "<center><img src=\"https://i.postimg.cc/fbJzrF8n/ws-25.png\"></center>\n",
    "\n",
    "Contraseña\n",
    "\n",
    "<center><img src=\"https://i.postimg.cc/NM21BdfZ/ws-26.png\"></center>\n",
    "\n",
    "Localizar el botón de inicio de sesión y hacer clic en él\n",
    "\n",
    "<center><img src=\"https://i.postimg.cc/5yc808Xy/ws-27.png\"></center>"
   ]
  },
  {
   "cell_type": "code",
   "execution_count": null,
   "metadata": {},
   "outputs": [],
   "source": [
    "from selenium import webdriver\n",
    "import time\n",
    "import os\n",
    "\n",
    "website = 'https://twitter.com/i/flow/login'\n",
    "driver = webdriver.Chrome(executable_path = r'C:\\Users\\Alfonso\\Downloads\\Programas\\chromedriver\\chromedriver.exe')\n",
    "driver.get(website)\n",
    "driver.maximize_window()\n",
    "\n",
    "# espera de 6 segundos para que la página cargue el contenido\n",
    "time.sleep(6)  # Este tiempo puede variar dependiendo de su computador\n",
    "\n",
    "# localizar las entradas de nombre de usuario y contraseña y enviar el texto a los inputs\n",
    "# username\n",
    "username = driver.find_element_by_xpath('//input[@autocomplete =\"username\"]')\n",
    "username.send_keys(\"my_username\")  # Escriba aquí su correo electrónico\n",
    "# username.send_keys(os.environ.get(\"TWITTER_USER\"))\n",
    "\n",
    "# Pulsar el botón \"Siguiente\n",
    "next_button = driver.find_element_by_xpath('//div[@role=\"button\"]//span[text()=\"Next\"]')\n",
    "next_button.click()\n",
    "\n",
    "# Espera de 2 segundos después de pulsar el botón\n",
    "time.sleep(2)\n",
    "\n",
    "# Contraseña\n",
    "password = driver.find_element_by_xpath('//input[@autocomplete =\"current-password\"]')\n",
    "password.send_keys(\"my_password\")  # Escriba aquí la contraseña\n",
    "# password.send_keys(os.environ.get(\"TWITTER_PASS\"))\n",
    "\n",
    "# Localizar el botón de inicio de sesión y hacer clic en él\n",
    "login_button = driver.find_element_by_xpath('//div[@role=\"button\"]//span[text()=\"Log in\"]')\n",
    "login_button.click()\n",
    "\n",
    "# Cerrando el driver\n",
    "# driver.quit()"
   ]
  }
 ],
 "metadata": {
  "language_info": {
   "name": "python"
  }
 },
 "nbformat": 4,
 "nbformat_minor": 2
}
