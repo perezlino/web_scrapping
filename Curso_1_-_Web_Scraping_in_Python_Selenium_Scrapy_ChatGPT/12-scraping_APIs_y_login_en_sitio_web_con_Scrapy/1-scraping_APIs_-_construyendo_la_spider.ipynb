{
 "cells": [
  {
   "cell_type": "markdown",
   "metadata": {},
   "source": [
    "### **Scraping APIs - Construyendo la spider**"
   ]
  },
  {
   "cell_type": "markdown",
   "metadata": {},
   "source": [
    "Vamos a trabajar con el siguiente sitio:\n",
    "\n",
    "https://quotes.toscrape.com/scroll"
   ]
  },
  {
   "cell_type": "markdown",
   "metadata": {},
   "source": [
    "Vamos a comenzar un nuevo proyecto:\n",
    "\n",
    "<center><img src=\"https://i.postimg.cc/HxFgqsdw/ws-193.png\"></center>\n",
    "<center><img src=\"https://i.postimg.cc/G3srkYxq/ws-194.png\"></center>\n",
    "\n",
    "Crearemos una nueva spider:\n",
    "\n",
    "<center><img src=\"https://i.postimg.cc/Zn3S4t51/ws-195.png\"></center>\n",
    "<center><img src=\"https://i.postimg.cc/15hSMtWP/ws-196.png\"></center>"
   ]
  },
  {
   "cell_type": "markdown",
   "metadata": {},
   "source": [
    "Si inspeccionamos el sitio web podemos encontrar la API y una vista previa:\n",
    "\n",
    "<center><img src=\"https://i.postimg.cc/Y9v7DmK2/ws-189.png\"></center>\n",
    "<center><img src=\"https://i.postimg.cc/3x9HKZ3J/ws-190.png\"></center>\n",
    "<center><img src=\"https://i.postimg.cc/cJby34Kp/ws-191.png\"></center>\n",
    "<center><img src=\"https://i.postimg.cc/t49jQcQM/ws-192.png\"></center>"
   ]
  },
  {
   "cell_type": "markdown",
   "metadata": {},
   "source": [
    "El código que utilizaremos en el archivo **`quotes.py`**:"
   ]
  },
  {
   "cell_type": "code",
   "execution_count": null,
   "metadata": {},
   "outputs": [],
   "source": [
    "import scrapy\n",
    "import json\n",
    "\n",
    "class QuotesSpider(scrapy.Spider):\n",
    "    name = 'quotes'\n",
    "    allowed_domains = ['quotes.toscrape.com']\n",
    "    start_urls = ['https://quotes.toscrape.com/api/quotes?page=1']\n",
    "\n",
    "    def parse(self, response):\n",
    "        # Almacenar la respuesta en json y obtener quotes\n",
    "        json_response = json.loads(response.body)\n",
    "        quotes = json_response.get('quotes')\n",
    "\n",
    "        # Recorrer los elementos de quotes\n",
    "        for quote in quotes:\n",
    "            # Devuelve los datos extraídos\n",
    "            yield {\n",
    "                'author': quote.get('author').get('name'),\n",
    "                'tags': quote.get('tags'),\n",
    "                'quotes': quote.get('text'),\n",
    "            }"
   ]
  },
  {
   "cell_type": "markdown",
   "metadata": {},
   "source": [
    "Ejecutamos desde la consola y extraemos la data a un archivo **`JSON`**:\n",
    "\n",
    "<center><img src=\"https://i.postimg.cc/59kgMQcd/ws-197.png\"></center>\n",
    "<center><img src=\"https://i.postimg.cc/7YGVPPDC/ws-198.png\"></center>"
   ]
  }
 ],
 "metadata": {
  "language_info": {
   "name": "python"
  }
 },
 "nbformat": 4,
 "nbformat_minor": 2
}
