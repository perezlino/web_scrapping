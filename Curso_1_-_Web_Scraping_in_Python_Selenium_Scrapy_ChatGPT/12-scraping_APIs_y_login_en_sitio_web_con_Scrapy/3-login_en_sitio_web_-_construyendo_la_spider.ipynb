{
 "cells": [
  {
   "cell_type": "markdown",
   "metadata": {},
   "source": [
    "### **Inicio de sesión en el sitio web - Construcción de la spider**"
   ]
  },
  {
   "cell_type": "markdown",
   "metadata": {},
   "source": [
    "Vamos a hacer uso del sitioweb:\n",
    "\n",
    "https://quotes.toscrape.com/login"
   ]
  },
  {
   "cell_type": "markdown",
   "metadata": {},
   "source": [
    "Quiero recordarte que sólo hago este vídeo en concreto con fines educativos. No recomendaré scrapear sitios web que requieran loguearse. Esto no es una buena práctica, porque si el sitio web no quiere ser scrapeado, los propietarios no sólo banearán tu IP, sino también tu cuenta. Así que piensa dos veces antes de hacer esto, incluso si tus intenciones son buenas."
   ]
  },
  {
   "cell_type": "markdown",
   "metadata": {},
   "source": [
    "Comenzamos inspeccionando el sitioweb:\n",
    "\n",
    "<center><img src=\"https://i.postimg.cc/6p19n4Gd/ws-205.png\"></center>\n",
    "\n",
    "A continuación, seleccionemos la pestaña \"**`Red`**\" y, después, hacemos clic en el botón \"**`Todo`**\" y marcamos la casilla \"**`Conservar el registro`**\". Esto nos ayudará a almacenar la solicitud (request) que enviamos cuando iniciamos sesión. Vamos a escribir el username y el password (no es necesario registrarse) y nos logeamos (el icono de prohibido nos sirve para limpiar la pantalla de inspeccion al momento de escribir nuestro usuario y contraseña):\n",
    "\n",
    "<center><img src=\"https://i.postimg.cc/KYkmNcnC/ws-206.png\"></center>"
   ]
  },
  {
   "cell_type": "markdown",
   "metadata": {},
   "source": [
    "En la pestaña \"**`Encabezados`**\", podemos ver que la **`Request URL`** es **`quotes.toscrape.com/login`**. El **`Request Method`** es **`POST`**. Y el **`Status code`** es **`302`**, que representa la redirección de la URL. Antes de enviar el formulario, estábamos en /login. Después de enviarlo, fuimos redirigidos a la homepage. Esto es lo que representa el código de Estado 302.\n",
    "\n",
    "<center><img src=\"https://i.postimg.cc/bJ1876VT/ws-207.png\"></center>"
   ]
  },
  {
   "cell_type": "markdown",
   "metadata": {},
   "source": [
    "En la pestaña **`Carga útil`** podemos ver un token que tiene un valor que es dinámico, es decir, cada vez se generará un valor nuevo. También nos muestra nuestro **`username`** y **`password`**.\n",
    "\n",
    "<center><img src=\"https://i.postimg.cc/hGkc3Fsv/ws-208.png\"></center>"
   ]
  },
  {
   "cell_type": "markdown",
   "metadata": {},
   "source": [
    "Vamos a crear una nueva spider llamada **`quotes_login`**:\n",
    "\n",
    "<center><img src=\"https://i.postimg.cc/nr9JKpN0/ws-209.png\"></center>\n",
    "<center><img src=\"https://i.postimg.cc/JtwWPSLm/ws-210.png\"></center>"
   ]
  },
  {
   "cell_type": "markdown",
   "metadata": {},
   "source": [
    "Cuando inspeccionamos el homepage del sitio necesitamos encontrar el código que almacene el token:\n",
    "\n",
    "<center><img src=\"https://i.postimg.cc/9QhDfnqv/ws-211.png\"></center>\n",
    "\n",
    "Al momento de escribir el username y password y pulsar el botón de **`Login`**, si nos redirige correctamente a una página con contenido nos debiera aparecer un código que posea la palabra **`Logout`**:\n",
    "\n",
    "<center><img src=\"https://i.postimg.cc/tCP1pj73/ws-212.png\"></center>"
   ]
  },
  {
   "cell_type": "markdown",
   "metadata": {},
   "source": [
    "El código que utilizaremos en el archivo **`quotes.py`**:"
   ]
  },
  {
   "cell_type": "code",
   "execution_count": null,
   "metadata": {},
   "outputs": [],
   "source": [
    "import scrapy\n",
    "from scrapy import FormRequest\n",
    "\n",
    "class QuotesLoginSpider(scrapy.Spider):\n",
    "    name = 'quotes_login'\n",
    "    allowed_domains = ['quotes.toscrape.com']\n",
    "    start_urls = ['https://quotes.toscrape.com/login']\n",
    "\n",
    "    # Procesando el csrf_token, el username y la password\n",
    "    def parse(self, response):\n",
    "        csrf_token = response.xpath(\"//input[@name='csrf_token']/@value\").get()\n",
    "    # enviando FormRequest (FormRequest extiende el Request base con funcionalidad para tratar con formularios HTML)\n",
    "    # FormRequest.from_response() simula el inicio de sesión de un usuario\n",
    "        yield FormRequest.from_response(\n",
    "            response,\n",
    "            formxpath='//form',\n",
    "            formdata={\n",
    "                'csrf_token': csrf_token,\n",
    "                'username': 'admin',\n",
    "                'password': 'admin'\n",
    "            },\n",
    "            callback=self.after_login\n",
    "        )\n",
    "    # aquí definimos la función after_login que usamos en callback\n",
    "    def after_login(self, response):\n",
    "        # Si hay un texto \"logout\" en la página, imprime \"Successfully logged in!\"\n",
    "        if response.xpath(\"//a[@href='/logout']/text()\").get():\n",
    "            print('Successfully logged in!')"
   ]
  },
  {
   "cell_type": "markdown",
   "metadata": {},
   "source": [
    "Si ejecutamos por consola:\n",
    "\n",
    "<center><img src=\"https://i.postimg.cc/CMRBrDg6/ws-213.png\"></center>\n",
    "<center><img src=\"https://i.postimg.cc/T2Byzw22/ws-214.png\"></center>"
   ]
  }
 ],
 "metadata": {
  "language_info": {
   "name": "python"
  }
 },
 "nbformat": 4,
 "nbformat_minor": 2
}
