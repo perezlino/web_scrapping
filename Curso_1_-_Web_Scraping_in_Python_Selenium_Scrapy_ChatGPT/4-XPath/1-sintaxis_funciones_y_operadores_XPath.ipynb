{
 "cells": [
  {
   "cell_type": "markdown",
   "metadata": {},
   "source": [
    "### **Sintaxis, funciones y operadores XPath**"
   ]
  },
  {
   "cell_type": "markdown",
   "metadata": {},
   "source": [
    "En este video, vamos a aprender cómo funciona XPath, XPath es clave para aprender fácilmente Web scraping con Selenium y Scrapy. XPath significa XML path language. XPath es un lenguaje query para seleccionar notas de un documento XML, pero también podemos usarlo para seleccionar elementos de páginas HTML. Otra forma de seleccionar elementos de páginas web es utilizando selectores CSS. CSS son las siglas de Cascading Style Sheets (hojas de estilo en cascada). Es el lenguaje que se creó principalmente para dar estilo a las páginas web HTML. CSS y XPath tienen algunas similitudes en su sintaxis. Sin embargo, en este curso veremos principalmente cómo seleccionar elementos con XPath debido a su simplicidad. \n",
    "\n",
    "Ahora revisemos la sintaxis de XPath. Con XPath, podemos seleccionar un elemento usando doble slash y luego escribimos el nombre de ese elemento. Entonces esta es la forma más básica de asignar un elemento o nota. Por ejemplo, si queremos seleccionar todos los elementos ``<h1>`` de una página HTML, hacemos ``doble slash h1``. Este doble slash es un carácter especial en XPath.\n",
    "\n",
    "Esto significa elegir una nota de coincidencia que se encuentre en cualquier nivel dentro del documento XML. Vamos a ver el significado de este y otros caracteres especiales en detalle en el próximo vídeo."
   ]
  },
  {
   "cell_type": "code",
   "execution_count": null,
   "metadata": {
    "vscode": {
     "languageId": "html"
    }
   },
   "outputs": [],
   "source": [
    "//tagName"
   ]
  },
  {
   "cell_type": "markdown",
   "metadata": {},
   "source": [
    "Ahora podemos seleccionar un elemento en función de su posición utilizando los corchetes \"[]\". Imaginemos que hay dos etiquetas ``<h1>`` en la página. Escogeremos la primera escribiendo la expresión XPath ``//h1`` más 1 dentro de unos corchetes y escogeremos la segunda etiqueta h1 con ``//h1`` y el número 2 entre corchetes."
   ]
  },
  {
   "cell_type": "code",
   "execution_count": null,
   "metadata": {
    "vscode": {
     "languageId": "html"
    }
   },
   "outputs": [],
   "source": [
    "//tagName[1]"
   ]
  },
  {
   "cell_type": "markdown",
   "metadata": {},
   "source": [
    "Ahora también podemos especificar los atributos, añadiendo corchetes y escribiendo dentro el nombre del atributo. Esta es la versión estándar de un XPath. Se inicia con doble slash, seguido por el nombre del tag, abro corchetes, el símbolo @ y el nombre del atributo, como la clase, ID y así sucesivamente. Luego escribimos el signo igual, a continuación, abro comillas y dentro de las comillas el valor del atributo.\n",
    "Así es como construimos una expresión promedio en XPath."
   ]
  },
  {
   "cell_type": "code",
   "execution_count": null,
   "metadata": {
    "vscode": {
     "languageId": "html"
    }
   },
   "outputs": [],
   "source": [
    "//tagName[@AttributeName=\"Value\"]"
   ]
  },
  {
   "cell_type": "markdown",
   "metadata": {},
   "source": [
    "También podemos utilizar algunas funciones para encontrar valores específicos. Por ejemplo, esta la función \"`starts-with()`\" que buscará el texto al principio, mientras que la función \"`contains()`\" buscará el texto incluido dentro de un elemento. "
   ]
  },
  {
   "cell_type": "code",
   "execution_count": null,
   "metadata": {
    "vscode": {
     "languageId": "html"
    }
   },
   "outputs": [],
   "source": [
    "starts-with()\n",
    "contains()"
   ]
  },
  {
   "cell_type": "markdown",
   "metadata": {},
   "source": [
    "En este ejemplo, incluí la función `contains()` dentro de esa expresión. Como puedes ver, tenemos que incluir paréntesis para envolver el nombre del atributo y el valor del atributo. También tenemos que utilizar la `coma` para separar el nombre del atributo y el valor del atributo, en lugar de la igualdad signo."
   ]
  },
  {
   "cell_type": "code",
   "execution_count": null,
   "metadata": {
    "vscode": {
     "languageId": "html"
    }
   },
   "outputs": [],
   "source": [
    "//tagName[contains(@AttributeName, \"Value\")]"
   ]
  },
  {
   "cell_type": "markdown",
   "metadata": {},
   "source": [
    "También puede utilizar los operadores lógicos \"`and`\" \"`or`\" con expresiones XPath. Deben colocarse dentro de los corchetes. Y cada vez que utilice operadores incluya un paréntesis para cada expresión XPath."
   ]
  },
  {
   "cell_type": "code",
   "execution_count": null,
   "metadata": {
    "vscode": {
     "languageId": "html"
    }
   },
   "outputs": [],
   "source": [
    "//tagName[(expression1) and (expression2)]"
   ]
  }
 ],
 "metadata": {
  "language_info": {
   "name": "python"
  }
 },
 "nbformat": 4,
 "nbformat_minor": 2
}
