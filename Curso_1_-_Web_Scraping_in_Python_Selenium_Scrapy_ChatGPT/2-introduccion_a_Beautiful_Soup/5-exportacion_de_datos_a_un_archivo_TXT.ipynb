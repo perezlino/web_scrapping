{
 "cells": [
  {
   "cell_type": "markdown",
   "metadata": {},
   "source": [
    "### **Exportación de datos a un archivo TXT**"
   ]
  },
  {
   "cell_type": "code",
   "execution_count": 1,
   "metadata": {},
   "outputs": [],
   "source": [
    "from bs4 import BeautifulSoup\n",
    "import requests\n",
    "\n",
    "website = 'https://subslikescript.com/movie/Titanic-120338'\n",
    "result = requests.get(website)\n",
    "content = result.text\n",
    "\n",
    "soup = BeautifulSoup(content, 'lxml')\n",
    "\n",
    "# print(soup.prettify())\n",
    "\n",
    "box = soup.find('article', class_=\"main-article\")\n",
    "\n",
    "title = box.find('h1').get_text()\n",
    "\n",
    "transcript = box.find('div', class_=\"full-script\").get_text(strip=True, separator=' ')\n",
    "\n",
    "# Exportar los datos en un archivo de texto con el nombre \"title\".\n",
    "with open(f'{title}.txt', 'w') as file:\n",
    "    file.write(transcript)"
   ]
  }
 ],
 "metadata": {
  "kernelspec": {
   "display_name": "base",
   "language": "python",
   "name": "python3"
  },
  "language_info": {
   "codemirror_mode": {
    "name": "ipython",
    "version": 3
   },
   "file_extension": ".py",
   "mimetype": "text/x-python",
   "name": "python",
   "nbconvert_exporter": "python",
   "pygments_lexer": "ipython3",
   "version": "3.9.5"
  }
 },
 "nbformat": 4,
 "nbformat_minor": 2
}
