{
 "cells": [
  {
   "cell_type": "markdown",
   "metadata": {},
   "source": [
    "### **Cambio de User-Agent**"
   ]
  },
  {
   "cell_type": "markdown",
   "metadata": {},
   "source": [
    "Voy a mostrarte diferentes formas de cambiar el user agent en Splash. Si no cambiamos el user agent enviaremos el request usando el user agent por defecto. Esto no es una buena práctica porque revelará que estamos usando Splash para scrapear la web. Así que lo que tenemos que hacer es cambiar el user agent para que parezca que estamos enviando peticiones usando Chrome. Seguiremos usando el script que escribimos en el vídeo anterior."
   ]
  },
  {
   "cell_type": "markdown",
   "metadata": {},
   "source": [
    "Usaremos el User Agent de Chrome:\n",
    "\n",
    "**`Mozilla/5.0 (Windows NT 10.0; Win64; x64) AppleWebKit/537.36 (KHTML, like Gecko) Chrome/122.0.0.0 Safari/537.36`**"
   ]
  },
  {
   "cell_type": "markdown",
   "metadata": {},
   "source": [
    "**PRIMERA FORMA DE CAMBIAR EL USER AGENT**\n",
    "\n",
    "<center><img src=\"https://i.postimg.cc/L5wmCdC8/ws-263.png\"></center>\n",
    "<center><img src=\"https://i.postimg.cc/QNyNx58Z/ws-264.png\"></center>"
   ]
  },
  {
   "cell_type": "markdown",
   "metadata": {},
   "source": [
    "**SEGUNDA FORMA DE CAMBIAR EL USER AGENT**\n",
    "\n",
    "Recuerde que la segunda forma de cambiar el user agent te permite también cambiar cualquier otro header, no sólo el user agent.\n",
    "\n",
    "<center><img src=\"https://i.postimg.cc/tCnq1TJZ/ws-265.png\"></center>\n",
    "<center><img src=\"https://i.postimg.cc/QNyNx58Z/ws-264.png\"></center>"
   ]
  },
  {
   "cell_type": "markdown",
   "metadata": {},
   "source": [
    "**TERCERA FORMA DE CAMBIAR EL USER AGENT**\n",
    "\n",
    "Esta última forma de cambiar el user agent no sólo ayudará a cambiar el user agent o el header, sino que también registrará una función callback que será llamada en cada request.\n",
    "\n",
    "<center><img src=\"https://i.postimg.cc/mgxb7s1d/ws-266.png\"></center>\n",
    "<center><img src=\"https://i.postimg.cc/QNyNx58Z/ws-264.png\"></center>"
   ]
  }
 ],
 "metadata": {
  "language_info": {
   "name": "python"
  }
 },
 "nbformat": 4,
 "nbformat_minor": 2
}
