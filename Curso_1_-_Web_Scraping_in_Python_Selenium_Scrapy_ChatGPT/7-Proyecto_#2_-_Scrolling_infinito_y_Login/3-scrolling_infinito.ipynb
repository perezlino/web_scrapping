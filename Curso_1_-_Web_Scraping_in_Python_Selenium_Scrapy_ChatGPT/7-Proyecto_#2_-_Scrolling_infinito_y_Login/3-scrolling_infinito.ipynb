{
 "cells": [
  {
   "cell_type": "markdown",
   "metadata": {},
   "source": [
    "### **Scrolling infinito**"
   ]
  },
  {
   "cell_type": "markdown",
   "metadata": {},
   "source": [
    "Vamos a utilizar el enlace:\n",
    "\n",
    "https://twitter.com/Support/status/1600561455488970752\n",
    "\n",
    "Corresponde a un tweet especifico, al cual, vamos a scrollear infinitamente para extraer sus comentarios"
   ]
  },
  {
   "cell_type": "markdown",
   "metadata": {},
   "source": [
    "Algunos sitios web, como Twitter, están construidos de tal forma que si se desplaza hacia abajo, se cargará más contenido. Esto se conoce como scrolling infinito. Y voy a decir que Selenium es la mejor opción para manejar el scrolling infinito."
   ]
  },
  {
   "cell_type": "markdown",
   "metadata": {},
   "source": [
    "Ahora tenemos que establecer la condición para que el código sólo se rompa cuando Selenium, después de desplazarse muchas veces llegue al final de la página web (del enlace del tweet, cargando asi el ultimo comentario posible durante 5 segundos). Así que podemos utilizar la altura como referencia porque a medida que Selenium hace scroll hacia abajo, hace que la altura aumente. Así que con cada nueva página, la pantalla va a aumentar. Pero cuando no hay más página para cargar, cuando Selenium llega al final de la página web y la altura de la pantalla es la misma, aquí es cuando el código se va a romper."
   ]
  },
  {
   "cell_type": "markdown",
   "metadata": {},
   "source": [
    "Este es un truco con el que Selenium puedo scrollear infinitamente, ya que, si no utilizamos este truco solo nos devolverá 5 comentarios o quizás 10."
   ]
  },
  {
   "cell_type": "code",
   "execution_count": null,
   "metadata": {},
   "outputs": [],
   "source": [
    "from selenium import webdriver\n",
    "from selenium.webdriver.common.by import By\n",
    "from selenium.webdriver.support.ui import WebDriverWait\n",
    "from selenium.webdriver.support import expected_conditions as EC\n",
    "import pandas as pd\n",
    "import time\n",
    "\n",
    "website = 'https://twitter.com/Support/status/1600561455488970752'\n",
    "driver = webdriver.Chrome(executable_path = r'C:\\Users\\Alfonso\\Downloads\\Programas\\chromedriver\\chromedriver.exe')\n",
    "driver.get(website)\n",
    "driver.maximize_window()\n",
    "\n",
    "#################### AGRFEGAMOS ESTO ####################\n",
    "\n",
    "# Obtener la altura inicial del scroll\n",
    "last_height = driver.execute_script(\"return document.body.scrollHeight\")\n",
    "while True:  # Siempre se ejecutará este loop hasta al momento que sea \"False\" o se ejecute el \"break\"\n",
    "    # Scroll hacia abajo hasta la parte inferior\n",
    "    # Este argumento \"document.body.scrollHeight\" nos indica la tamaño(size)/altura(height) de la página. Si escribimos este comando\n",
    "    # nos servirá para cualquier pantalla (1080, etc.)\n",
    "    driver.execute_script(\"window.scrollTo(0, document.body.scrollHeight);\")\n",
    "    # Esperar para cargar la página\n",
    "    time.sleep(5)\n",
    "    # Calcular la nueva altura del scroll y compararla con la última altura del scroll\n",
    "    new_height = driver.execute_script(\"return document.body.scrollHeight\")\n",
    "    if new_height == last_height:  # si la altura nueva y la última son iguales, significa que no hay ninguna página nueva que cargar, así que dejamos de hacer scroll\n",
    "        break\n",
    "    else:\n",
    "        last_height = new_height\n",
    "\n",
    "##########################################################        \n",
    "\n",
    "# def get_tweet(element):\n",
    "#     \"\"\"Esta función scrapea datos de tweets. Devuelve una lista con 2 elementos; nombre de usuario y texto\"\"\"\n",
    "#     try:\n",
    "#         user = element.find_element_by_xpath(\".//span[contains(text(), '@')]\").text  # Obtener el nombre de usuario\n",
    "#         text = element.find_element_by_xpath(\".//div[@lang]\").text  # Obtener el texto de la tarjeta\n",
    "#         tweets_data = [user, text]\n",
    "#     except:\n",
    "#         tweets_data = ['user', 'text']\n",
    "#     return tweets_data\n",
    "\n",
    "\n",
    "# user_data = []\n",
    "# text_data = []\n",
    "\n",
    "# tweets = WebDriverWait(driver, 5).until(EC.presence_of_all_elements_located((By.XPATH, \"//article[@role='article']\")))\n",
    "\n",
    "# for tweet in tweets:\n",
    "#     tweet_list = get_tweet(tweet) \n",
    "#     user_data.append(tweet_list[0])  \n",
    "#     text_data.append(\" \".join(tweet_list[1].split())) \n",
    "\n",
    "driver.quit()\n",
    "\n",
    "# df_tweets = pd.DataFrame({'user': user_data, 'text': text_data})\n",
    "# df_tweets.to_csv('tweets.csv', index=False)\n",
    "\n",
    "# print(df_tweets)"
   ]
  }
 ],
 "metadata": {
  "language_info": {
   "name": "python"
  }
 },
 "nbformat": 4,
 "nbformat_minor": 2
}
