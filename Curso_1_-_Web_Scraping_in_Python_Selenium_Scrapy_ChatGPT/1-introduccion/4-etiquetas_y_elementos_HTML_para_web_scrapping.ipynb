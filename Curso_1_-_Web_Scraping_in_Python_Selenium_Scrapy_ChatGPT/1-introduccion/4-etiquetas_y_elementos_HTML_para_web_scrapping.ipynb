{
 "cells": [
  {
   "cell_type": "markdown",
   "metadata": {},
   "source": [
    "### **Etiquetas y elementos HTML para web scrapping**"
   ]
  },
  {
   "cell_type": "markdown",
   "metadata": {},
   "source": [
    "#### ``Tags``"
   ]
  },
  {
   "cell_type": "markdown",
   "metadata": {},
   "source": [
    "La primera es la etiqueta \"``<head>``\". Representa la sección principal y se utiliza sobre todo para los metadatos. Luego tenemos la etiqueta \"``<body>``\". Ésta establece el cuerpo de un documento HTML, y la tercera es la etiqueta \"``<header>``\". No confundir con la etiqueta ``<head>``. La etiqueta ``<header>`` suele contener contenido introductorio y un diseño que va por encima del body. \n",
    "\n",
    "Y tenemos la etiqueta \"``<article>``\". Esta etiqueta es nueva en HTML5 y esta etiqueta se puede utilizar para contener entradas de errores, códigos, etc. Luego tenemos la etiqueta \"``<p>``\", que incluye este párrafo en un artículo, y luego tenemos que \"``<h1>``\", \"``<h2>``\" y \"``<h3>``\", que son encabezados de nivel. Así que ``<h1>`` es el encabezado de nivel uno, que es el encabezado o título de una página, y ``<h2>`` es el encabezado de nivel dos, es decir, el subtítulo de una página y así sucesivamente."
   ]
  },
  {
   "cell_type": "markdown",
   "metadata": {},
   "source": [
    "- `<head>`\n",
    "- `<body>`\n",
    "- `<header>`\n",
    "- `<article>`\n",
    "- `<p>`: paragraph\n",
    "- `<h1>, <h2>, <h3>`: heading"
   ]
  },
  {
   "cell_type": "markdown",
   "metadata": {},
   "source": [
    "Primero hay una etiqueta \"``<div>``\", que es un divisor o una especie de contenedor genérico. Luego está la etiqueta \"``<nav>``\" que se utiliza para especificar en la región de navegación con un documento como la barra de paginación, luego tenemos la etiqueta \"``<li>``\", que representa un elemento de lista con una lista de orden, y luego tenemos la etiqueta \"``<a>``\", \"a\" para \"ancla\", también conocido como hipervínculo o simplemente enlace para hacer un enlace real utilizando la etiqueta. Usamos el atributo \"href\"."
   ]
  },
  {
   "cell_type": "markdown",
   "metadata": {},
   "source": [
    "- `<div>`: divider\n",
    "- `<nav>`: navigational\n",
    "- `<li>`: list item\n",
    "- `<a>`: anchor\n",
    "    * `<a href=\"http://example.com\"> Text </a>`"
   ]
  },
  {
   "cell_type": "markdown",
   "metadata": {},
   "source": [
    "Así que primero tenemos la etiqueta \"``<button>``\". Este es un botón pacifies que se puede hacer clic. Se usa comúnmente con formularios. Luego tenemos la etiqueta \"``<table>``\" que se utiliza para hacer tablas en una página HTML. Luego está la etiqueta \"``<td>``\", que representa los datos de la tabla. Esto representa una celda de datos dentro de la tabla. Luego tenemos la etiqueta \"``<tr>``\", que es la etiqueta para el elemento de tabla. Esta etiqueta define una fila de celdas en una tabla y luego tenemos la etiqueta \"``<ul>``\", que es una lista desordenada. Esta se utiliza con la etiqueta \"``<li>``\" para hacer una lista ordenada. La última etiqueta es \"``<iframe>``\". Esta hace posible incrustar otra página dentro de una página en un archivo HTML. Esto se conoce como navegación anidada. Esto hace que a veces el web scrapping sea un poco complicado. Así que a veces tienes que cambiar entre un frame y otro frame. Pero eso no ocurre en los sitios web más antiguos. Así que tienes que reconocer si el sitio web que estás scrapeando tiene múltiples iframes o todo está contenido en un solo iframe."
   ]
  },
  {
   "cell_type": "markdown",
   "metadata": {},
   "source": [
    "- `<button>`\n",
    "- `<table>`\n",
    "- `<td>`: table data\n",
    "- `<tr>`: ntable row element\n",
    "- `<ul>`: unordered list\n",
    "- `<iframe>`"
   ]
  }
 ],
 "metadata": {
  "language_info": {
   "name": "python"
  }
 },
 "nbformat": 4,
 "nbformat_minor": 2
}
