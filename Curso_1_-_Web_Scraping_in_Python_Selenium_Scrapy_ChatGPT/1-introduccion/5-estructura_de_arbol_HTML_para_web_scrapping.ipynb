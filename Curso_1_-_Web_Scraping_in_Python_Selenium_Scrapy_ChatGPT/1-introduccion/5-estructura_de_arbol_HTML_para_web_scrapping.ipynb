{
 "cells": [
  {
   "cell_type": "markdown",
   "metadata": {},
   "source": [
    "### **Estructura de árbol HTML para web scrapping**"
   ]
  },
  {
   "cell_type": "markdown",
   "metadata": {},
   "source": [
    "#### ``Se recomienda encontrar los elementos en este orden``"
   ]
  },
  {
   "cell_type": "markdown",
   "metadata": {},
   "source": [
    "1. ID\n",
    "2. Class name\n",
    "3. Tag name, CSS selector\n",
    "4. XPath "
   ]
  }
 ],
 "metadata": {
  "language_info": {
   "name": "python"
  }
 },
 "nbformat": 4,
 "nbformat_minor": 2
}
