{
 "cells": [
  {
   "cell_type": "markdown",
   "metadata": {},
   "source": [
    "### **Fundamentos para Web Scrapping**"
   ]
  },
  {
   "cell_type": "markdown",
   "metadata": {},
   "source": [
    "#### ``Primera forma de exportar data``"
   ]
  },
  {
   "cell_type": "markdown",
   "metadata": {},
   "source": [
    "La primera forma es una de las más sencillas de exportar datos en Python es usando el \"with open() as\". Así que aquí en este \"modo de escritura (write)\" voy a crear un \"archivo TXT\" llamado \"test\". Este archivo será creado en nuestro directorio actual, básicamente en el directorio donde se encuentra este script de Python. "
   ]
  },
  {
   "cell_type": "code",
   "execution_count": 1,
   "metadata": {},
   "outputs": [],
   "source": [
    "with open('test.txt', 'w') as file:\n",
    "    file.write(\"Data exitosamente scrapeada!\")"
   ]
  },
  {
   "cell_type": "markdown",
   "metadata": {},
   "source": [
    "#### ``Segunda forma de exportar data``"
   ]
  },
  {
   "cell_type": "markdown",
   "metadata": {},
   "source": [
    "Voy a mostrarte la segunda forma de exportar los datos. En la primera forma, no necesitamos instalar ninguna librería de terceros. Solo usamos la keyword incorporada \"with\" con la keyword \"as\" y la función \"open\". Pero no instalamos ninguna librería de terceros. Pero para la segunda forma, tenemos que instalar la librería \"pandas\". Ya sabes, para instalar una biblioteca, tienes que ir a la terminal o un command prompt y luego tienes que escribir \"pip install pandas\"."
   ]
  },
  {
   "cell_type": "code",
   "execution_count": 2,
   "metadata": {},
   "outputs": [
    {
     "name": "stdout",
     "output_type": "stream",
     "text": [
      "       States  Population\n",
      "0  California    39613493\n",
      "1       Texas    29730311\n",
      "2     Florida    21944577\n",
      "3    New York    19299981\n"
     ]
    }
   ],
   "source": [
    "import pandas as pd\n",
    "\n",
    "states = [\"California\", \"Texas\", \"Florida\", \"New York\"]\n",
    "population = [39613493, 29730311, 21944577, 19299981]\n",
    "\n",
    "dict_states = {'States': states, 'Population': population}\n",
    "\n",
    "df_states = pd.DataFrame.from_dict(dict_states)\n",
    "\n",
    "print(df_states)"
   ]
  },
  {
   "cell_type": "markdown",
   "metadata": {},
   "source": [
    "**Para exportar data a un archivo CSV**. Si quisieramos el archivo sin la columna de indices debemos hacer lo siguiente:\n",
    "- ``df_states.to_csv('states.csv', index=False)``"
   ]
  },
  {
   "cell_type": "code",
   "execution_count": 3,
   "metadata": {},
   "outputs": [],
   "source": [
    "df_states.to_csv('states.csv')"
   ]
  },
  {
   "cell_type": "markdown",
   "metadata": {},
   "source": [
    "#### ``Manejo de errores: Try - Except``"
   ]
  },
  {
   "cell_type": "code",
   "execution_count": 4,
   "metadata": {},
   "outputs": [
    {
     "name": "stdout",
     "output_type": "stream",
     "text": [
      "1.0\n",
      "2.0\n",
      "3.0\n",
      "El elemento no es un número!\n"
     ]
    }
   ],
   "source": [
    "nueva_lista = [2, 4, 6, 'California']\n",
    "\n",
    "for elemento in nueva_lista:\n",
    "    try:\n",
    "        print(elemento/2)\n",
    "    except:\n",
    "        print(\"El elemento no es un número!\")"
   ]
  },
  {
   "cell_type": "markdown",
   "metadata": {},
   "source": [
    "#### ``Bucle \"while\"``"
   ]
  },
  {
   "cell_type": "markdown",
   "metadata": {},
   "source": [
    "El scrapeo de varias páginas se puede hacer fácilmente con Scrapy. Sin embargo, en Selenium y Beautiful soup, es posible que se necesite utilizar el bucle \"while\"."
   ]
  },
  {
   "cell_type": "code",
   "execution_count": 7,
   "metadata": {},
   "outputs": [
    {
     "name": "stdout",
     "output_type": "stream",
     "text": [
      "4\n",
      "3\n",
      "2\n",
      "1\n",
      "Mensaje final\n"
     ]
    }
   ],
   "source": [
    "n = 4\n",
    "\n",
    "while n > 0:\n",
    "    print(n)\n",
    "    n -= 1\n",
    "\n",
    "print('Mensaje final')"
   ]
  },
  {
   "cell_type": "code",
   "execution_count": 8,
   "metadata": {},
   "outputs": [
    {
     "name": "stdout",
     "output_type": "stream",
     "text": [
      "4\n",
      "3\n",
      "Mensaje final\n"
     ]
    }
   ],
   "source": [
    "n = 4\n",
    "\n",
    "while n > 0:\n",
    "    print(n)\n",
    "    n -= 1\n",
    "    if n==2:\n",
    "        break\n",
    "\n",
    "print('Mensaje final')"
   ]
  }
 ],
 "metadata": {
  "kernelspec": {
   "display_name": "base",
   "language": "python",
   "name": "python3"
  },
  "language_info": {
   "codemirror_mode": {
    "name": "ipython",
    "version": 3
   },
   "file_extension": ".py",
   "mimetype": "text/x-python",
   "name": "python",
   "nbconvert_exporter": "python",
   "pygments_lexer": "ipython3",
   "version": "3.9.5"
  }
 },
 "nbformat": 4,
 "nbformat_minor": 2
}
