{
 "cells": [
  {
   "cell_type": "markdown",
   "metadata": {},
   "source": [
    "### **Pipeline**"
   ]
  },
  {
   "cell_type": "markdown",
   "metadata": {},
   "source": [
    "En el archivo **`pipelines.py`** utilizaremos dos funciones extras en el código, estas son **`open_spider`** y **`close_spider`**. Enviaremos un mensaje al momento de scrapear para visualizar que estas se ejecutan al iniciar y al finalizar el scrapping respectivamente.\n",
    "\n",
    "<center><img src=\"https://i.postimg.cc/mD5thVcg/ws-163.png\"></center>\n",
    "<center><img src=\"https://i.postimg.cc/GpzBnbdY/ws-164.png\"></center>"
   ]
  },
  {
   "cell_type": "markdown",
   "metadata": {},
   "source": [
    "Se utilizará el mismo código que realizamos en la clase pasada en el archivo **`transcripts.py`**:"
   ]
  },
  {
   "cell_type": "code",
   "execution_count": null,
   "metadata": {},
   "outputs": [],
   "source": [
    "import scrapy\n",
    "from scrapy.linkextractors import LinkExtractor\n",
    "from scrapy.spiders import CrawlSpider, Rule\n",
    "\n",
    "\n",
    "class TranscriptsSpider(CrawlSpider):\n",
    "    name = 'transcripts'\n",
    "    allowed_domains = ['subslikescript.com']\n",
    "    # start_urls = ['https://subslikescript.com/movies_letter-X']\n",
    "\n",
    "    # Establecer una variable user agent\n",
    "    user_agent = 'Mozilla/5.0 (Windows NT 10.0; Win64; x64) AppleWebKit/537.36 (KHTML, like Gecko) Chrome/122.0.0.0 Safari/537.36'\n",
    "\n",
    "    # Editar el user agent en la request enviada\n",
    "    def start_requests(self):\n",
    "        yield scrapy.Request(url='https://subslikescript.com/movies_letter-X', headers={\n",
    "            'user-agent':self.user_agent\n",
    "        })\n",
    "\n",
    "    # Establecer reglas para el crawler \n",
    "    rules = (\n",
    "        Rule(LinkExtractor(restrict_xpaths=(\"//ul[@class='scripts-list']/a\")), callback='parse_item', follow=True, process_request='set_user_agent'),\n",
    "        Rule(LinkExtractor(restrict_xpaths=(\"(//a[@rel='next'])[1]\")), process_request='set_user_agent'),\n",
    "    )\n",
    "\n",
    "    # Configuración del user agent\n",
    "    def set_user_agent(self, request, spider):\n",
    "        request.headers['User-Agent'] = self.user_agent\n",
    "        return request\n",
    "\n",
    "    def parse_item(self, response):\n",
    "        # Obtener la caja del article que contiene los datos que queremos (title, plot, etc)\n",
    "        article = response.xpath(\"//article[@class='main-article']\")\n",
    "\n",
    "        # Extraer los datos que queremos y luego devolverlos\n",
    "        yield {\n",
    "            'title': article.xpath(\"./h1/text()\").get(),\n",
    "            'plot': article.xpath(\"./p/text()\").get(),\n",
    "            #'transcript': article.xpath(\"./div[@class='full-script']/text()\").getall(),\n",
    "            #'url': response.url,\n",
    "            #'user-agent': response.request.headers['User-Agent'],\n",
    "        }"
   ]
  },
  {
   "cell_type": "markdown",
   "metadata": {},
   "source": [
    "En el archivo **`settings.py`** vamos a duplicar el item existente y editar este \"**`SpiderTutorialPipeline`**\" y vamos a escribir \"**`NewAction`**\" que usaremos como ejemplo. Así que ahora cambiemos el número a **200** para mostrar lo que sucederá en este escenario. Así que aquí tenemos un ítem con **300** y el otro con **200**. Entonces lo que sucederá es que \"**`NewAction`**\" se ejecutará primero y luego \"**`SpiderTutorialPipeline`**\". Esto ocurre porque un número más bajo tiene una prioridad más alta. Ahora, voy a borrar esto y dejar estos ajustes como estaban en un principio.\n",
    "\n",
    "<center><img src=\"https://i.postimg.cc/fySkdXXj/ws-162.png\"></center>\n",
    "<center><img src=\"https://i.postimg.cc/SxFYWZgX/ws-161.png\"></center>\n",
    "<center><img src=\"https://i.postimg.cc/bN22SX9c/ws-160.png\"></center>"
   ]
  },
  {
   "cell_type": "markdown",
   "metadata": {},
   "source": [
    "Ahora vamos a ejecutar por terminal e identificaremos los mensajes que enviamos en las funciones nuevas que agregamos:\n",
    "\n",
    "<center><img src=\"https://i.postimg.cc/YC6G81Pd/ws-165.png\"></center>\n",
    "<center><img src=\"https://i.postimg.cc/hjjXSNtY/ws-167.png\"></center>\n",
    "<center><img src=\"https://i.postimg.cc/FKhf6Y5N/ws-166.png\"></center>"
   ]
  }
 ],
 "metadata": {
  "language_info": {
   "name": "python"
  }
 },
 "nbformat": 4,
 "nbformat_minor": 2
}
