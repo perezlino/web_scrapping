{
 "cells": [
  {
   "cell_type": "markdown",
   "metadata": {},
   "source": [
    "### **Instalación entorno virtual y scrapy**"
   ]
  },
  {
   "cell_type": "markdown",
   "metadata": {},
   "source": [
    "Me guie a través de este video:\n",
    "\n",
    "https://www.youtube.com/watch?v=JFg3Azcp3Gw\n",
    "\n",
    "Este es el enlace de la documentación de Scrapy:\n",
    "\n",
    "https://docs.scrapy.org/en/latest/intro/tutorial.html"
   ]
  },
  {
   "cell_type": "markdown",
   "metadata": {},
   "source": [
    "1. Ubicandonos en el directorio (ruta) en el que deseemos instalar el entorno virtual, ya desde la consola de VSCode o cmd o Powershell, escribimos el siguiente comando:"
   ]
  },
  {
   "cell_type": "code",
   "execution_count": null,
   "metadata": {
    "vscode": {
     "languageId": "shellscript"
    }
   },
   "outputs": [],
   "source": [
    "python -m venv .\\venv"
   ]
  },
  {
   "cell_type": "markdown",
   "metadata": {},
   "source": [
    "En mi caso yo lo hice en la ruta: **`C:\\github\\web_scrapping`** y utilizando **`cmd`**\n",
    "\n",
    "<center><img src=\"https://i.postimg.cc/s2HnnJJv/ws-37.png\"></center>\n",
    "\n",
    "<center><img src=\"https://i.postimg.cc/rw1XY7dz/ws-40.png\"></center>"
   ]
  },
  {
   "cell_type": "markdown",
   "metadata": {},
   "source": [
    "2. Luego activamos el entorno (desde **`cmd`**):\n",
    "\n",
    "<center><img src=\"https://i.postimg.cc/x8nbMwbH/ws-38.png\"></center>"
   ]
  },
  {
   "cell_type": "markdown",
   "metadata": {},
   "source": [
    "3. Instalamos Scrapy dentro del entorno:\n",
    "\n",
    "<center><img src=\"https://i.postimg.cc/RZHVCPWz/ws-39.png\"></center>"
   ]
  },
  {
   "cell_type": "markdown",
   "metadata": {},
   "source": [
    "4. Ingresaos al entorno utilizando la ruta **`venv\\Scripts\\activate`**. Luego, revisamos si la instalación de Scrapy se hizo correctamente y vemos su versión:\n",
    "\n",
    "<center><img src=\"https://i.postimg.cc/mDzGVk7W/ws-41.png\"></center>"
   ]
  }
 ],
 "metadata": {
  "language_info": {
   "name": "python"
  }
 },
 "nbformat": 4,
 "nbformat_minor": 2
}
