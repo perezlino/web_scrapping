{
 "cells": [
  {
   "cell_type": "markdown",
   "metadata": {},
   "source": [
    "### **Comandos Shell (terminal) en Scrapy**"
   ]
  },
  {
   "cell_type": "markdown",
   "metadata": {},
   "source": [
    "Comenzamos escribiendo el comando **`scrapy shell`**:\n",
    "\n",
    "<center><img src=\"https://i.postimg.cc/pXVMvgfR/ws-51.png\"></center>\n",
    "\n",
    "Luego, escribimos los comandos **`r = scrapy.Request(url ='https://www.worldometers.info/world-population/population-by-country/')`**:\n",
    "\n",
    "<center><img src=\"https://i.postimg.cc/YSWJ8kHf/ws-52.png\"></center>\n",
    "\n",
    "y **`fetch(r)`**:\n",
    "\n",
    "<center><img src=\"https://i.postimg.cc/nzfNP5V8/ws-53.png\"></center>\n",
    "\n",
    "Podemos ver el HTML de este website escribiendo **`response.body`**:\n",
    "\n",
    "<center><img src=\"https://i.postimg.cc/Bnyrxbdn/ws-54.png\"></center>\n",
    "<center><img src=\"https://i.postimg.cc/6q9g9vGY/ws-55.png\"></center>\n",
    "\n",
    "También podemos encontrar elementos utilizando Xpath:\n",
    "\n",
    "<center><img src=\"https://i.postimg.cc/mgtxzCpn/ws-56.png\"></center>\n",
    "\n",
    "De esta manera podemos obtener TODOS LOS PAISES listados en el website:\n",
    "\n",
    "<center><img src=\"https://i.postimg.cc/kMcLTfkZ/ws-57.png\"></center>\n",
    "<center><img src=\"https://i.postimg.cc/WzXKt1Gj/ws-58.png\"></center>\n",
    "<center><img src=\"https://i.postimg.cc/B65R9gtj/ws-59.png\"></center>"
   ]
  }
 ],
 "metadata": {
  "language_info": {
   "name": "python"
  }
 },
 "nbformat": 4,
 "nbformat_minor": 2
}
