{
 "cells": [
  {
   "cell_type": "markdown",
   "metadata": {},
   "source": [
    "### **Selección de elementos en un Dropdown**"
   ]
  },
  {
   "cell_type": "markdown",
   "metadata": {},
   "source": [
    "Desde el mismo sitio con el que hemos trabajado en este capitulo, vamos a inspeccionar el **`Dropdown`** de \"**`Select Country`**\":"
   ]
  },
  {
   "cell_type": "markdown",
   "metadata": {},
   "source": [
    "<center><img src=\"https://i.postimg.cc/DwDLpnJ7/ws-9.png\"></center>\n",
    "\n",
    "<center><img src=\"https://i.postimg.cc/GpyYZVGG/ws-10.png\"></center>"
   ]
  },
  {
   "cell_type": "markdown",
   "metadata": {},
   "source": [
    "Este es el código que realizamos con las clases para la versión **`selenium==3.141.0`** que instalamos"
   ]
  },
  {
   "cell_type": "markdown",
   "metadata": {},
   "source": [
    "Vamos a extraer solo los datos de \"**`Spain`**\" escogido desde el Dropdown:"
   ]
  },
  {
   "cell_type": "code",
   "execution_count": 1,
   "metadata": {},
   "outputs": [
    {
     "name": "stdout",
     "output_type": "stream",
     "text": [
      "           date   home_team  score   away_team\n",
      "0    14-08-2023       Cadiz  1 - 0      Alaves\n",
      "1    21-08-2023      Alaves  4 - 3     Sevilla\n",
      "2    28-08-2023      Getafe  1 - 0      Alaves\n",
      "3    02-09-2023      Alaves  1 - 0    Valencia\n",
      "4    15-09-2023   Vallecano  2 - 0      Alaves\n",
      "..          ...         ...    ...         ...\n",
      "515  27-01-2024   Barcelona  3 - 5  Villarreal\n",
      "516  04-02-2024  Villarreal  0 - 0       Cadiz\n",
      "517  10-02-2024      Alaves  1 - 1  Villarreal\n",
      "518  16-02-2024  Villarreal  1 - 1      Getafe\n",
      "519  23-02-2024    Sociedad  ? - ?  Villarreal\n",
      "\n",
      "[520 rows x 4 columns]\n"
     ]
    }
   ],
   "source": [
    "from selenium import webdriver\n",
    "from selenium.webdriver.support.ui import Select\n",
    "import pandas as pd\n",
    "import time\n",
    "\n",
    "website = 'https://www.adamchoi.co.uk/overs/detailed'\n",
    "# Se recomienda utilizar Chrome, pero podriamos utilizar Firefox, Safari, Edge, etc.\n",
    "driver = webdriver.Chrome(executable_path = r'C:\\Users\\Alfonso\\Downloads\\Programas\\chromedriver\\chromedriver.exe')\n",
    "driver.get(website)\n",
    "\n",
    "all_matches_button = driver.find_element_by_xpath('//label[@analytics-event=\"All matches\"]')\n",
    "all_matches_button.click()\n",
    "\n",
    "# seleccionar dropdown y seleccionar elemento dentro por texto visible, que en este caso será \"Spain\"\n",
    "dropdown = Select(driver.find_element_by_id('country'))\n",
    "dropdown.select_by_visible_text('Spain')\n",
    "# espera implícita (útil en sitios web controlados por JavaScript cuando los elementos necesitan segundos para cargarse \n",
    "# y evitar el error \"ElementNotVisibleException\")\n",
    "time.sleep(3)\n",
    "\n",
    "# seleccionar elementos en la tabla\n",
    "matches = driver.find_elements_by_tag_name('tr')\n",
    "\n",
    "date = []\n",
    "home_team = []\n",
    "score = []\n",
    "away_team = []\n",
    "\n",
    "# Así que como puedes ver aquí, ya no estamos usando \"driver.find_element_by_xpath()\", porque queremos usar el contexto \"match\". \n",
    "# Así que queremos tener \"matches\" como referencia para nuestro XPath. Así que si queremos usar ese contexto \"match\", tienes que \n",
    "# escribir \"match\" en lugar de driver. Y luego en el XPath, tienes que escribir el signo de \"punto\", porque ese signo de punto \n",
    "# especifica que quieres usar el contexto actual y luego tenemos que construir ese XPath.\n",
    "\n",
    "for match in matches:\n",
    "    date.append(match.find_element_by_xpath('./td[1]').text)\n",
    "    home_team.append(match.find_element_by_xpath('./td[2]').text)\n",
    "    score.append(match.find_element_by_xpath('./td[3]').text)\n",
    "    away_team.append(match.find_element_by_xpath('./td[4]').text)\n",
    "\n",
    "driver.quit() # Nos sirve para cerrar la ventana que se nos abre\n",
    "    \n",
    "# Crear Dataframe en Pandas y exportar a CSV (Excel)\n",
    "df = pd.DataFrame({'date': date, 'home_team': home_team, 'score': score, 'away_team': away_team})\n",
    "df.to_csv('football_data.csv', index=False)\n",
    "print(df)"
   ]
  },
  {
   "cell_type": "markdown",
   "metadata": {},
   "source": [
    "Código que nos serviría si utilizamos Selenium 4"
   ]
  },
  {
   "cell_type": "code",
   "execution_count": null,
   "metadata": {},
   "outputs": [],
   "source": [
    "from selenium import webdriver\n",
    "from selenium.webdriver.chrome.service import Service\n",
    "from selenium.webdriver.support.ui import Select\n",
    "import pandas as pd\n",
    "import time\n",
    "\n",
    "# define the website to scrape and path where the chromediver is located\n",
    "website = 'https://www.adamchoi.co.uk/overs/detailed'\n",
    "path = '/Users/frankandrade/Downloads/chromedriver'  # write your path here\n",
    "service = Service(executable_path=path)  # selenium 4\n",
    "driver = webdriver.Chrome(service=service)  # define 'driver' variable\n",
    "# open Google Chrome with chromedriver\n",
    "driver.get(website)\n",
    "\n",
    "# locate and click on a button\n",
    "all_matches_button = driver.find_element(by='xpath', value='//label[@analytics-event=\"All matches\"]')\n",
    "all_matches_button.click()\n",
    "\n",
    "# select dropdown and select element inside by visible text\n",
    "dropdown = Select(driver.find_element(by='id', value='country'))\n",
    "dropdown.select_by_visible_text('Spain')\n",
    "# implicit wait (useful in JavaScript driven websites when elements need seconds to load and avoid error \"ElementNotVisibleException\")\n",
    "time.sleep(3)\n",
    "\n",
    "# select elements in the table\n",
    "matches = driver.find_elements(by='xpath', value='//tr')\n",
    "\n",
    "# storage data in lists\n",
    "date = []\n",
    "home_team = []\n",
    "score = []\n",
    "away_team = []\n",
    "\n",
    "# looping through the matches list\n",
    "for match in matches:\n",
    "    date.append(match.find_element(by='xpath', value='./td[1]').text)\n",
    "    home = match.find_element(by='xpath', value='./td[2]').text\n",
    "    home_team.append(home)\n",
    "    print(home)\n",
    "    score.append(match.find_element(by='xpath', value='./td[3]').text)\n",
    "    away_team.append(match.find_element(by='xpath', value='./td[4]').text)\n",
    "\n",
    "# quit drive we opened at the beginning\n",
    "driver.quit()\n",
    "\n",
    "# Create Dataframe in Pandas and export to CSV (Excel)\n",
    "df = pd.DataFrame({'date': date, 'home_team': home_team, 'score': score, 'away_team': away_team})\n",
    "df.to_csv('football_data.csv', index=False)\n",
    "print(df)"
   ]
  }
 ],
 "metadata": {
  "kernelspec": {
   "display_name": "base",
   "language": "python",
   "name": "python3"
  },
  "language_info": {
   "codemirror_mode": {
    "name": "ipython",
    "version": 3
   },
   "file_extension": ".py",
   "mimetype": "text/x-python",
   "name": "python",
   "nbconvert_exporter": "python",
   "pygments_lexer": "ipython3",
   "version": "3.9.5"
  }
 },
 "nbformat": 4,
 "nbformat_minor": 2
}
