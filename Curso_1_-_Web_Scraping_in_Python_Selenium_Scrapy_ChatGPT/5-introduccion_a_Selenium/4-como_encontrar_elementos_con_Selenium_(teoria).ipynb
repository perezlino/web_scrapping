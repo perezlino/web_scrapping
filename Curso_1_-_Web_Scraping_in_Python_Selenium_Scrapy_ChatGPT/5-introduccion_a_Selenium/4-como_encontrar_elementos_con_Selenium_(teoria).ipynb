{
 "cells": [
  {
   "cell_type": "markdown",
   "metadata": {},
   "source": [
    "### **Cómo encontrar elementos con Selenium (Teoría)**"
   ]
  },
  {
   "cell_type": "markdown",
   "metadata": {},
   "source": [
    "En este vídeo, aprenderás a encontrar elementos con Selenium. En Selenium, utilizamos el driver para encontrar elementos. Esto es similar al objeto \"soup\" que creamos con BeautifulSoup, pero con el driver, podemos scrapear sitios web que ejecutan JavaScript. Con Selenium tenemos diferentes opciones para localizar elementos. Podemos encontrar elementos por ID, name, XPath, LinkText, TagName, class name y CSS selector. Veamos un ejemplo de cómo localizar un elemento por su ID. Para localizar un elemento por su ID tenemos que escribir: "
   ]
  },
  {
   "cell_type": "code",
   "execution_count": null,
   "metadata": {},
   "outputs": [],
   "source": [
    "driver.find_element_by_id('id_name')"
   ]
  },
  {
   "cell_type": "markdown",
   "metadata": {},
   "source": [
    "Lo mismo ocurre con los class names y otros elementos. Sólo tenemos que escribir:"
   ]
  },
  {
   "cell_type": "code",
   "execution_count": null,
   "metadata": {},
   "outputs": [],
   "source": [
    "driver.find_element_by_class_name('class_name')"
   ]
  },
  {
   "cell_type": "markdown",
   "metadata": {},
   "source": [
    "Ahora veamos algunos ejemplos con este código HTML que hemos visto antes:"
   ]
  },
  {
   "cell_type": "code",
   "execution_count": null,
   "metadata": {
    "vscode": {
     "languageId": "html"
    }
   },
   "outputs": [],
   "source": [
    "<article class=\"main-article\">\n",
    "    <h1> Titanic 1997 </h1>\n",
    "    <p class=\"plot\"> 84 years later ... </p>\n",
    "    <div class=\"full-script\"> 13 meters. You ... </div>\n",
    "</article>"
   ]
  },
  {
   "cell_type": "markdown",
   "metadata": {},
   "source": [
    "Digamos que queremos localizar el article, el title, el plot y la transcript. Así que para el elemento article podemos utilizar \"class name\"."
   ]
  },
  {
   "cell_type": "code",
   "execution_count": null,
   "metadata": {},
   "outputs": [],
   "source": [
    "driver.find_element_by_class_name('main-article')"
   ]
  },
  {
   "cell_type": "markdown",
   "metadata": {},
   "source": [
    "Hacemos lo mismo con el plot y la transcript."
   ]
  },
  {
   "cell_type": "code",
   "execution_count": null,
   "metadata": {},
   "outputs": [],
   "source": [
    "driver.find_element_by_class_name('plot')\n",
    "driver.find_element_by_class_name('full-script')"
   ]
  },
  {
   "cell_type": "markdown",
   "metadata": {},
   "source": [
    "Ahora también puede localizar elementos por TagNames. Esto se utiliza con frecuencia cuando se desea localizar varios elementos con el mismo Tag Name, por ejemplo, filas dentro de una tabla."
   ]
  },
  {
   "cell_type": "code",
   "execution_count": null,
   "metadata": {},
   "outputs": [],
   "source": [
    "driver.find_element_by_tag_name('tag')"
   ]
  },
  {
   "cell_type": "markdown",
   "metadata": {},
   "source": [
    "Ahora vamos a localizar los mismos elementos, pero ahora por TagName. Vamos a localizar el title, que está dentro de una etiqueta `<h1>`, el plot dentro de una etiqueta `<p>` y la transcripción dentro de una etiqueta `<div>`. Así que para localizarlos, escribimos:"
   ]
  },
  {
   "cell_type": "code",
   "execution_count": null,
   "metadata": {},
   "outputs": [],
   "source": [
    "driver.find_element_by_tag_name('h1')\n",
    "driver.find_element_by_tag_name('p')\n",
    "driver.find_element_by_tag_name('div')"
   ]
  },
  {
   "cell_type": "markdown",
   "metadata": {},
   "source": [
    "Veamos cómo encontrar elementos mediante XPath. XPath es a veces la mejor manera de encontrar un elemento. Si usamos XPath para encontrar un elemento, podemos estar seguros de que lo encontraremos. Para localizar un elemento por XPath tenemos que escribir:"
   ]
  },
  {
   "cell_type": "code",
   "execution_count": null,
   "metadata": {},
   "outputs": [],
   "source": [
    "driver.find_element_by_xpath('//tag[@AttributeName=\"Value\"]')"
   ]
  },
  {
   "cell_type": "markdown",
   "metadata": {},
   "source": [
    "Como he mencionado antes, hay otras formas de encontrar elementos en Selenium, por ejemplo:"
   ]
  },
  {
   "cell_type": "code",
   "execution_count": null,
   "metadata": {},
   "outputs": [],
   "source": [
    "driver.find_element_by_css_selector()\n",
    "driver.find_element_by_name()\n",
    "driver.find_element_by_link_text()"
   ]
  },
  {
   "cell_type": "markdown",
   "metadata": {},
   "source": [
    "En caso de que desee localizar varios elementos en Selenium, debe escribir:"
   ]
  },
  {
   "cell_type": "code",
   "execution_count": null,
   "metadata": {},
   "outputs": [],
   "source": [
    "driver.find_elements_by_class_name()"
   ]
  },
  {
   "cell_type": "markdown",
   "metadata": {},
   "source": [
    "Esto es extremadamente útil cuando se desea localizar varios elementos con el mismo ClassName o TagName. Ten en cuenta que cuando utilices \"`find_elements`\", obtendrás una lista. La lista contendrá todos los elementos que extraigas. Esto es diferente de \"`find_element`\" porque \"find_element\" devuelve un solo elemento y no una lista."
   ]
  },
  {
   "cell_type": "markdown",
   "metadata": {},
   "source": [
    "Otras cosas que puedes localizar con Selenium son los \"`drop downs`\", incluso puedes elegir cualquier elemento listado en un \"`drop down`\".\n"
   ]
  }
 ],
 "metadata": {
  "language_info": {
   "name": "python"
  }
 },
 "nbformat": 4,
 "nbformat_minor": 2
}
