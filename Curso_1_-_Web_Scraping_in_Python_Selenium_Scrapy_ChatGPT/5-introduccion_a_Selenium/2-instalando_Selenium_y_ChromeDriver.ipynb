{
 "cells": [
  {
   "cell_type": "markdown",
   "metadata": {},
   "source": [
    "### **Instalando Selenium y ChromeDriver**"
   ]
  },
  {
   "cell_type": "markdown",
   "metadata": {},
   "source": [
    "Para descargar **`CHromeDriver`** nos dirigimos a la siguiente página:\n",
    "\n",
    "https://chromedriver.chromium.org/downloads\n",
    "\n",
    "Yo descargue la siguiente:\n",
    "\n",
    "https://storage.googleapis.com/chrome-for-testing-public/122.0.6261.57/win64/chromedriver-win64.zip"
   ]
  },
  {
   "cell_type": "markdown",
   "metadata": {},
   "source": [
    "Para instalar **`Selenium`**:\n",
    "\n",
    "En esta sección aprenderemos a scrapear sitios web dinámicos con Selenium. Ten en cuenta que la versión de Selenium que estoy usando en este curso es la 3.141.0. Cuando llegues a la clase donde te muestro cómo instalar Selenium, asegúrate de instalarlo ejecutando el siguiente comando:\n",
    "\n",
    "`pip install selenium==3.141.0`\n",
    "\n",
    "Si instalas cualquier otra versión, el código podría dejar de funcionar. De todas formas, Selenium 3 y 4 son muy similares. Sólo notarás cambios en el nombre de las funciones. Puedes ver las diferencias en la sintaxis en la hoja de trucos adjunta a las primeras clases. Además, actualicé dos scripts de este curso a Selenium 4, para que puedas ver la diferencia en acción (esos scripts funcionan bien en Selenium 4.1.3)"
   ]
  }
 ],
 "metadata": {
  "language_info": {
   "name": "python"
  }
 },
 "nbformat": 4,
 "nbformat_minor": 2
}
