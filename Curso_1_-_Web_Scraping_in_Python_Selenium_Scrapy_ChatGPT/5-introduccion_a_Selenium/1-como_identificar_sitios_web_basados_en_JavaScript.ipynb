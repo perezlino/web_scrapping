{
 "cells": [
  {
   "cell_type": "markdown",
   "metadata": {},
   "source": [
    "### **Cómo identificar sitios web basados en JavaScript**"
   ]
  },
  {
   "cell_type": "markdown",
   "metadata": {},
   "source": [
    "Una de las razones por las que tenemos que aprender Selenium es porque nos permite scrapear sitios web controlados por JavaScript. Con esto, vamos a ser capaces de scrapear sitios web con contenido dinámico. Pero, ¿cómo podemos identificar si un sitio web fue construido con JavaScript? Puedes echar un vistazo al sitio web y comprobar si los datos se cargan dinámicamente. Pero una forma mejor de averiguar si un sitio web ejecuta JavaScript es \"inspeccionando\" el sitio web. Te lo mostraré. Estoy en el sitio web de Twitter y quiero saber si este sitio web ejecuta JavaScript. Así que voy a hacer clic con el botón derecho y luego en \"Inspeccionar\". Después de esto, tendrás las herramientas para desarrolladores. Y para saber si este sitio web ejecuta JavaScript, ve a la opción \"Configuración\" que está a la derecha. Así que voy a hacer clic ahí y luego vas a ver la pestaña de \"Preferencias\", luego desplázate hacia abajo y busca la sección de \"Debugger\". Y dentro de Debugger, verás una casilla que dice \"Desactivar JavaScript\". Así que si lo marcamos, si el sitio web deja de funcionar o no carga todos los datos, significa que ejecuta JavaScript."
   ]
  },
  {
   "cell_type": "markdown",
   "metadata": {},
   "source": [
    "Así que cuando quieras saber si necesitas Selenium para scrapear un sitio web, primero, desactiva JavaScript y luego mira si el sitio web necesita JavaScript para cargar los datos que quieres."
   ]
  },
  {
   "cell_type": "markdown",
   "metadata": {},
   "source": [
    "<center><img src=\"https://i.postimg.cc/s2JmPC9M/ws-3.png\"></center>\n",
    "<center><img src=\"https://i.postimg.cc/HkV6CNgK/ws-1.png\"></center>\n",
    "<center><img src=\"https://i.postimg.cc/d3VxZtbQ/ws-2.png\"></center>"
   ]
  }
 ],
 "metadata": {
  "language_info": {
   "name": "python"
  }
 },
 "nbformat": 4,
 "nbformat_minor": 2
}
