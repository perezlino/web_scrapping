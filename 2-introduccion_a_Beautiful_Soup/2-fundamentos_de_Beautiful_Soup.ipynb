{
 "cells": [
  {
   "cell_type": "markdown",
   "metadata": {},
   "source": [
    "### **Fundamentos de Beautiful Soup**"
   ]
  },
  {
   "cell_type": "markdown",
   "metadata": {},
   "source": [
    "En este video, aprendemos los conceptos básicos de Beautiful Soup. Beautiful soup es la librería python más fácil de usar para hacer web scrapping. Puede extraer datos de HTML en archivos XML. Sin embargo, Beautiful Soup tiene algunas dependencias, como la necesidad de la biblioteca \"request\" para hacer peticiones al sitio web y el uso de parser externo para estructurar los datos. Por ejemplo, parser XML y HTML. Estas dependencias complican la transferencia de código entre proyectos. Por eso Beautiful Soup no es la primera opción para grandes proyectos de web scrapping. \n",
    "\n",
    "Para scrapear sitios web con Beautiful soup, primero tenemos que importar dos librerías, importar \"BeautifulSoup\" de \"bs4\" y también importar \"requests\". \n",
    "\n",
    "Ahora algunos de los pasos típicos a seguir para scrapear un sitio web con Beautiful soup son obtener la página, obtener el contenido de la página y luego crear una soup. Para obtener una página tenemos que escribir \"requests.get\" y luego entre paréntesis el sitio web, por ejemplo, \"google.com\". Cuando envías requests a sitios web, obtienes una respuesta, en este caso, la nombro como variable \"result\". Luego para obtener el contenido de este sitio web, escribimos \"result.text\" con esto obtendremos ese código HTML detrás del sitio web. Por último, tenemos que crear un objeto \"soup\" para localizar elementos con Beautiful soup. Para ello, tenemos que parsear (estructurar) el contenido. Así que en este caso, escribimos el parser \"lxml\", para parsear el contenido. \n"
   ]
  },
  {
   "cell_type": "code",
   "execution_count": 5,
   "metadata": {},
   "outputs": [
    {
     "data": {
      "text/plain": [
       "<!DOCTYPE html>\n",
       "<html itemscope=\"\" itemtype=\"http://schema.org/WebPage\" lang=\"es-419\"><head><meta content=\"text/html; charset=utf-8\" http-equiv=\"Content-Type\"/><meta content=\"/images/branding/googleg/1x/googleg_standard_color_128dp.png\" itemprop=\"image\"/><title>Google</title><script nonce=\"v4JjWFHwsFnkd8sZa9WeNw\">(function(){var _g={kEI:'SXPPZcX4IM3H5OUPrcOwgAw',kEXPI:'0,1365467,207,2414,2390,1132070,1963,1195757,1022,379749,44798,23792,12312,17587,4998,17075,38444,2872,2891,4140,4209,3405,606,29843,825,19391,13245,13721,20583,4,57402,2215,27044,6630,7596,1,42154,2,38003,1758,6700,31122,4568,6255,24673,33064,2,2,1,26632,8155,23351,22435,9779,42459,20198,73179,3030,15816,1804,21011,5397,8585,12089,477,1155,22864,28193,5215444,2,1643,389,74,49,5990949,1861,412,2806254,31650,3,127,1,9,1,2,1,75,8,363,25,9,7443186,19234367,1305642,14297,2376,43886,3,1603,3,499,3,2121276,2585,22636438,392913,12799,8408,10755,148,5762,13023,4428,1225,7441,5,1905,5878,14606,2849,7650,5887,1923,3479,4823,286,2370,6197,210,10461,3335,50,12952,2212,149,2070,3056,2693,214,4135,3781,218,3,363,2262,2482,375,4126,5,3308,1078,3082,1897,2531,13,1673,463,879,581,2274,3417,680,3,6433,303,1017,2047,1402,327,1486,1651,1470,2536,1111,2,4,96,4158,9,3594,2871,655,298,1264,3,539,72,419,185,527,2119,122,762,12,338,392,155,109,234,63,1069,905,104,237,184,388,696,4,1267,49,10,2,2,2,132,4,801,1,324,55,178,1,63,495,93,50,58,1464,851,163,311,143,264,272,383,523,80,188,1018,157,100,1076,695,720,171,5,239,16,1065,1979,450,46,542,821,2,1,62,560,136,504,7,127,120,2,429,317,134,90,230,14,3753,2096,24,275,24,279,25,851,138,192,1,4,323,1789,21695490,3,2801,967,1804',kBL:'7_tZ',kOPI:89978449};(function(){var a;(null==(a=window.google)?0:a.stvsc)?google.kEI=_g.kEI:window.google=_g;}).call(this);})();(function(){google.sn='webhp';google.kHL='es-419';})();(function(){\n",
       "var h=this||self;function l(){return void 0!==window.google&&void 0!==window.google.kOPI&&0!==window.google.kOPI?window.google.kOPI:null};var m,n=[];function p(a){for(var b;a&&(!a.getAttribute||!(b=a.getAttribute(\"eid\")));)a=a.parentNode;return b||m}function q(a){for(var b=null;a&&(!a.getAttribute||!(b=a.getAttribute(\"leid\")));)a=a.parentNode;return b}function r(a){/^http:/i.test(a)&&\"https:\"===window.location.protocol&&(google.ml&&google.ml(Error(\"a\"),!1,{src:a,glmm:1}),a=\"\");return a}\n",
       "function t(a,b,c,d,k){var e=\"\";-1===b.search(\"&ei=\")&&(e=\"&ei=\"+p(d),-1===b.search(\"&lei=\")&&(d=q(d))&&(e+=\"&lei=\"+d));d=\"\";var g=-1===b.search(\"&cshid=\")&&\"slh\"!==a,f=[];f.push([\"zx\",Date.now().toString()]);h._cshid&&g&&f.push([\"cshid\",h._cshid]);c=c();null!=c&&f.push([\"opi\",c.toString()]);for(c=0;c<f.length;c++){if(0===c||0<c)d+=\"&\";d+=f[c][0]+\"=\"+f[c][1]}return\"/\"+(k||\"gen_204\")+\"?atyp=i&ct=\"+String(a)+\"&cad=\"+(b+e+d)};m=google.kEI;google.getEI=p;google.getLEI=q;google.ml=function(){return null};google.log=function(a,b,c,d,k,e){e=void 0===e?l:e;c||(c=t(a,b,e,d,k));if(c=r(c)){a=new Image;var g=n.length;n[g]=a;a.onerror=a.onload=a.onabort=function(){delete n[g]};a.src=c}};google.logUrl=function(a,b){b=void 0===b?l:b;return t(\"\",a,b)};}).call(this);(function(){google.y={};google.sy=[];google.x=function(a,b){if(a)var c=a.id;else{do c=Math.random();while(google.y[c])}google.y[c]=[a,b];return!1};google.sx=function(a){google.sy.push(a)};google.lm=[];google.plm=function(a){google.lm.push.apply(google.lm,a)};google.lq=[];google.load=function(a,b,c){google.lq.push([[a],b,c])};google.loadAll=function(a,b){google.lq.push([a,b])};google.bx=!1;google.lx=function(){};var d=[];google.fce=function(a,b,c,e){d.push([a,b,c,e])};google.qce=d;}).call(this);google.f={};(function(){\n",
       "document.documentElement.addEventListener(\"submit\",function(b){var a;if(a=b.target){var c=a.getAttribute(\"data-submitfalse\");a=\"1\"===c||\"q\"===c&&!a.elements.q.value?!0:!1}else a=!1;a&&(b.preventDefault(),b.stopPropagation())},!0);document.documentElement.addEventListener(\"click\",function(b){var a;a:{for(a=b.target;a&&a!==document.documentElement;a=a.parentElement)if(\"A\"===a.tagName){a=\"1\"===a.getAttribute(\"data-nohref\");break a}a=!1}a&&b.preventDefault()},!0);}).call(this);</script><style>#gbar,#guser{font-size:13px;padding-top:1px !important;}#gbar{height:22px}#guser{padding-bottom:7px !important;text-align:right}.gbh,.gbd{border-top:1px solid #c9d7f1;font-size:1px}.gbh{height:0;position:absolute;top:24px;width:100%}@media all{.gb1{height:22px;margin-right:.5em;vertical-align:top}#gbar{float:left}}a.gb1,a.gb4{text-decoration:underline !important}a.gb1,a.gb4{color:#00c !important}.gbi .gb4{color:#dd8e27 !important}.gbf .gb4{color:#900 !important}\n",
       "</style><style>body,td,a,p,.h{font-family:arial,sans-serif}body{margin:0;overflow-y:scroll}#gog{padding:3px 8px 0}td{line-height:.8em}.gac_m td{line-height:17px}form{margin-bottom:20px}.h{color:#1967d2}em{font-weight:bold;font-style:normal}.lst{height:25px;width:496px}.gsfi,.lst{font:18px arial,sans-serif}.gsfs{font:17px arial,sans-serif}.ds{display:inline-box;display:inline-block;margin:3px 0 4px;margin-left:4px}input{font-family:inherit}body{background:#fff;color:#000}a{color:#681da8;text-decoration:none}a:hover,a:active{text-decoration:underline}.fl a{color:#1967d2}a:visited{color:#681da8}.sblc{padding-top:5px}.sblc a{display:block;margin:2px 0;margin-left:13px;font-size:11px}.lsbb{background:#f8f9fa;border:solid 1px;border-color:#dadce0 #70757a #70757a #dadce0;height:30px}.lsbb{display:block}#WqQANb a{display:inline-block;margin:0 12px}.lsb{background:url(/images/nav_logo229.png) 0 -261px repeat-x;color:#000;border:none;cursor:pointer;height:30px;margin:0;outline:0;font:15px arial,sans-serif;vertical-align:top}.lsb:active{background:#dadce0}.lst:focus{outline:none}</style><script nonce=\"v4JjWFHwsFnkd8sZa9WeNw\">(function(){window.google.erd={jsr:1,bv:1956,de:true};\n",
       "var h=this||self;var k,l=null!=(k=h.mei)?k:1,n,p=null!=(n=h.sdo)?n:!0,q=0,r,t=google.erd,v=t.jsr;google.ml=function(a,b,d,m,e){e=void 0===e?2:e;b&&(r=a&&a.message);void 0===d&&(d={});d.cad=\"ple_\"+google.ple+\".aple_\"+google.aple;if(google.dl)return google.dl(a,e,d),null;b=d;if(0>v){window.console&&console.error(a,b);if(-2===v)throw a;b=!1}else b=!a||!a.message||\"Error loading script\"===a.message||q>=l&&!m?!1:!0;if(!b)return null;q++;d=d||{};b=encodeURIComponent;var c=\"/gen_204?atyp=i&ei=\"+b(google.kEI);google.kEXPI&&(c+=\"&jexpid=\"+b(google.kEXPI));c+=\"&srcpg=\"+b(google.sn)+\"&jsr=\"+b(t.jsr)+\"&bver=\"+\n",
       "b(t.bv);var f=a.lineNumber;void 0!==f&&(c+=\"&line=\"+f);var g=a.fileName;g&&(0<g.indexOf(\"-extension:/\")&&(e=3),c+=\"&script=\"+b(g),f&&g===window.location.href&&(f=document.documentElement.outerHTML.split(\"\\n\")[f],c+=\"&cad=\"+b(f?f.substring(0,300):\"No script found.\")));google.ple&&1===google.ple&&(e=2);c+=\"&jsel=\"+e;for(var u in d)c+=\"&\",c+=b(u),c+=\"=\",c+=b(d[u]);c=c+\"&emsg=\"+b(a.name+\": \"+a.message);c=c+\"&jsst=\"+b(a.stack||\"N/A\");12288<=c.length&&(c=c.substr(0,12288));a=c;m||google.log(0,\"\",a);return a};window.onerror=function(a,b,d,m,e){r!==a&&(a=e instanceof Error?e:Error(a),void 0===d||\"lineNumber\"in a||(a.lineNumber=d),void 0===b||\"fileName\"in a||(a.fileName=b),google.ml(a,!1,void 0,!1,\"SyntaxError\"===a.name||\"SyntaxError\"===a.message.substring(0,11)||-1!==a.message.indexOf(\"Script error\")?3:0));r=null;p&&q>=l&&(window.onerror=null)};})();</script></head><body bgcolor=\"#fff\"><script nonce=\"v4JjWFHwsFnkd8sZa9WeNw\">(function(){var src='/images/nav_logo229.png';var iesg=false;document.body.onload = function(){window.n && window.n();if (document.images){new Image().src=src;}\n",
       "if (!iesg){document.f&&document.f.q.focus();document.gbqf&&document.gbqf.q.focus();}\n",
       "}\n",
       "})();</script><div id=\"mngb\"><div id=\"gbar\"><nobr><b class=\"gb1\">Búsqueda</b> <a class=\"gb1\" href=\"https://www.google.com/imghp?hl=es-419&amp;tab=wi\">Imágenes</a> <a class=\"gb1\" href=\"http://maps.google.cl/maps?hl=es-419&amp;tab=wl\">Maps</a> <a class=\"gb1\" href=\"https://play.google.com/?hl=es-419&amp;tab=w8\">Play</a> <a class=\"gb1\" href=\"https://www.youtube.com/?tab=w1\">YouTube</a> <a class=\"gb1\" href=\"https://news.google.com/?tab=wn\">Noticias</a> <a class=\"gb1\" href=\"https://mail.google.com/mail/?tab=wm\">Gmail</a> <a class=\"gb1\" href=\"https://drive.google.com/?tab=wo\">Drive</a> <a class=\"gb1\" href=\"https://www.google.cl/intl/es-419/about/products?tab=wh\" style=\"text-decoration:none\"><u>Más</u> »</a></nobr></div><div id=\"guser\" width=\"100%\"><nobr><span class=\"gbi\" id=\"gbn\"></span><span class=\"gbf\" id=\"gbf\"></span><span id=\"gbe\"></span><a class=\"gb4\" href=\"http://www.google.cl/history/optout?hl=es-419\">Historial web</a> | <a class=\"gb4\" href=\"/preferences?hl=es-419\">Preferencias</a> | <a class=\"gb4\" href=\"https://accounts.google.com/ServiceLogin?hl=es-419&amp;passive=true&amp;continue=http://www.google.com/&amp;ec=GAZAAQ\" id=\"gb_70\" target=\"_top\">Acceder</a></nobr></div><div class=\"gbh\" style=\"left:0\"></div><div class=\"gbh\" style=\"right:0\"></div></div><center><br clear=\"all\" id=\"lgpd\"/><div id=\"lga\"><img alt=\"Google\" height=\"92\" id=\"hplogo\" src=\"/images/branding/googlelogo/1x/googlelogo_white_background_color_272x92dp.png\" style=\"padding:28px 0 14px\" width=\"272\"/><br/><br/></div><form action=\"/search\" name=\"f\"><table cellpadding=\"0\" cellspacing=\"0\"><tr valign=\"top\"><td width=\"25%\"> </td><td align=\"center\" nowrap=\"\"><input name=\"ie\" type=\"hidden\" value=\"ISO-8859-1\"/><input name=\"hl\" type=\"hidden\" value=\"es-419\"/><input name=\"source\" type=\"hidden\" value=\"hp\"/><input name=\"biw\" type=\"hidden\"/><input name=\"bih\" type=\"hidden\"/><div class=\"ds\" style=\"height:32px;margin:4px 0\"><input autocomplete=\"off\" class=\"lst\" maxlength=\"2048\" name=\"q\" size=\"57\" style=\"margin:0;padding:5px 8px 0 6px;vertical-align:top;color:#000\" title=\"Buscar con Google\" value=\"\"/></div><br style=\"line-height:0\"/><span class=\"ds\"><span class=\"lsbb\"><input class=\"lsb\" name=\"btnG\" type=\"submit\" value=\"Buscar con Google\"/></span></span><span class=\"ds\"><span class=\"lsbb\"><input class=\"lsb\" id=\"tsuid_1\" name=\"btnI\" type=\"submit\" value=\"Voy a tener suerte\"/><script nonce=\"v4JjWFHwsFnkd8sZa9WeNw\">(function(){var id='tsuid_1';document.getElementById(id).onclick = function(){if (this.form.q.value){this.checked = 1;if (this.form.iflsig)this.form.iflsig.disabled = false;}\n",
       "else top.location='/doodles/';};})();</script><input name=\"iflsig\" type=\"hidden\" value=\"ANes7DEAAAAAZc-BWbqVn07URCqQKMkXzCd-7F5EYJbs\"/></span></span></td><td align=\"left\" class=\"fl sblc\" nowrap=\"\" width=\"25%\"><a href=\"/advanced_search?hl=es-419&amp;authuser=0\">Búsqueda avanzada</a></td></tr></table><input id=\"gbv\" name=\"gbv\" type=\"hidden\" value=\"1\"/><script nonce=\"v4JjWFHwsFnkd8sZa9WeNw\">(function(){var a,b=\"1\";if(document&&document.getElementById)if(\"undefined\"!=typeof XMLHttpRequest)b=\"2\";else if(\"undefined\"!=typeof ActiveXObject){var c,d,e=[\"MSXML2.XMLHTTP.6.0\",\"MSXML2.XMLHTTP.3.0\",\"MSXML2.XMLHTTP\",\"Microsoft.XMLHTTP\"];for(c=0;d=e[c++];)try{new ActiveXObject(d),b=\"2\"}catch(h){}}a=b;if(\"2\"==a&&-1==location.search.indexOf(\"&gbv=2\")){var f=google.gbvu,g=document.getElementById(\"gbv\");g&&(g.value=a);f&&window.setTimeout(function(){location.href=f},0)};}).call(this);</script></form><div id=\"gac_scont\"></div><div style=\"font-size:83%;min-height:3.5em\"><br/></div><span id=\"footer\"><div style=\"font-size:10pt\"><div id=\"WqQANb\" style=\"margin:19px auto;text-align:center\"><a href=\"/intl/es-419/ads/\">Publicidad</a><a href=\"/services/\">Soluciones Empresariales</a><a href=\"/intl/es-419/about.html\">Todo acerca de Google</a><a href=\"http://www.google.com/setprefdomain?prefdom=CL&amp;prev=http://www.google.cl/&amp;sig=K_YlQUKmrUpsqX4GL2frXPoKVX4i0%3D\">Google.cl</a></div></div><p style=\"font-size:8pt;color:#70757a\">© 2024 - <a href=\"/intl/es-419/policies/privacy/\">Privacidad</a> - <a href=\"/intl/es-419/policies/terms/\">Condiciones</a></p></span></center><script nonce=\"v4JjWFHwsFnkd8sZa9WeNw\">(function(){window.google.cdo={height:757,width:1440};(function(){var a=window.innerWidth,b=window.innerHeight;if(!a||!b){var c=window.document,d=\"CSS1Compat\"==c.compatMode?c.documentElement:c.body;a=d.clientWidth;b=d.clientHeight}\n",
       "if(a&&b&&(a!=google.cdo.width||b!=google.cdo.height)){var e=google,f=e.log,g=\"/client_204?&atyp=i&biw=\"+a+\"&bih=\"+b+\"&ei=\"+google.kEI,h=\"\",k=[],l=void 0!==window.google&&void 0!==window.google.kOPI&&0!==window.google.kOPI?window.google.kOPI:null;null!=l&&k.push([\"opi\",l.toString()]);for(var m=0;m<k.length;m++){if(0===m||0<m)h+=\"&\";h+=k[m][0]+\"=\"+k[m][1]}f.call(e,\"\",\"\",g+h)};}).call(this);})();</script> <script nonce=\"v4JjWFHwsFnkd8sZa9WeNw\">(function(){google.xjs={ck:'xjs.hp.ZU-Q_30tJc0.L.X.O',combam:'AAAAAAAAAAAAAAAAAAAAAAAAAAACAAAAAAAcAABAABAAAABgAAAAAAAAACAAOIiOAGAAjgAA8AI',cs:'ACT90oHkQFgHc4D1ed4TWTq4abuowSjdjg',cssam:'AAAAAAAAAAAAAAAAAAAAAAAAAAAAAAAAAAAAAABAABAAAAAAAAAAAAAAACA',cssopt:false,csss:'ACT90oHcDsR-fdvADjO9BEp9vVu_7Dq9Pw',excm:[],jsam:'AAAAAAAAAAAAAAAAAAAAAAAAAAACAAAAAAAcAAAAAAAAAABgAAAAAAAAAAAAOIiOAGAAjgAA8AI',jss:'ACT90oGnXdUjjw83PElOhtaLydlfe7znww',noinlinecss:false,sepam:false,sepcss:false};})();</script> <script nonce=\"v4JjWFHwsFnkd8sZa9WeNw\">(function(){var u='/xjs/_/js/k\\x3dxjs.hp.en.qvErnQpsjqE.O/am\\x3dAAAAAAAAAAAAAAAAAAAAAAAAAAACAAAAAAAcAABAABAAAABgAAAAAAAAACAAOIiOAGAAjgAA8AI/d\\x3d1/ed\\x3d1/rs\\x3dACT90oGnXdUjjw83PElOhtaLydlfe7znww/m\\x3dsb_he,d';var amd=0;\n",
       "var e=this||self,f=function(a){return a};var g;var h=function(a){this.g=a};h.prototype.toString=function(){return this.g+\"\"};var k={};var l=function(){var a=document;var b=\"SCRIPT\";\"application/xhtml+xml\"===a.contentType&&(b=b.toLowerCase());return a.createElement(b)};\n",
       "function m(a,b){a.src=b instanceof h&&b.constructor===h?b.g:\"type_error:TrustedResourceUrl\";var c,d;(c=(b=null==(d=(c=(a.ownerDocument&&a.ownerDocument.defaultView||window).document).querySelector)?void 0:d.call(c,\"script[nonce]\"))?b.nonce||b.getAttribute(\"nonce\")||\"\":\"\")&&a.setAttribute(\"nonce\",c)};function n(a){a=null===a?\"null\":void 0===a?\"undefined\":a;if(void 0===g){var b=null;var c=e.trustedTypes;if(c&&c.createPolicy){try{b=c.createPolicy(\"goog#html\",{createHTML:f,createScript:f,createScriptURL:f})}catch(d){e.console&&e.console.error(d.message)}g=b}else g=b}a=(b=g)?b.createScriptURL(a):a;return new h(a,k)};void 0===google.ps&&(google.ps=[]);function p(){var a=u,b=function(){};google.lx=google.stvsc?b:function(){q(a);google.lx=b};google.bx||google.lx()}function r(a,b){b&&m(a,n(b));var c=a.onload;a.onload=function(d){c&&c(d);google.ps=google.ps.filter(function(t){return a!==t})};google.ps.push(a);document.body.appendChild(a)}google.as=r;function q(a){google.timers&&google.timers.load&&google.tick&&google.tick(\"load\",\"xjsls\");var b=l();b.onerror=function(){google.ple=1};b.onload=function(){google.ple=0};google.xjsus=void 0;r(b,a);google.aple=-1;google.psa=!0};google.xjsu=u;e._F_jsUrl=u;setTimeout(function(){0<amd?google.caft(function(){return p()},amd):p()},0);})();window._ = window._ || {};window._DumpException = _._DumpException = function(e){throw e;};window._s = window._s || {};_s._DumpException = _._DumpException;window._qs = window._qs || {};_qs._DumpException = _._DumpException;(function(){var t=[1,0,0,0,0,2560,0,268436487,528384,33652736,8388608,655360,9340984,37257600,3080192];window._F_toggles = window._xjs_toggles = t;})();function _F_installCss(c){}\n",
       "(function(){google.jl={bfl:0,blt:'none',chnk:0,dw:false,dwu:true,emtn:0,end:0,ico:false,ikb:0,ine:false,injs:'none',injt:0,injth:0,injv2:false,lls:'default',pdt:0,rep:0,snet:true,strt:0,ubm:false,uwp:true};})();(function(){var pmc='{\\x22d\\x22:{},\\x22sb_he\\x22:{\\x22agen\\x22:false,\\x22cgen\\x22:false,\\x22client\\x22:\\x22heirloom-hp\\x22,\\x22dh\\x22:true,\\x22ds\\x22:\\x22\\x22,\\x22fl\\x22:true,\\x22host\\x22:\\x22google.com\\x22,\\x22jsonp\\x22:true,\\x22msgs\\x22:{\\x22cibl\\x22:\\x22Borrar b\\\\u00fasqueda\\x22,\\x22dym\\x22:\\x22Quiz\\\\u00e1s quisiste decir:\\x22,\\x22lcky\\x22:\\x22Voy a tener suerte\\x22,\\x22lml\\x22:\\x22M\\\\u00e1s informaci\\\\u00f3n\\x22,\\x22psrc\\x22:\\x22Se ha eliminado esta b\\\\u00fasqueda de tu \\\\u003Ca href\\x3d\\\\\\x22/history\\\\\\x22\\\\u003EHistorial web\\\\u003C/a\\\\u003E\\x22,\\x22psrl\\x22:\\x22Eliminar\\x22,\\x22sbit\\x22:\\x22Buscar por im\\\\u00e1genes\\x22,\\x22srch\\x22:\\x22Buscar con Google\\x22},\\x22ovr\\x22:{},\\x22pq\\x22:\\x22\\x22,\\x22rfs\\x22:[],\\x22sbas\\x22:\\x220 3px 8px 0 rgba(0,0,0,0.2),0 0 0 1px rgba(0,0,0,0.08)\\x22,\\x22stok\\x22:\\x22yIQaJpmJfIkJhV8LMzlvBG1XkDU\\x22}}';google.pmc=JSON.parse(pmc);})();(function(){var b=function(a){var c=0;return function(){return c<a.length?{done:!1,value:a[c++]}:{done:!0}}};\n",
       "var e=this||self;var g,h;a:{for(var k=[\"CLOSURE_FLAGS\"],l=e,n=0;n<k.length;n++)if(l=l[k[n]],null==l){h=null;break a}h=l}var p=h&&h[610401301];g=null!=p?p:!1;var q,r=e.navigator;q=r?r.userAgentData||null:null;function t(a){return g?q?q.brands.some(function(c){return(c=c.brand)&&-1!=c.indexOf(a)}):!1:!1}function u(a){var c;a:{if(c=e.navigator)if(c=c.userAgent)break a;c=\"\"}return-1!=c.indexOf(a)};function v(){return g?!!q&&0<q.brands.length:!1}function w(){return u(\"Safari\")&&!(x()||(v()?0:u(\"Coast\"))||(v()?0:u(\"Opera\"))||(v()?0:u(\"Edge\"))||(v()?t(\"Microsoft Edge\"):u(\"Edg/\"))||(v()?t(\"Opera\"):u(\"OPR\"))||u(\"Firefox\")||u(\"FxiOS\")||u(\"Silk\")||u(\"Android\"))}function x(){return v()?t(\"Chromium\"):(u(\"Chrome\")||u(\"CriOS\"))&&!(v()?0:u(\"Edge\"))||u(\"Silk\")}function y(){return u(\"Android\")&&!(x()||u(\"Firefox\")||u(\"FxiOS\")||(v()?0:u(\"Opera\"))||u(\"Silk\"))};var z=v()?!1:u(\"Trident\")||u(\"MSIE\");y();x();w();Object.freeze(new function(){});Object.freeze(new function(){});var A=!z&&!w(),D=function(a){if(/-[a-z]/.test(\"ved\"))return null;if(A&&a.dataset){if(y()&&!(\"ved\"in a.dataset))return null;a=a.dataset.ved;return void 0===a?null:a}return a.getAttribute(\"data-\"+\"ved\".replace(/([A-Z])/g,\"-$1\").toLowerCase())};var E=[],F=null;function G(a){a=a.target;var c=performance.now(),f=[],H=f.concat,d=E;if(!(d instanceof Array)){var m=\"undefined\"!=typeof Symbol&&Symbol.iterator&&d[Symbol.iterator];if(m)d=m.call(d);else if(\"number\"==typeof d.length)d={next:b(d)};else throw Error(\"a`\"+String(d));for(var B=[];!(m=d.next()).done;)B.push(m.value);d=B}E=H.call(f,d,[c]);if(a&&a instanceof HTMLElement)if(a===F){if(c=4<=E.length)c=5>(E[E.length-1]-E[E.length-4])/1E3;if(c){c=google.getEI(a);a.hasAttribute(\"data-ved\")?f=a?D(a)||\"\":\"\":f=(f=\n",
       "a.closest(\"[data-ved]\"))?D(f)||\"\":\"\";f=f||\"\";if(a.hasAttribute(\"jsname\"))a=a.getAttribute(\"jsname\");else{var C;a=null==(C=a.closest(\"[jsname]\"))?void 0:C.getAttribute(\"jsname\")}google.log(\"rcm\",\"&ei=\"+c+\"&ved=\"+f+\"&jsname=\"+(a||\"\"))}}else F=a,E=[c]}window.document.addEventListener(\"DOMContentLoaded\",function(){document.body.addEventListener(\"click\",G)});}).call(this);</script></body></html>"
      ]
     },
     "execution_count": 5,
     "metadata": {},
     "output_type": "execute_result"
    }
   ],
   "source": [
    "# Obtención de la página (obtención de un objeto respuesta)\n",
    "from bs4 import BeautifulSoup\n",
    "import requests\n",
    "\n",
    "result = requests.get(\"http://www.google.com\")\n",
    "\n",
    "# Contenido de la página\n",
    "contenido = result.text\n",
    "\n",
    "# Crear un soup\n",
    "soup = BeautifulSoup(contenido, \"lxml\")\n",
    "\n",
    "soup"
   ]
  },
  {
   "cell_type": "markdown",
   "metadata": {},
   "source": [
    "Tras esto deberíamos obtener el objeto \"soup\" que nos ayudará a localizar cualquier elemento que queramos. Por ejemplo, si queremos localizar un elemento por el \"ID\", escribimos \"soup.find\" y dentro de paréntesis especificamos el argumento \"ID\" y dentro de comillas, escribimos el valor del ID."
   ]
  },
  {
   "cell_type": "code",
   "execution_count": null,
   "metadata": {},
   "outputs": [],
   "source": [
    "soup.find(id=\"specific_id\")"
   ]
  },
  {
   "cell_type": "markdown",
   "metadata": {},
   "source": [
    "Ahora si queremos localizar un elemento por el nombre de la clase, escribimos \"soup.find\" y dentro de paréntesis el primer argumento debe ser el nombre de la etiqueta. Así que escribimos el nombre de la etiqueta entre comillas. En el segundo argumento debe estar el nombre de la clase, así que escribimos \"class_=\" y luego dentro de las comillas, escribimos el valor del nombre de la clase. "
   ]
  },
  {
   "cell_type": "code",
   "execution_count": null,
   "metadata": {},
   "outputs": [],
   "source": [
    "soup.find('tag', class_=\"nombre_clase\")"
   ]
  },
  {
   "cell_type": "markdown",
   "metadata": {},
   "source": [
    "Ahora para ver algunos ejemplos, revisemos este código HTML básico que hemos visto antes. Así que tiene un artículo como raíz, en ``<h1>``, ``<p>`` y ``<div>`` como elementos atados. Digamos que queremos localizar el elemento \"article\" por su nombre de clase, así que deberíamos escribir"
   ]
  },
  {
   "cell_type": "code",
   "execution_count": null,
   "metadata": {
    "vscode": {
     "languageId": "html"
    }
   },
   "outputs": [],
   "source": [
    "<article class=\"main-article\">\n",
    "    <h1> Titanic 1997 </h1>\n",
    "    <p class=\"plot\"> 84 years later ... </p>\n",
    "    <div class=\"full-script\"> 13 meters. You ... </div>\n",
    "</article>"
   ]
  },
  {
   "cell_type": "code",
   "execution_count": 7,
   "metadata": {},
   "outputs": [],
   "source": [
    "soup.find('article', class_=\"main_article\")"
   ]
  },
  {
   "cell_type": "markdown",
   "metadata": {},
   "source": [
    "¿Y si queremos localizar el elemento ``<h1>``? No tiene ID ni nombre de clase. De todas formas, aún podemos localizarlo:"
   ]
  },
  {
   "cell_type": "code",
   "execution_count": null,
   "metadata": {},
   "outputs": [],
   "source": [
    "soup.find('article', class_=\"main_article\")\n",
    "soup.find('h1')"
   ]
  },
  {
   "cell_type": "markdown",
   "metadata": {},
   "source": [
    "Así que en caso de que no tengas ese ID o la clase, todavía puedes localizar un elemento por su nombre de etiqueta.\n",
    "\n",
    "Ahora si queremos localizar múltiples elementos por su nombre de etiqueta, tenemos que usar \"**`find_all`**\" en lugar de \"**`find`**\". Así que vamos a imaginar que tenemos múltiples elementos ``<h2>`` para que podamos localizar a todos ellos escribiendo:"
   ]
  },
  {
   "cell_type": "code",
   "execution_count": null,
   "metadata": {},
   "outputs": [],
   "source": [
    "soup.find_all(\"h2\") # -------------> List [a,b,c,d]"
   ]
  },
  {
   "cell_type": "markdown",
   "metadata": {},
   "source": [
    "Ten en cuenta que \"find_all\" devuelve una lista mientras que \"find\" sólo devuelve un elemento. Esto ocurre porque find_all obtiene múltiples elementos por lo que todos los elementos se almacenarán en una lista. Para trabajar con esos elementos probablemente tendrás que utilizar un bucle for"
   ]
  }
 ],
 "metadata": {
  "kernelspec": {
   "display_name": "base",
   "language": "python",
   "name": "python3"
  },
  "language_info": {
   "codemirror_mode": {
    "name": "ipython",
    "version": 3
   },
   "file_extension": ".py",
   "mimetype": "text/x-python",
   "name": "python",
   "nbconvert_exporter": "python",
   "pygments_lexer": "ipython3",
   "version": "3.9.5"
  }
 },
 "nbformat": 4,
 "nbformat_minor": 2
}
